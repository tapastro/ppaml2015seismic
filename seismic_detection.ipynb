{
 "cells": [
  {
   "cell_type": "code",
   "execution_count": 1,
   "metadata": {
    "collapsed": true
   },
   "outputs": [],
   "source": [
    "import sys\n",
    "sys.path.append('/usr/local/lib/python2.7/dist-packages/')"
   ]
  },
  {
   "cell_type": "code",
   "execution_count": 2,
   "metadata": {
    "collapsed": false
   },
   "outputs": [],
   "source": [
    "from venture.shortcuts import *\n",
    "import venture.lite.builtin as bp\n",
    "import venture.lite.types as t\n",
    "import venture.lite.psp as psp\n",
    "import numpy as np\n",
    "import scipy.stats as sp\n",
    "import matplotlib.pyplot as plt\n",
    "from util import *\n",
    "from collections import defaultdict\n",
    "\n",
    "%matplotlib inline"
   ]
  },
  {
   "cell_type": "code",
   "execution_count": 3,
   "metadata": {
    "collapsed": false
   },
   "outputs": [],
   "source": [
    "v=make_lite_venture_script_ripl()\n",
    "v.bind_foreign_sp(\"compute_distance\", bp.deterministic_typed(compute_distance2, \n",
    "                  [t.NumberType()]*3,t.NumberType()))\n",
    "v.bind_foreign_sp(\"compute_azimuth\", bp.deterministic_typed(compute_azimuth2, \n",
    "                  [t.NumberType()]*3,t.NumberType()))\n",
    "\n",
    "class BoundedExponOutputPSP(psp.RandomPSP):\n",
    "  # TODO don't need to be class methods\n",
    "  def simulateNumeric(self,mu,theta,gamma):\n",
    "    while True:\n",
    "        x = mu + sp.expon.rvs(scale=1.0/theta)\n",
    "        if x < gamma:\n",
    "            return x\n",
    "  def logDensityNumeric(self,x,mu,theta,gamma):\n",
    "    nontailmass = sp.expon.logcdf(gamma - mu,scale=1.0/theta)\n",
    "    return sp.expon.logpdf(x - mu,scale=1.0/theta) - nontailmass\n",
    "\n",
    "  def simulate(self,args): return self.simulateNumeric(*args.operandValues())\n",
    "  def logDensity(self,x,args): return self.logDensityNumeric(x,*args.operandValues())\n",
    "\n",
    "  def gradientOfLogDensity(self,x,args):\n",
    "    mu,theta,gamma = args.operandValues()\n",
    "    nontailmass = sp.expon.cdf(gamma - mu,scale=1.0/theta)\n",
    "    gradX = -theta\n",
    "    gradTheta = 1.0 / nontailmass / theta - (x - mu)\n",
    "    return (gradX,[gradTheta])\n",
    "\n",
    "  def description(self,name):\n",
    "    return \"  %s(theta) returns a sample from an exponential distribution with rate (inverse scale) parameter theta.\" % name\n",
    "\n",
    "\n",
    "v.bind_foreign_sp(\"bounded_expon\", bp.typed_nr(BoundedExponOutputPSP(), [t.NumberType()]*3,t.NumberType()))"
   ]
  },
  {
   "cell_type": "markdown",
   "metadata": {},
   "source": [
    "## Initialize Priors\n",
    "\n",
    "In the next block, I initialize all parameters of a physical world description via the prior distributions given in the problem description file. I set the assumptions in my ripl layer while defining the variables locally, then set all local variables into the namedTuple physicsPriors."
   ]
  },
  {
   "cell_type": "code",
   "execution_count": 4,
   "metadata": {
    "collapsed": false
   },
   "outputs": [],
   "source": [
    "lenst = len(STATIONS)\n",
    "\n",
    "physPriorParamNames = [\"T\", \"R\", \"lambda_e\", \"mu_m\", \"theta_m\", \"gamma_m\", \"mu_d0\", \"mu_d1\", \"mu_d2\",\n",
    "  \"mu_t\", \"theta_t\", \"mu_z\", \"theta_z\", \"mu_s\", \"theta_s\",\n",
    "  \"mu_a0\", \"mu_a1\", \"mu_a2\", \"sigma_a\",\n",
    "  \"lambda_f\", \"mu_f\", \"theta_f\"]\n",
    "\n",
    "T = v.assume('T','3600.')\n",
    "R = v.assume('R','6371.')\n",
    "lambda_e = v.assume('lambda_e','gamma(6.0,(4*3.1415927*6371**2*3600))')\n",
    "mu_m = v.assume('mu_m','3.0')\n",
    "theta_m = v.assume('theta_m','4.0')\n",
    "gamma_m = v.assume('gamma_m','6.0')\n",
    "v.assume('mu_d_covar','matrix(list(list(13.43,-2.36,-0.0122),list(-2.36,0.452,0.000112),list(-0.0122,0.000112,0.000125)))')\n",
    "v.assume('mu_a_covar','matrix(list(list(1.23, -0.227, -0.000175),list(-0.227,0.0461,0.0000245),list(-0.000175,0.0000245,0.000000302)))')\n",
    "\n",
    "v.assume('mu_d','mem( proc(k) { multivariate_normal(vector(-10.4,3.26,-0.0499),mu_d_covar) })')\n",
    "v.assume('mu_t','mem( proc(k) { 0.0 } )')\n",
    "v.assume('theta_t','mem( proc(k) { inv_gamma(120,118) } )')\n",
    "v.assume('mu_z','mem( proc(k) { 0.0 } )')\n",
    "v.assume('theta_z','mem( proc(k) { inv_gamma(5.2,44) } )')\n",
    "v.assume('mu_s','mem( proc(k) { 0.0 } )')\n",
    "v.assume('theta_s','mem( proc(k) { inv_gamma(6.7,7.5) } )')\n",
    "v.assume('mu_a','mem( proc(k) { multivariate_normal(vector(-7.3,2.03,-0.00196),mu_a_covar) })')\n",
    "v.assume('sigma_a','mem( proc(k) { (inv_gamma(21.1,12.6)**0.5) } )')\n",
    "v.assume('lambda_f','mem( proc(k) { gamma(2.1,1 / 0.0013) } )')\n",
    "v.assume('mu_f','mem( proc(k) { normal(-0.68,0.68) } )')\n",
    "v.assume('theta_f','mem( proc(k) { inv_gamma(23.5,12.45) } )')\n",
    "\n",
    "mu_d = np.zeros((lenst,3))\n",
    "mu_t = np.zeros(lenst)\n",
    "theta_t = np.zeros(lenst)\n",
    "mu_z = np.zeros(lenst)\n",
    "theta_z = np.zeros(lenst)\n",
    "mu_s = np.zeros(lenst)\n",
    "theta_s = np.zeros(lenst)\n",
    "mu_a = np.zeros((lenst,3))\n",
    "sigma_a = np.zeros(lenst)\n",
    "lambda_f = np.zeros(lenst)\n",
    "mu_f = np.zeros(lenst)\n",
    "theta_f = np.zeros(lenst)\n",
    "\n",
    "\n",
    "pp = []\n",
    "for i in range(len(STATIONS)):\n",
    "    mu_d[i] = v.sample('mu_d({0})'.format(i))\n",
    "    mu_t[i] = v.sample('mu_t({0})'.format(i))\n",
    "    theta_t[i] = v.sample('theta_t({0})'.format(i))\n",
    "    mu_z[i] = v.sample('mu_z({0})'.format(i))\n",
    "    theta_z[i] = v.sample('theta_z({0})'.format(i))\n",
    "    mu_s[i] = v.sample('mu_s({0})'.format(i))\n",
    "    theta_s[i] = v.sample('theta_s({0})'.format(i))\n",
    "    mu_a[i] = v.sample('mu_a({0})'.format(i))\n",
    "    sigma_a[i] = v.sample('sigma_a({0})'.format(i))\n",
    "    lambda_f[i] = v.sample('lambda_f({0})'.format(i))\n",
    "    mu_f[i] = v.sample('mu_f({0})'.format(i))\n",
    "    theta_f[i] = v.sample('theta_f({0})'.format(i))\n",
    "    \n",
    "\n",
    "physicsPriors = Physics(T=T, R=R, \n",
    "                        lambda_e=lambda_e,\n",
    "                        mu_m=mu_m, theta_m=theta_m, gamma_m=gamma_m, \n",
    "                        mu_d0=[item[0] for item in mu_d],\n",
    "                        mu_d1=[item[1] for item in mu_d],\n",
    "                        mu_d2=[item[2] for item in mu_d],\n",
    "                        mu_t=mu_t,\n",
    "                        theta_t=theta_t,\n",
    "                        mu_z=mu_z,\n",
    "                        theta_z=theta_z,\n",
    "                        mu_s=mu_s,\n",
    "                        theta_s=theta_s,\n",
    "                        mu_a0=[item[0] for item in mu_a],\n",
    "                        mu_a1=[item[1] for item in mu_a],\n",
    "                        mu_a2=[item[2] for item in mu_a],\n",
    "                        sigma_a=sigma_a,\n",
    "                        lambda_f=lambda_f,\n",
    "                        mu_f=mu_f,\n",
    "                        theta_f=theta_f,)\n"
   ]
  },
  {
   "cell_type": "markdown",
   "metadata": {
    "collapsed": true
   },
   "source": [
    "##Set Model Dependencies from Observations to Background Parameters\n",
    "\n",
    "In the next block, I set all model dependencies so that my training data will affect the background physics parameters."
   ]
  },
  {
   "cell_type": "code",
   "execution_count": 5,
   "metadata": {
    "collapsed": false,
    "scrolled": true
   },
   "outputs": [
    {
     "data": {
      "text/plain": [
       "'<procedure>'"
      ]
     },
     "execution_count": 5,
     "metadata": {},
     "output_type": "execute_result"
    }
   ],
   "source": [
    "#Number of Events in an Episode\n",
    "v.assume('num_e','mem( proc(epi) {poisson(lambda_e*4*3.1415927*R**2*T)})')\n",
    "\n",
    "#\n",
    "#DO I ENCODE UNIFORM DISTRIBUTIONS OF EVENT TIME AND LOCATION?\n",
    "v.assume('e_t','mem( proc(epi,i) { uniform_continuous(0,T) } )')\n",
    "v.assume('e_lon','mem ( proc(epi,i) { uniform_continuous(-180,180) } )')\n",
    "v.assume('sin_e_lat','mem( proc(epi,i) {uniform_continuous(-1,1)})')\n",
    "#\n",
    "\n",
    "#Event Magnitude Distribution\n",
    "v.assume('e_m','mem( proc(epi,i) { bounded_expon(mu_m,1/theta_m,gamma_m) } )')\n",
    "#Condition Exponential on bounds, using uniform_continuous\n",
    "#v.assume('obs_func','proc(i){uniform_continuous(mu_m-e_m(epi,i),gamma_m-e_m(epi,i))}')\n",
    "#v.observe('obs_func(1)','0')\n",
    "\n",
    "#Detection Probability\n",
    "v.assume('det_prob','''mem( proc(epi,i,k) {1./(1 + exp(\n",
    "                                -1. * (vector_dot(mu_d(k),\n",
    "                                vector(1,e_m(epi,i),compute_distance(k,e_lon(epi,i),sin_e_lat(epi,i)))))))} )\n",
    "                                ''')\n",
    "#Travel Time Function\n",
    "v.assume('I_t','proc(dist) { -0.023 * pow(dist,2) + 10.7 * dist + 5 } ')\n",
    "\n",
    "#Detection Time\n",
    "v.assume('Lambda_t','''mem( proc(epi,i,k) {\n",
    "         laplace(e_t(epi,i)+I_t(compute_distance(k,e_lon(epi,i),sin_e_lat(epi,i)))+mu_t(k),\n",
    "         theta_t(k)) } )''')\n",
    "\n",
    "#Detection Azimuth\n",
    "v.assume('Lambda_z','''mem( proc(epi,i,k) { \n",
    "          laplace(compute_azimuth(k,e_lon(epi,i),sin_e_lat(epi,i)) - mu_z(k),theta_z(k)) } ) ''' )\n",
    "#Maybe goes over 360? Problem?\n",
    "\n",
    "#Slowness Function\n",
    "v.assume('I_s','proc(dist) { -0.046 * dist + 10.7 } ')\n",
    "\n",
    "#Detection Slowness\n",
    "v.assume('Lambda_s','''mem( proc(epi,i,k) { laplace(I_s(\n",
    "         compute_distance(k,e_lon(epi,i),sin_e_lat(epi,i)))+mu_s(k),theta_s(k)) })''')\n",
    "\n",
    "#Detection Amplitude\n",
    "v.assume('log_Lambda_a','''mem( proc(epi,i,k) {normal(vector_dot(mu_a(k),\n",
    "                                vector(1,e_m(epi,i),I_t(compute_distance(k,e_lon(epi,i),sin_e_lat(epi,i))))),sigma_a(k))})''')\n",
    "\n",
    "#False Detection Parameters\n",
    "v.assume('num_Xi','mem( proc(epi,k) {poisson(lambda_f(k) * T)} )')\n",
    "v.assume('Xi_t','mem( proc(epi,k,f) {uniform_continuous(0,T)})')\n",
    "v.assume('Xi_z','mem( proc(epi,k,f) {uniform_continuous(0,360)})')\n",
    "v.assume('Xi_s','mem( proc(epi,k,f) {uniform_continuous(I_s(180),I_s(0))})')\n",
    "v.assume('Xi_a','mem( proc(epi,k,f) {student_t(1,mu_f(k),theta_f(k))})')\n"
   ]
  },
  {
   "cell_type": "code",
   "execution_count": 6,
   "metadata": {
    "collapsed": false
   },
   "outputs": [],
   "source": [
    "episodes = read_episodes('../short_data/training.data')"
   ]
  },
  {
   "cell_type": "code",
   "execution_count": 7,
   "metadata": {
    "collapsed": false
   },
   "outputs": [
    {
     "name": "stdout",
     "output_type": "stream",
     "text": [
      "9.69359659075\n",
      "8.03390340825\n",
      "15.6677757084\n",
      "4.11447034866\n",
      "5.40816360728\n",
      "5.10928757386\n",
      "13.4993409678\n",
      "4.61395569651\n",
      "18.1491082675\n",
      "11.9478137744\n"
     ]
    }
   ],
   "source": [
    "for i in range(len(STATIONS)):\n",
    "    print v.sample('theta_z({0})'.format(i))\n"
   ]
  },
  {
   "cell_type": "code",
   "execution_count": 8,
   "metadata": {
    "collapsed": false
   },
   "outputs": [],
   "source": [
    "def check_weight():\n",
    "    return\n",
    "    print v.infer('particle_log_weights')[0]\n",
    "    if v.infer('particle_log_weights')[0] == float('-inf'):\n",
    "        raise Exception()"
   ]
  },
  {
   "cell_type": "code",
   "execution_count": 9,
   "metadata": {
    "collapsed": false,
    "scrolled": true
   },
   "outputs": [
    {
     "name": "stdout",
     "output_type": "stream",
     "text": [
      "OBSERVING EPISODE (0)\n",
      "OBSERVING EPISODE (1)\n",
      "OBSERVING EPISODE (2)\n",
      "OBSERVING EPISODE (3)\n",
      "OBSERVING EPISODE (4)\n",
      "OBSERVING EPISODE (5)\n",
      "OBSERVING EPISODE (6)\n",
      "OBSERVING EPISODE (7)\n",
      "OBSERVING EPISODE (8)\n",
      "OBSERVING EPISODE (9)\n",
      "OBSERVING EPISODE (10)\n",
      "OBSERVING EPISODE (11)\n",
      "OBSERVING EPISODE (12)\n",
      "OBSERVING EPISODE (13)\n",
      "OBSERVING EPISODE (14)\n",
      "OBSERVING EPISODE (15)\n",
      "OBSERVING EPISODE (16)\n",
      "OBSERVING EPISODE (17)\n",
      "OBSERVING EPISODE (18)\n",
      "OBSERVING EPISODE (19)\n",
      "OBSERVING EPISODE (20)\n",
      "OBSERVING EPISODE (21)\n",
      "OBSERVING EPISODE (22)\n",
      "OBSERVING EPISODE (23)\n",
      "OBSERVING EPISODE (24)\n",
      "OBSERVING EPISODE (25)\n",
      "OBSERVING EPISODE (26)\n",
      "OBSERVING EPISODE (27)\n",
      "OBSERVING EPISODE (28)\n",
      "OBSERVING EPISODE (29)\n",
      "OBSERVING EPISODE (30)\n",
      "OBSERVING EPISODE (31)\n",
      "OBSERVING EPISODE (32)\n",
      "OBSERVING EPISODE (33)\n",
      "OBSERVING EPISODE (34)\n",
      "OBSERVING EPISODE (35)\n",
      "OBSERVING EPISODE (36)\n",
      "OBSERVING EPISODE (37)\n",
      "OBSERVING EPISODE (38)\n",
      "OBSERVING EPISODE (39)\n",
      "OBSERVING EPISODE (40)\n",
      "OBSERVING EPISODE (41)\n",
      "OBSERVING EPISODE (42)\n",
      "OBSERVING EPISODE (43)\n",
      "OBSERVING EPISODE (44)\n",
      "OBSERVING EPISODE (45)\n",
      "OBSERVING EPISODE (46)\n",
      "OBSERVING EPISODE (47)\n",
      "OBSERVING EPISODE (48)\n",
      "OBSERVING EPISODE (49)\n",
      "OBSERVING EPISODE (50)\n",
      "OBSERVING EPISODE (51)\n",
      "OBSERVING EPISODE (52)\n",
      "OBSERVING EPISODE (53)\n",
      "OBSERVING EPISODE (54)\n",
      "OBSERVING EPISODE (55)\n",
      "OBSERVING EPISODE (56)\n",
      "OBSERVING EPISODE (57)\n",
      "OBSERVING EPISODE (58)\n",
      "OBSERVING EPISODE (59)\n",
      "OBSERVING EPISODE (60)\n",
      "OBSERVING EPISODE (61)\n",
      "OBSERVING EPISODE (62)\n",
      "OBSERVING EPISODE (63)\n",
      "OBSERVING EPISODE (64)\n",
      "OBSERVING EPISODE (65)\n",
      "OBSERVING EPISODE (66)\n",
      "OBSERVING EPISODE (67)\n",
      "OBSERVING EPISODE (68)\n",
      "OBSERVING EPISODE (69)\n",
      "OBSERVING EPISODE (70)\n",
      "OBSERVING EPISODE (71)\n",
      "OBSERVING EPISODE (72)\n",
      "OBSERVING EPISODE (73)\n",
      "OBSERVING EPISODE (74)\n",
      "OBSERVING EPISODE (75)\n",
      "OBSERVING EPISODE (76)\n",
      "OBSERVING EPISODE (77)\n",
      "OBSERVING EPISODE (78)\n",
      "OBSERVING EPISODE (79)\n",
      "OBSERVING EPISODE (80)\n",
      "OBSERVING EPISODE (81)\n",
      "OBSERVING EPISODE (82)\n",
      "OBSERVING EPISODE (83)\n",
      "OBSERVING EPISODE (84)\n",
      "OBSERVING EPISODE (85)\n",
      "OBSERVING EPISODE (86)\n",
      "OBSERVING EPISODE (87)\n",
      "OBSERVING EPISODE (88)\n",
      "OBSERVING EPISODE (89)\n",
      "OBSERVING EPISODE (90)\n",
      "OBSERVING EPISODE (91)\n",
      "OBSERVING EPISODE (92)\n",
      "OBSERVING EPISODE (93)\n",
      "OBSERVING EPISODE (94)\n",
      "OBSERVING EPISODE (95)\n",
      "OBSERVING EPISODE (96)\n",
      "OBSERVING EPISODE (97)\n",
      "OBSERVING EPISODE (98)\n",
      "OBSERVING EPISODE (99)\n",
      "done\n"
     ]
    }
   ],
   "source": [
    "for i in range(len(episodes)):\n",
    "    print 'OBSERVING EPISODE (%s)' % (i)\n",
    "    v.observe('num_e(%s)'% i,'%s' % len(episodes[i].events))\n",
    "    check_weight()\n",
    "    for event_id,event in enumerate(episodes[i].events):\n",
    "        v.observe('e_t({0},{1})'.format(i,event_id),'%s' % event.time)\n",
    "        check_weight()\n",
    "        v.observe('e_lon({0},{1})'.format(i,event_id),'%s' % event.lon)\n",
    "        check_weight()\n",
    "        v.observe('sin_e_lat({0},{1})'.format(i,event_id),'%s' % np.sin(np.radians(event.lat)))\n",
    "        check_weight()\n",
    "        v.observe('e_m({0},{1})'.format(i,event_id),'%s' % event.mag)\n",
    "        check_weight()\n",
    "    for event_id, event_dets in enumerate(episodes[i].assocs):\n",
    "        for detection_id in event_dets:\n",
    "            ev = episodes[i].events[event_id]\n",
    "            det = episodes[i].detections[detection_id]\n",
    "            v.observe('Lambda_t(%s, %s, %s)' % (i,event_id, det.stanum), '%s' % det.time)\n",
    "            check_weight()\n",
    "            v.observe('Lambda_z(%s, %s, %s)' % (i,event_id, det.stanum),'%s' % det.azimuth)\n",
    "            check_weight()\n",
    "            v.observe('Lambda_s(%s, %s, %s)' % (i,event_id, det.stanum),'%s' % det.slowness)\n",
    "            check_weight()\n",
    "            v.observe('log_Lambda_a(%s, %s, %s)' % (i,event_id, det.stanum),'%s' % np.log(det.amp))\n",
    "            check_weight()\n",
    "    station_counters = defaultdict(int)\n",
    "    for false_det_id in range(len(sum(episodes[i].assocs,[])),len(episodes[i].detections)):\n",
    "        false_det = episodes[i].detections[false_det_id]\n",
    "        station_counters[false_det.stanum] += 1\n",
    "        v.observe('Xi_a(%s, %s, %s)' % (i,det.stanum,false_det_id),'%s' % np.log(det.amp))\n",
    "        check_weight()\n",
    "    for stanum in range(len(STATIONS)):\n",
    "        v.observe('num_Xi(%s, %s)' % (i,stanum), '%s' % station_counters[stanum])\n",
    "        check_weight()\n",
    "        \n",
    "#v.infer('bogo_possibilize(default, all,1)')\n",
    "\n",
    "print 'done'"
   ]
  },
  {
   "cell_type": "code",
   "execution_count": 10,
   "metadata": {
    "collapsed": false
   },
   "outputs": [
    {
     "name": "stdout",
     "output_type": "stream",
     "text": [
      "[-72102.453971690542]\n",
      "[-72216.423455091935]\n"
     ]
    },
    {
     "data": {
      "text/plain": [
       "[]"
      ]
     },
     "execution_count": 10,
     "metadata": {},
     "output_type": "execute_result"
    }
   ],
   "source": [
    "print v.infer('global_posterior')\n",
    "print v.infer('global_likelihood')\n",
    "v.infer('default_markov_chain(300)')"
   ]
  },
  {
   "cell_type": "code",
   "execution_count": 11,
   "metadata": {
    "collapsed": false
   },
   "outputs": [],
   "source": [
    "data = []\n",
    "for i in range(50):\n",
    "    v.infer('default_markov_chain(10)')\n",
    "    data.append([v.sample('theta_s({0})'.format(k)) for k in range(len(STATIONS))])\n",
    "    "
   ]
  },
  {
   "cell_type": "code",
   "execution_count": 12,
   "metadata": {
    "collapsed": false
   },
   "outputs": [
    {
     "name": "stdout",
     "output_type": "stream",
     "text": [
      "Theta_s0 2.39361104927\n",
      "Theta_s1 2.38384125135\n",
      "Theta_s2 0.700419633498\n",
      "Theta_s3 0.905826016529\n",
      "Theta_s4 1.86466651872\n",
      "Theta_s5 1.12714366214\n",
      "Theta_s6 3.11513741693\n",
      "Theta_s7 1.47150826776\n",
      "Theta_s8 2.10294084153\n",
      "Theta_s9 1.05983519681\n",
      "Lambda_f0 0.00429758346796\n",
      "Lambda_f1 0.00463106177004\n",
      "Lambda_f2 0.00294923537358\n",
      "Lambda_f3 0.00186162362694\n",
      "Lambda_f4 0.0013110637409\n",
      "Lambda_f5 0.00114489697842\n",
      "Lambda_f6 0.00164150732338\n",
      "Lambda_f7 0.00106116563441\n",
      "Lambda_f8 0.00201210196231\n",
      "Lambda_f9 0.00264079678921\n",
      "2.00151870686e-12\n"
     ]
    }
   ],
   "source": [
    "for i in range(len(STATIONS)):\n",
    "    print 'Theta_s{0}'.format(i), v.sample('theta_s({0})'.format(i))\n",
    "for i in range(len(STATIONS)):\n",
    "    print 'Lambda_f{0}'.format(i), v.sample('lambda_f({0})'.format(i))\n",
    "    \n",
    "print v.sample('lambda_e')"
   ]
  },
  {
   "cell_type": "code",
   "execution_count": 15,
   "metadata": {
    "collapsed": false
   },
   "outputs": [],
   "source": [
    "f = open('data.txt','w')\n",
    "import json\n",
    "json.dump(data,f)\n",
    "f.close()"
   ]
  },
  {
   "cell_type": "code",
   "execution_count": 13,
   "metadata": {
    "collapsed": false
   },
   "outputs": [
    {
     "name": "stdout",
     "output_type": "stream",
     "text": [
      "[[2.0066058024412765, 1.5931299001429224, 0.7693168449524597, 1.0078600440585155, 1.4000072111157424, 1.2535480066964282, 1.5033461713319316, 1.3063303878057437, 1.3351387509620605, 1.1673036954295641], [2.0066058024412765, 1.5931299001429224, 0.7693168449524597, 1.0078600440585155, 1.4000072111157424, 1.2535480066964282, 1.5033461713319316, 1.3063303878057437, 1.3351387509620605, 1.1673036954295641], [2.0066058024412765, 1.5931299001429224, 0.7693168449524597, 1.0078600440585155, 1.4000072111157424, 1.2535480066964282, 1.5033461713319316, 1.3063303878057437, 1.3351387509620605, 1.1673036954295641], [2.0066058024412765, 1.5931299001429224, 0.7693168449524597, 1.0078600440585155, 1.4000072111157424, 1.2535480066964282, 1.5033461713319316, 1.3063303878057437, 1.3351387509620605, 1.1673036954295641], [2.0066058024412765, 1.5931299001429224, 0.7693168449524597, 1.0078600440585155, 1.4000072111157424, 1.2535480066964282, 1.5033461713319316, 1.3457284981260702, 1.3351387509620605, 1.1673036954295641], [2.0066058024412765, 1.5931299001429224, 0.7693168449524597, 1.0078600440585155, 1.4000072111157424, 1.2535480066964282, 1.5033461713319316, 1.3457284981260702, 1.3351387509620605, 1.1673036954295641], [2.0066058024412765, 1.5931299001429224, 0.7693168449524597, 1.0078600440585155, 1.4000072111157424, 1.2535480066964282, 1.5033461713319316, 1.4819042558785833, 1.3351387509620605, 1.1673036954295641], [2.0066058024412765, 1.5931299001429224, 0.7693168449524597, 1.0078600440585155, 1.4000072111157424, 1.2535480066964282, 1.5033461713319316, 1.4715082677614917, 1.3351387509620605, 1.1673036954295641], [2.0066058024412765, 1.5931299001429224, 0.7693168449524597, 1.0078600440585155, 1.4000072111157424, 1.2535480066964282, 1.5033461713319316, 1.4715082677614917, 1.3351387509620605, 1.1673036954295641], [2.0066058024412765, 1.7698027905676812, 0.7693168449524597, 1.0078600440585155, 1.4000072111157424, 1.2535480066964282, 1.5033461713319316, 1.4715082677614917, 1.3351387509620605, 1.1673036954295641], [2.3936110492727436, 1.7698027905676812, 0.7693168449524597, 1.0078600440585155, 1.4000072111157424, 1.2535480066964282, 1.5033461713319316, 1.4715082677614917, 1.3351387509620605, 1.1673036954295641], [2.3936110492727436, 1.7698027905676812, 0.7693168449524597, 1.0078600440585155, 1.4000072111157424, 1.2535480066964282, 1.5033461713319316, 1.4715082677614917, 1.3351387509620605, 1.1673036954295641], [2.3936110492727436, 1.7698027905676812, 0.7693168449524597, 1.0078600440585155, 1.4000072111157424, 1.2535480066964282, 1.5033461713319316, 1.4715082677614917, 1.3351387509620605, 1.1866916581584874], [2.3936110492727436, 2.383841251348655, 0.7693168449524597, 1.0078600440585155, 1.4000072111157424, 1.2535480066964282, 1.5033461713319316, 1.4715082677614917, 1.3351387509620605, 1.1866916581584874], [2.3936110492727436, 2.383841251348655, 0.7693168449524597, 1.0078600440585155, 1.4000072111157424, 1.2535480066964282, 1.5033461713319316, 1.4715082677614917, 1.3351387509620605, 1.1866916581584874], [2.3936110492727436, 2.383841251348655, 0.7693168449524597, 1.0078600440585155, 1.4000072111157424, 1.2535480066964282, 1.5033461713319316, 1.4715082677614917, 1.3351387509620605, 1.059835196810865], [2.3936110492727436, 2.383841251348655, 0.7693168449524597, 1.0078600440585155, 1.8646665187198719, 1.2535480066964282, 1.5033461713319316, 1.4715082677614917, 1.3351387509620605, 1.059835196810865], [2.3936110492727436, 2.383841251348655, 0.7693168449524597, 1.0078600440585155, 1.8646665187198719, 1.2535480066964282, 1.5033461713319316, 1.4715082677614917, 1.3351387509620605, 1.059835196810865], [2.3936110492727436, 2.383841251348655, 0.7693168449524597, 1.0078600440585155, 1.8646665187198719, 1.2535480066964282, 1.5033461713319316, 1.4715082677614917, 1.3351387509620605, 1.059835196810865], [2.3936110492727436, 2.383841251348655, 0.7693168449524597, 1.0078600440585155, 1.8646665187198719, 1.2535480066964282, 1.5033461713319316, 1.4715082677614917, 1.3351387509620605, 1.059835196810865], [2.3936110492727436, 2.383841251348655, 0.7693168449524597, 1.0078600440585155, 1.8646665187198719, 1.2535480066964282, 1.5033461713319316, 1.4715082677614917, 1.3351387509620605, 1.059835196810865], [2.3936110492727436, 2.383841251348655, 0.7693168449524597, 1.0078600440585155, 1.8646665187198719, 1.2535480066964282, 1.5033461713319316, 1.4715082677614917, 1.3351387509620605, 1.059835196810865], [2.3936110492727436, 2.383841251348655, 0.7693168449524597, 1.0078600440585155, 1.8646665187198719, 1.2535480066964282, 1.5033461713319316, 1.4715082677614917, 1.3351387509620605, 1.059835196810865], [2.3936110492727436, 2.383841251348655, 0.7693168449524597, 1.0078600440585155, 1.8646665187198719, 1.2535480066964282, 1.5033461713319316, 1.4715082677614917, 1.3351387509620605, 1.059835196810865], [2.3936110492727436, 2.383841251348655, 0.7693168449524597, 1.0078600440585155, 1.8646665187198719, 1.2535480066964282, 1.5033461713319316, 1.4715082677614917, 1.3351387509620605, 1.059835196810865], [2.3936110492727436, 2.383841251348655, 0.7693168449524597, 1.0078600440585155, 1.8646665187198719, 1.2535480066964282, 3.1151374169269843, 1.4715082677614917, 1.3351387509620605, 1.059835196810865], [2.3936110492727436, 2.383841251348655, 0.7693168449524597, 1.0078600440585155, 1.8646665187198719, 1.2535480066964282, 3.1151374169269843, 1.4715082677614917, 2.1029408415344246, 1.059835196810865], [2.3936110492727436, 2.383841251348655, 0.7693168449524597, 1.0078600440585155, 1.8646665187198719, 1.2535480066964282, 3.1151374169269843, 1.4715082677614917, 2.1029408415344246, 1.059835196810865], [2.3936110492727436, 2.383841251348655, 0.7693168449524597, 1.0078600440585155, 1.8646665187198719, 1.2535480066964282, 3.1151374169269843, 1.4715082677614917, 2.1029408415344246, 1.059835196810865], [2.3936110492727436, 2.383841251348655, 0.7693168449524597, 0.8883745242128266, 1.8646665187198719, 1.2535480066964282, 3.1151374169269843, 1.4715082677614917, 2.1029408415344246, 1.059835196810865], [2.3936110492727436, 2.383841251348655, 0.7693168449524597, 0.8883745242128266, 1.8646665187198719, 1.1271436621435833, 3.1151374169269843, 1.4715082677614917, 2.1029408415344246, 1.059835196810865], [2.3936110492727436, 2.383841251348655, 0.7693168449524597, 0.8883745242128266, 1.8646665187198719, 1.1271436621435833, 3.1151374169269843, 1.4715082677614917, 2.1029408415344246, 1.059835196810865], [2.3936110492727436, 2.383841251348655, 0.7693168449524597, 0.9058260165286001, 1.8646665187198719, 1.1271436621435833, 3.1151374169269843, 1.4715082677614917, 2.1029408415344246, 1.059835196810865], [2.3936110492727436, 2.383841251348655, 0.7693168449524597, 0.9058260165286001, 1.8646665187198719, 1.1271436621435833, 3.1151374169269843, 1.4715082677614917, 2.1029408415344246, 1.059835196810865], [2.3936110492727436, 2.383841251348655, 0.7693168449524597, 0.9058260165286001, 1.8646665187198719, 1.1271436621435833, 3.1151374169269843, 1.4715082677614917, 2.1029408415344246, 1.059835196810865], [2.3936110492727436, 2.383841251348655, 0.7693168449524597, 0.9058260165286001, 1.8646665187198719, 1.1271436621435833, 3.1151374169269843, 1.4715082677614917, 2.1029408415344246, 1.059835196810865], [2.3936110492727436, 2.383841251348655, 0.7693168449524597, 0.9058260165286001, 1.8646665187198719, 1.1271436621435833, 3.1151374169269843, 1.4715082677614917, 2.1029408415344246, 1.059835196810865], [2.3936110492727436, 2.383841251348655, 0.7693168449524597, 0.9058260165286001, 1.8646665187198719, 1.1271436621435833, 3.1151374169269843, 1.4715082677614917, 2.1029408415344246, 1.059835196810865], [2.3936110492727436, 2.383841251348655, 0.7693168449524597, 0.9058260165286001, 1.8646665187198719, 1.1271436621435833, 3.1151374169269843, 1.4715082677614917, 2.1029408415344246, 1.059835196810865], [2.3936110492727436, 2.383841251348655, 0.7693168449524597, 0.9058260165286001, 1.8646665187198719, 1.1271436621435833, 3.1151374169269843, 1.4715082677614917, 2.1029408415344246, 1.059835196810865], [2.3936110492727436, 2.383841251348655, 0.7693168449524597, 0.9058260165286001, 1.8646665187198719, 1.1271436621435833, 3.1151374169269843, 1.4715082677614917, 2.1029408415344246, 1.059835196810865], [2.3936110492727436, 2.383841251348655, 0.7693168449524597, 0.9058260165286001, 1.8646665187198719, 1.1271436621435833, 3.1151374169269843, 1.4715082677614917, 2.1029408415344246, 1.059835196810865], [2.3936110492727436, 2.383841251348655, 0.7693168449524597, 0.9058260165286001, 1.8646665187198719, 1.1271436621435833, 3.1151374169269843, 1.4715082677614917, 2.1029408415344246, 1.059835196810865], [2.3936110492727436, 2.383841251348655, 0.7693168449524597, 0.9058260165286001, 1.8646665187198719, 1.1271436621435833, 3.1151374169269843, 1.4715082677614917, 2.1029408415344246, 1.059835196810865], [2.3936110492727436, 2.383841251348655, 0.7693168449524597, 0.9058260165286001, 1.8646665187198719, 1.1271436621435833, 3.1151374169269843, 1.4715082677614917, 2.1029408415344246, 1.059835196810865], [2.3936110492727436, 2.383841251348655, 0.700419633498009, 0.9058260165286001, 1.8646665187198719, 1.1271436621435833, 3.1151374169269843, 1.4715082677614917, 2.1029408415344246, 1.059835196810865], [2.3936110492727436, 2.383841251348655, 0.700419633498009, 0.9058260165286001, 1.8646665187198719, 1.1271436621435833, 3.1151374169269843, 1.4715082677614917, 2.1029408415344246, 1.059835196810865], [2.3936110492727436, 2.383841251348655, 0.700419633498009, 0.9058260165286001, 1.8646665187198719, 1.1271436621435833, 3.1151374169269843, 1.4715082677614917, 2.1029408415344246, 1.059835196810865], [2.3936110492727436, 2.383841251348655, 0.700419633498009, 0.9058260165286001, 1.8646665187198719, 1.1271436621435833, 3.1151374169269843, 1.4715082677614917, 2.1029408415344246, 1.059835196810865], [2.3936110492727436, 2.383841251348655, 0.700419633498009, 0.9058260165286001, 1.8646665187198719, 1.1271436621435833, 3.1151374169269843, 1.4715082677614917, 2.1029408415344246, 1.059835196810865]]\n"
     ]
    }
   ],
   "source": [
    "print data"
   ]
  },
  {
   "cell_type": "code",
   "execution_count": null,
   "metadata": {
    "collapsed": true
   },
   "outputs": [],
   "source": []
  }
 ],
 "metadata": {
  "kernelspec": {
   "display_name": "Python 2",
   "language": "python",
   "name": "python2"
  },
  "language_info": {
   "codemirror_mode": {
    "name": "ipython",
    "version": 2
   },
   "file_extension": ".py",
   "mimetype": "text/x-python",
   "name": "python",
   "nbconvert_exporter": "python",
   "pygments_lexer": "ipython2",
   "version": "2.7.9"
  }
 },
 "nbformat": 4,
 "nbformat_minor": 0
}
