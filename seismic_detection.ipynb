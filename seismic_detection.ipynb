{
 "cells": [
  {
   "cell_type": "code",
   "execution_count": 27,
   "metadata": {
    "collapsed": true
   },
   "outputs": [],
   "source": [
    "import sys\n",
    "sys.path.append('/usr/local/lib/python2.7/dist-packages/')"
   ]
  },
  {
   "cell_type": "code",
   "execution_count": 1,
   "metadata": {
    "collapsed": false
   },
   "outputs": [],
   "source": [
    "    from venture.shortcuts import *\n",
    "    import venture.lite.builtin as bp\n",
    "    import venture.lite.types as t\n",
    "    import venture.lite.psp as psp\n",
    "    import numpy as np\n",
    "    import scipy.stats as sp\n",
    "    import matplotlib.pyplot as plt\n",
    "    from util import *\n",
    "    from collections import defaultdict\n",
    "\n",
    "%matplotlib inline"
   ]
  },
  {
   "cell_type": "code",
   "execution_count": 2,
   "metadata": {
    "collapsed": false
   },
   "outputs": [],
   "source": [
    "v=make_lite_venture_script_ripl()\n",
    "v.bind_foreign_sp(\"compute_distance\", bp.deterministic_typed(compute_distance2, \n",
    "                  [t.NumberType()]*3,t.NumberType()))\n",
    "v.bind_foreign_sp(\"compute_azimuth\", bp.deterministic_typed(compute_azimuth2, \n",
    "                  [t.NumberType()]*3,t.NumberType()))\n",
    "v.bind_foreign_sp(\"invert_dist_azimuth2\", bp.deterministic_typed(invert_dist_azimuth, \n",
    "                  [t.NumberType(),t.NumberType(),t.NumberType()],t.ArrayType(t.NumberType())))\n",
    "\n",
    "class BoundedExponOutputPSP(psp.RandomPSP):\n",
    "  # TODO don't need to be class methods\n",
    "  def simulateNumeric(self,mu,theta,gamma):\n",
    "    while True:\n",
    "        x = mu + sp.expon.rvs(scale=1.0/theta)\n",
    "        if x < gamma:\n",
    "            return x\n",
    "  def logDensityNumeric(self,x,mu,theta,gamma):\n",
    "    if not (mu <= x <= gamma):\n",
    "        return float('-inf')\n",
    "    nontailmass = sp.expon.logcdf(gamma - mu,scale=1.0/theta)\n",
    "    return sp.expon.logpdf(x - mu,scale=1.0/theta) - nontailmass\n",
    "\n",
    "  def simulate(self,args): return self.simulateNumeric(*args.operandValues())\n",
    "  def logDensity(self,x,args): return self.logDensityNumeric(x,*args.operandValues())\n",
    "\n",
    "  def gradientOfLogDensity(self,x,args):\n",
    "    mu,theta,gamma = args.operandValues()\n",
    "    nontailmass = sp.expon.cdf(gamma - mu,scale=1.0/theta)\n",
    "    gradX = -theta\n",
    "    gradTheta = 1.0 / nontailmass / theta - (x - mu)\n",
    "    return (gradX,[gradTheta])\n",
    "\n",
    "  def description(self,name):\n",
    "    return \"  %s(theta) returns a sample from an exponential distribution with rate (inverse scale) parameter theta.\" % name\n",
    "\n",
    "\n",
    "v.bind_foreign_sp(\"bounded_expon\", bp.typed_nr(BoundedExponOutputPSP(), [t.NumberType()]*3,t.NumberType()))"
   ]
  },
  {
   "cell_type": "markdown",
   "metadata": {},
   "source": [
    "## Initialize Priors\n",
    "\n",
    "In the next block, I initialize all parameters of a physical world description via the prior distributions given in the problem description file. I set the assumptions in my ripl layer while defining the variables locally, then set all local variables into the namedTuple physicsPriors."
   ]
  },
  {
   "cell_type": "code",
   "execution_count": 3,
   "metadata": {
    "collapsed": false
   },
   "outputs": [
    {
     "data": {
      "text/plain": [
       "'<procedure>'"
      ]
     },
     "execution_count": 3,
     "metadata": {},
     "output_type": "execute_result"
    }
   ],
   "source": [
    "\n",
    "lenst = len(STATIONS)\n",
    "\n",
    "T = v.assume('T','3600.')\n",
    "R = v.assume('R','6371.')\n",
    "lambda_e = v.assume('lambda_e','tag(\"world_params\", \"lambda_e\", gamma(6.0,(4*3.1415927*6371**2*3600)))')\n",
    "mu_m = v.assume('mu_m','3.0')\n",
    "theta_m = v.assume('theta_m','4.0')\n",
    "gamma_m = v.assume('gamma_m','6.0')\n",
    "v.assume('mu_d_covar','matrix(list(list(13.43,-2.36,-0.0122),list(-2.36,0.452,0.000112),list(-0.0122,0.000112,0.000125)))')\n",
    "v.assume('mu_a_covar','matrix(list(list(1.23, -0.227, -0.000175),list(-0.227,0.0461,0.0000245),list(-0.000175,0.0000245,0.000000302)))')\n",
    "\n",
    "v.assume('mu_d','mem( proc(k) { tag(\"mu_d\", k, multivariate_normal(vector(-10.4,3.26,-0.0499),mu_d_covar)) })')\n",
    "v.assume('mu_t','mem( proc(k) { 0.0 } )')\n",
    "v.assume('theta_t','mem( proc(k) { tag(\"theta_t\", k, inv_gamma(120,118)) } )')\n",
    "v.assume('mu_z','mem( proc(k) { 0.0 } )')\n",
    "v.assume('theta_z','mem( proc(k) { tag(\"theta_z\", k, inv_gamma(5.2,44)) } )')\n",
    "v.assume('mu_s','mem( proc(k) { 0.0 } )')\n",
    "v.assume('theta_s','mem( proc(k) { tag(\"theta_s\", k, inv_gamma(6.7,7.5)) } )')\n",
    "v.assume('mu_a','mem( proc(k) { tag(\"mu_a\", k, multivariate_normal(vector(-7.3,2.03,-0.00196),mu_a_covar)) })')\n",
    "v.assume('sigma_a','mem( proc(k) { tag(\"sigma_a\", k, inv_gamma(21.1,12.6)**0.5) } )')\n",
    "v.assume('lambda_f','mem( proc(k) { tag(\"lambda_f\", k, gamma(2.1,1 / 0.0013)) } )')\n",
    "v.assume('mu_f','mem( proc(k) { tag(\"mu_f\", k, normal(-0.68,0.68)) } )')\n",
    "v.assume('theta_f','mem( proc(k) { tag(\"theta_f\", k, inv_gamma(23.5,12.45)) } )')"
   ]
  },
  {
   "cell_type": "code",
   "execution_count": 4,
   "metadata": {
    "collapsed": false
   },
   "outputs": [],
   "source": [
    "def short_phys_real():\n",
    "    mu_d0 = [-17.359822061671441, -15.768544463698792, -12.922409957811768, -10.773287520963605, -11.132931849171747, -12.477364811457281, -6.7580892401135788, -9.5294379467128927, -11.193494209883042, -9.2582869645622328]\n",
    "    mu_d1 = [4.4655214067275839, 4.2880673839135159, 3.4939232311517419, 3.0836102728094517, 3.5644521183108333, 3.7061375881329575, 2.9746939897039697, 3.2122834287316029, 3.1747080104009289, 3.0735163035616315]\n",
    "    mu_d2 = [-0.042587125584878968, -0.046476669950539611, -0.0386056868920115, -0.033644722353157831, -0.058346700937573881, -0.052050312834667954, -0.074411966166429366, -0.057613152060445913, -0.036071371856942244, -0.055272372080290746]\n",
    "    mu_t = [0.0, 0.0, 0.0, 0.0, 0.0, 0.0, 0.0, 0.0, 0.0, 0.0]\n",
    "    theta_t = [0.97403464235339587, 1.0351212113814889, 0.96418499815554193, 1.0079627453372313, 0.84206132362185848, 1.0135927443271529, 1.0186623321740327, 0.95965107920519055, 0.9790147888991162, 0.97492892649666085]\n",
    "    mu_z = [0.0, 0.0, 0.0, 0.0, 0.0, 0.0, 0.0, 0.0, 0.0, 0.0]\n",
    "    theta_z = [18.669473444191421, 31.067605809220918, 7.4717496833821997, 6.8802122424716021, 7.2735470329833278, 14.657952637765698, 6.3892540662578368, 5.0731725691355347, 26.819630675574974, 6.7386639171709755]\n",
    "    mu_s = [0.0, 0.0, 0.0, 0.0, 0.0, 0.0, 0.0, 0.0, 0.0, 0.0]\n",
    "    theta_s = [2.7873617827043962, 2.6365822782429182, 0.71761518576907046, 0.88204931046153978, 1.9977201221848233, 0.94042935154931961, 2.1283948057257942, 1.4122952773438973, 1.6688399530584015, 0.99403597248760345]\n",
    "    mu_a0 = [-7.5889174296256243, -8.039232467882707, -8.1774264949089801, -5.7676523935644877, -6.8765551696438649, -7.1582798070100742, -8.7307999941883914, -5.7143807424344377, -6.0321268136397386, -8.0335045730895729]\n",
    "    mu_a1 = [1.9698881472754843, 2.1142324247529105, 2.1359370120152219, 1.7028236897387603, 1.8554536356816058, 1.9893705784398019, 2.2618410084067802, 1.7102856022941844, 1.9118912333453471, 2.2128902234536993]\n",
    "    mu_a2 = [-0.0017825614388768366, -0.0022352795847745571, -0.0014403097736774737, -0.0024422897060926564, -0.001305072272560544, -0.0024558440921668362, -0.00050303560445385934, -0.0027011475693344989, -0.0021396966460229079, -0.0022089987983199646]\n",
    "    sigma_a = [0.93195795493497113, 0.70170568773307385, 0.88187075130738513, 0.77700709763472209, 0.96149840769988715, 0.83952976862321427, 0.93385991567304061, 0.72049474691188131, 0.91022810716046143, 0.74539403565284956]\n",
    "    lambda_f = [0.005356845052932243, 0.004416252349421397, 0.003128792294084219, 0.0018195013716233743, 0.0012844442232585694, 0.001248242568353651, 0.0016220932294251226, 0.001039395307938798, 0.0017931339240377499, 0.0026671057732874284]\n",
    "    mu_f = [0.6991998411447334, -1.5743137502848807, 0.11003180311800753, -1.5806763114362214, -0.09219581058098525, -0.854561925713898, -0.5313420684257932, -0.8596269262786942, -0.25743993244414687, -0.9563341240466005]\n",
    "    theta_f = [0.45822676723376737, 0.54164092015782339, 0.56952819745666372, 0.40785210377568526, 0.70803734788388284, 0.47009239496664218, 0.43887083899955331, 0.86740425997874737, 0.48221028166065077, 0.5687694086602948]\n",
    "    v.assume('sigma_a','mem( proc(k) { (normal(0,1)) } )')\n",
    "    for i in range(len(STATIONS)):\n",
    "        v.infer('(observe(mu_d({0}), array({1},{2},{3})))'.format(i,mu_d0[i],mu_d1[i],mu_d2[i]))\n",
    "        v.infer('(observe(mu_a({0}), array({1},{2},{3})))'.format(i,mu_a0[i],mu_a1[i],mu_a2[i]))\n",
    "        v.observe('theta_t({0})'.format(i),'{0}'.format(theta_t[i]))\n",
    "        v.observe('theta_z({0})'.format(i),'{0}'.format(theta_z[i]))\n",
    "        v.observe('theta_s({0})'.format(i),'{0}'.format(theta_s[i]))\n",
    "        v.observe('theta_f({0})'.format(i),'{0}'.format(theta_f[i]))\n",
    "        v.observe('mu_f({0})'.format(i),'{0}'.format(mu_f[i]))\n",
    "        v.observe('sigma_a({0})'.format(i),'{0}'.format(sigma_a[i]))\n",
    "        v.observe('lambda_f({0})'.format(i),'{0}'.format(lambda_f[i]))\n",
    "\n",
    "\n",
    "#short_phys_real()"
   ]
  },
  {
   "cell_type": "markdown",
   "metadata": {
    "collapsed": true
   },
   "source": [
    "##Set Model Dependencies from Observations to Background Parameters\n",
    "\n",
    "In the next block, I set all model dependencies so that my training data will affect the background physics parameters."
   ]
  },
  {
   "cell_type": "code",
   "execution_count": 5,
   "metadata": {
    "collapsed": false,
    "scrolled": true
   },
   "outputs": [
    {
     "data": {
      "text/plain": [
       "'<procedure>'"
      ]
     },
     "execution_count": 5,
     "metadata": {},
     "output_type": "execute_result"
    }
   ],
   "source": [
    "#Number of Events in an Episode\n",
    "v.assume('num_e','mem( proc(epi) {poisson(lambda_e*4*3.1415927*R**2*T)})')\n",
    "\n",
    "#\n",
    "#DO I ENCODE UNIFORM DISTRIBUTIONS OF EVENT TIME AND LOCATION?\n",
    "v.assume('e_t','mem( proc(epi,i) { uniform_continuous(0,T) } )')\n",
    "v.assume('e_lon','mem ( proc(epi,i) { uniform_continuous(-180,180) } )')\n",
    "v.assume('sin_e_lat','mem( proc(epi,i) {uniform_continuous(-1,1)})')\n",
    "#\n",
    "\n",
    "#Event Magnitude Distribution\n",
    "v.assume('e_m','mem( proc(epi,i) { bounded_expon(mu_m,1/theta_m,gamma_m) } )')\n",
    "#Condition Exponential on bounds, using uniform_continuous\n",
    "#v.assume('obs_func','proc(i){uniform_continuous(mu_m-e_m(epi,i),gamma_m-e_m(epi,i))}')\n",
    "#v.observe('obs_func(1)','0')\n",
    "\n",
    "#Detection Probability\n",
    "v.assume('det_prob','''mem( proc(epi,i,k) {1./(1 + exp(\n",
    "                                -1. * (vector_dot(mu_d(k),\n",
    "                                vector(1,e_m(epi,i),compute_distance(k,e_lon(epi,i),sin_e_lat(epi,i)))))))} )\n",
    "                                ''')\n",
    "#Travel Time Function\n",
    "v.assume('I_t','proc(dist) { -0.023 * pow(dist,2) + 10.7 * dist + 5 } ')\n",
    "\n",
    "\n",
    "#Detection Time\n",
    "v.assume('Lambda_t','''( proc(epi,i,k) {\n",
    "         laplace(e_t(epi,i)+I_t(compute_distance(k,e_lon(epi,i),sin_e_lat(epi,i)))+mu_t(k),\n",
    "         theta_t(k)) } )''')\n",
    "\n",
    "#Detection Azimuth\n",
    "v.assume('Lambda_z','''( proc(epi,i,k) { \n",
    "          laplace(compute_azimuth(k,e_lon(epi,i),sin_e_lat(epi,i)) - mu_z(k),theta_z(k)) } ) ''' )\n",
    "#Maybe goes over 360? Problem?\n",
    "\n",
    "#Slowness Function\n",
    "v.assume('I_s','proc(dist) { -0.046 * dist + 10.7 } ')\n",
    "v.assume('inv_I_s','proc(slow) { (slow - 10.7) - 0.046 }')\n",
    "\n",
    "#Detection Slowness\n",
    "v.assume('Lambda_s','''( proc(epi,i,k) { laplace(I_s(\n",
    "         compute_distance(k,e_lon(epi,i),sin_e_lat(epi,i)))+mu_s(k),theta_s(k)) })''')\n",
    "\n",
    "#Detection Amplitude\n",
    "v.assume('log_Lambda_a','''( proc(epi,i,k) {normal(vector_dot(mu_a(k),\n",
    "                                vector(1,e_m(epi,i),I_t(compute_distance(k,e_lon(epi,i),sin_e_lat(epi,i))))),sigma_a(k))})''')\n",
    "\n",
    "#False Detection Parameters\n",
    "v.assume('num_Xi','mem( proc(epi,k) {poisson(lambda_f(k) * T)} )')\n",
    "v.assume('Xi_t','proc(k) {uniform_continuous(0,T)}')\n",
    "v.assume('Xi_z','proc(k) {uniform_continuous(0,360)}')\n",
    "v.assume('Xi_s','proc(k) {uniform_continuous(I_s(180),I_s(0))}')\n",
    "v.assume('log_Xi_a','proc(k) {student_t(1,mu_f(k),theta_f(k))}')\n"
   ]
  },
  {
   "cell_type": "code",
   "execution_count": 6,
   "metadata": {
    "collapsed": false
   },
   "outputs": [],
   "source": [
    "episodes = read_episodes('../short_data/training.data')"
   ]
  },
  {
   "cell_type": "code",
   "execution_count": 7,
   "metadata": {
    "collapsed": false
   },
   "outputs": [],
   "source": [
    "def check_weight():\n",
    "    return\n",
    "    print v.infer('particle_log_weights')[0]\n",
    "    if v.infer('particle_log_weights')[0] == float('-inf'):\n",
    "        raise Exception()"
   ]
  },
  {
   "cell_type": "code",
   "execution_count": 8,
   "metadata": {
    "collapsed": false
   },
   "outputs": [
    {
     "name": "stdout",
     "output_type": "stream",
     "text": [
      "OBSERVING EPISODE (0)\n",
      "OBSERVING EPISODE (1)\n",
      "OBSERVING EPISODE (2)\n",
      "OBSERVING EPISODE (3)\n",
      "OBSERVING EPISODE (4)\n",
      "OBSERVING EPISODE (5)\n",
      "OBSERVING EPISODE (6)\n",
      "OBSERVING EPISODE (7)\n",
      "OBSERVING EPISODE (8)\n",
      "OBSERVING EPISODE (9)\n",
      "OBSERVING EPISODE (10)\n",
      "OBSERVING EPISODE (11)\n",
      "OBSERVING EPISODE (12)\n",
      "OBSERVING EPISODE (13)\n",
      "OBSERVING EPISODE (14)\n",
      "OBSERVING EPISODE (15)\n",
      "OBSERVING EPISODE (16)\n",
      "OBSERVING EPISODE (17)\n",
      "OBSERVING EPISODE (18)\n",
      "OBSERVING EPISODE (19)\n",
      "OBSERVING EPISODE (20)\n",
      "OBSERVING EPISODE (21)\n",
      "OBSERVING EPISODE (22)\n",
      "OBSERVING EPISODE (23)\n",
      "OBSERVING EPISODE (24)\n",
      "OBSERVING EPISODE (25)\n",
      "OBSERVING EPISODE (26)\n",
      "OBSERVING EPISODE (27)\n",
      "OBSERVING EPISODE (28)\n",
      "OBSERVING EPISODE (29)\n",
      "OBSERVING EPISODE (30)\n",
      "OBSERVING EPISODE (31)\n",
      "OBSERVING EPISODE (32)\n",
      "OBSERVING EPISODE (33)\n",
      "OBSERVING EPISODE (34)\n",
      "OBSERVING EPISODE (35)\n",
      "OBSERVING EPISODE (36)\n",
      "OBSERVING EPISODE (37)\n",
      "OBSERVING EPISODE (38)\n",
      "OBSERVING EPISODE (39)\n",
      "OBSERVING EPISODE (40)\n",
      "OBSERVING EPISODE (41)\n",
      "OBSERVING EPISODE (42)\n",
      "OBSERVING EPISODE (43)\n",
      "OBSERVING EPISODE (44)\n",
      "OBSERVING EPISODE (45)\n",
      "OBSERVING EPISODE (46)\n",
      "OBSERVING EPISODE (47)\n",
      "OBSERVING EPISODE (48)\n",
      "OBSERVING EPISODE (49)\n",
      "OBSERVING EPISODE (50)\n",
      "OBSERVING EPISODE (51)\n",
      "OBSERVING EPISODE (52)\n",
      "OBSERVING EPISODE (53)\n",
      "OBSERVING EPISODE (54)\n",
      "OBSERVING EPISODE (55)\n",
      "OBSERVING EPISODE (56)\n",
      "OBSERVING EPISODE (57)\n",
      "OBSERVING EPISODE (58)\n",
      "OBSERVING EPISODE (59)\n",
      "OBSERVING EPISODE (60)\n",
      "OBSERVING EPISODE (61)\n",
      "OBSERVING EPISODE (62)\n",
      "OBSERVING EPISODE (63)\n",
      "OBSERVING EPISODE (64)\n",
      "OBSERVING EPISODE (65)\n",
      "OBSERVING EPISODE (66)\n",
      "OBSERVING EPISODE (67)\n",
      "OBSERVING EPISODE (68)\n",
      "OBSERVING EPISODE (69)\n",
      "OBSERVING EPISODE (70)\n",
      "OBSERVING EPISODE (71)\n",
      "OBSERVING EPISODE (72)\n",
      "OBSERVING EPISODE (73)\n",
      "OBSERVING EPISODE (74)\n",
      "OBSERVING EPISODE (75)\n",
      "OBSERVING EPISODE (76)\n",
      "OBSERVING EPISODE (77)\n",
      "OBSERVING EPISODE (78)\n",
      "OBSERVING EPISODE (79)\n",
      "OBSERVING EPISODE (80)\n",
      "OBSERVING EPISODE (81)\n",
      "OBSERVING EPISODE (82)\n",
      "OBSERVING EPISODE (83)\n",
      "OBSERVING EPISODE (84)\n",
      "OBSERVING EPISODE (85)\n",
      "OBSERVING EPISODE (86)\n",
      "OBSERVING EPISODE (87)\n",
      "OBSERVING EPISODE (88)\n",
      "OBSERVING EPISODE (89)\n",
      "OBSERVING EPISODE (90)\n",
      "OBSERVING EPISODE (91)\n",
      "OBSERVING EPISODE (92)\n",
      "OBSERVING EPISODE (93)\n",
      "OBSERVING EPISODE (94)\n",
      "OBSERVING EPISODE (95)\n",
      "OBSERVING EPISODE (96)\n",
      "OBSERVING EPISODE (97)\n",
      "OBSERVING EPISODE (98)\n",
      "OBSERVING EPISODE (99)\n",
      "done\n"
     ]
    }
   ],
   "source": [
    "for i in range(len(episodes)):\n",
    "    print 'OBSERVING EPISODE (%s)' % (i)\n",
    "    v.observe('num_e(%s)'% i,'%s' % len(episodes[i].events))\n",
    "    check_weight()\n",
    "    for event_id,event in enumerate(episodes[i].events):\n",
    "        v.observe('e_t({0},{1})'.format(i,event_id),'%s' % event.time)\n",
    "        check_weight()\n",
    "        v.observe('e_lon({0},{1})'.format(i,event_id),'%s' % event.lon)\n",
    "        check_weight()\n",
    "        v.observe('sin_e_lat({0},{1})'.format(i,event_id),'%s' % np.sin(np.radians(event.lat)))\n",
    "        check_weight()\n",
    "        v.observe('e_m({0},{1})'.format(i,event_id),'%s' % event.mag)\n",
    "        check_weight()\n",
    "    for event_id, event_dets in enumerate(episodes[i].assocs):\n",
    "        for detection_id in event_dets:\n",
    "            ev = episodes[i].events[event_id]\n",
    "            det = episodes[i].detections[detection_id]\n",
    "            v.observe('Lambda_t(%s, %s, %s)' % (i,event_id, det.stanum), '%s' % det.time)\n",
    "            check_weight()\n",
    "            v.observe('Lambda_z(%s, %s, %s)' % (i,event_id, det.stanum),'%s' % det.azimuth)\n",
    "            check_weight()\n",
    "            v.observe('Lambda_s(%s, %s, %s)' % (i,event_id, det.stanum),'%s' % det.slowness)\n",
    "            check_weight()\n",
    "            v.observe('log_Lambda_a(%s, %s, %s)' % (i,event_id, det.stanum),'%s' % np.log(det.amp))\n",
    "            check_weight()\n",
    "    station_false_log_amps = defaultdict(list)\n",
    "    for false_det_id in range(len(sum(episodes[i].assocs,[])),len(episodes[i].detections)):\n",
    "        false_det = episodes[i].detections[false_det_id]\n",
    "        station_false_log_amps[false_det.stanum].append(np.log(det.amp))\n",
    "    for stanum in range(len(STATIONS)):\n",
    "        v.bulk_observe('log_Xi_a(%s)' % stanum, station_false_log_amps[stanum])\n",
    "        v.observe('num_Xi(%s, %s)' % (i,stanum), '%s' % len(station_false_log_amps[stanum]))\n",
    "        check_weight()\n",
    "        \n",
    "#v.infer('bogo_possibilize(default, all,1)')\n",
    "\n",
    "print 'done'"
   ]
  },
  {
   "cell_type": "code",
   "execution_count": 14,
   "metadata": {
    "collapsed": false
   },
   "outputs": [
    {
     "name": "stdout",
     "output_type": "stream",
     "text": [
      "[-68519.818718894807] 1.92825409256e-12\n",
      "[-68520.593947723697] 2.06400755396e-12\n"
     ]
    }
   ],
   "source": [
    "print v.infer('global_likelihood'), v.sample('lambda_e')\n",
    "v.infer('mh(\"world_params\", all, 100)')\n",
    "print v.infer('global_likelihood'), v.sample('lambda_e')"
   ]
  },
  {
   "cell_type": "code",
   "execution_count": 20,
   "metadata": {
    "collapsed": false
   },
   "outputs": [
    {
     "name": "stdout",
     "output_type": "stream",
     "text": [
      "[18.93317808118974, 36.24370004430702, 17.820979463172915, 5.896856118153806, 13.364220547327758, 31.77361324083149, 15.309996800408417, 4.703259058785331, 38.244869792952315, 8.384024903368964]\n",
      "[20.75915865077591, 40.61965237011441, 20.353192930363615, 8.432255121755587, 14.308649977283206, 29.795955508458633, 16.70410083807359, 5.092660292793982, 38.244869792952315, 7.242612849770651]\n"
     ]
    }
   ],
   "source": [
    "print [v.sample('theta_z({})'.format(i)) for i in range(len(STATIONS))]\n",
    "sys.stdout.flush()\n",
    "v.infer('mh(\"theta_z\", one, 1000)')\n",
    "print [v.sample('theta_z({})'.format(i)) for i in range(len(STATIONS))]"
   ]
  },
  {
   "cell_type": "code",
   "execution_count": 13,
   "metadata": {
    "collapsed": false
   },
   "outputs": [
    {
     "name": "stdout",
     "output_type": "stream",
     "text": [
      "[-49834.260976841593]\n"
     ]
    }
   ],
   "source": [
    "#print v.infer('global_posterior')\n",
    "#print v.infer('global_likelihood')\n",
    "v.infer('default_markov_chain(100)')\n",
    "print v.infer('particle_log_weights')"
   ]
  },
  {
   "cell_type": "code",
   "execution_count": 12,
   "metadata": {
    "collapsed": false
   },
   "outputs": [],
   "source": [
    "episodes_list = [3]"
   ]
  },
  {
   "cell_type": "code",
   "execution_count": 11,
   "metadata": {
    "collapsed": false
   },
   "outputs": [
    {
     "data": {
      "text/plain": [
       "'<procedure>'"
      ]
     },
     "execution_count": 11,
     "metadata": {},
     "output_type": "execute_result"
    }
   ],
   "source": [
    "\"\"\"v.assume('real_flip','mem( proc(epi,i,k) {flip(det_prob(epi,i,k) * num_e(epi)/(num_e(epi)+num_Xi(epi,k)))})')\n",
    "v.assume('poss_e_t','''mem( proc(epi,i,k) {if (real_flip(epi,i,k)) {\n",
    "         uniform_continuous(0,T) \n",
    "         } else {\n",
    "         uniform_continuous(-1200,T)}} )''')\"\"\"\n",
    "\n",
    "v.assume('poss_e_t','mem( proc(epi,i,k) {uniform_continuous(0,T)})')\n",
    "v.assume('real_flip','''mem( proc(epi,i,k) {if (poss_e_t(epi,i,k) < 0) {\n",
    "            False \n",
    "            } else {\n",
    "            flip(det_prob(epi,i,k) * num_e(epi)/(num_e(epi)+num_Xi(epi,k)))}})''')\n",
    "\n",
    "v.assume('poss_e_lon','mem( proc(epi,i) {uniform_continuous(0,360)})')\n",
    "v.assume('poss_sin_e_lat','mem( proc(epi,i) { uniform_continuous(-1,1) })')\n",
    "\n",
    "v.assume('poss_e_fake_travel_time','mem( proc(epi,i,k) {I_t(compute_distance(k,poss_e_lon(epi,i),poss_sin_e_lat(epi,i)))})')\n",
    "v.assume('poss_e_m','''mem( proc(epi,i,k) {\n",
    "         if (real_flip(epi,i,k)) {bounded_expon(mu_m,1/theta_m,gamma_m)} else \n",
    "         {student_t(1,(mu_f(k) - lookup(mu_a(k),0) - (lookup(mu_a(k),2)*poss_e_fake_travel_time(epi,i,k))) / lookup(mu_a(k),1),theta_f(k)/lookup(mu_a(k),1))}})''')\n"
   ]
  },
  {
   "cell_type": "code",
   "execution_count": 12,
   "metadata": {
    "collapsed": false
   },
   "outputs": [
    {
     "name": "stdout",
     "output_type": "stream",
     "text": [
      "2583.36533368\n",
      "Trying to annotate an exception led to:\n",
      "Traceback (most recent call last):\n",
      "  File \"/Users/acobb/Desktop/programs/Venturecxx/env.d/lib/python2.7/site-packages/venture/ripl/ripl.py\", line 144, in execute_instruction\n",
      "    annotated = self._annotated_error(e, instruction)\n",
      "  File \"/Users/acobb/Desktop/programs/Venturecxx/env.d/lib/python2.7/site-packages/venture/ripl/ripl.py\", line 158, in _annotated_error\n",
      "    exp, text_index = self.humanReadable(**frame)\n",
      "  File \"/Users/acobb/Desktop/programs/Venturecxx/env.d/lib/python2.7/site-packages/venture/ripl/ripl.py\", line 385, in humanReadable\n",
      "    if hasattr(sys.stdout, \"fileno\") and os.isatty(sys.stdout.fileno()):\n",
      "  File \"/Users/acobb/Desktop/programs/Venturecxx/env.d/lib/python2.7/site-packages/IPython/kernel/zmq/iostream.py\", line 205, in fileno\n",
      "    raise UnsupportedOperation(\"IOStream has no fileno.\")\n",
      "UnsupportedOperation: IOStream has no fileno.\n",
      "\n"
     ]
    },
    {
     "ename": "VentureException",
     "evalue": "*** evaluation: Cannot find symbol 'bounded_expon'\n{'stack_trace': [{'did': 79, 'index': [], 'exp': [{'type': 'symbol', 'value': 'poss_e_m'}, {'type': 'number', 'value': 3}, {'type': 'number', 'value': 0}, {'type': 'number', 'value': 0}]}, {'did': 74, 'index': [1, 2, 1], 'exp': [{'type': 'symbol', 'value': 'mem'}, [{'type': 'symbol', 'value': 'lambda'}, [{'type': 'symbol', 'value': 'epi'}, {'type': 'symbol', 'value': 'i'}, {'type': 'symbol', 'value': 'k'}], [{'type': 'symbol', 'value': 'if'}, [{'type': 'symbol', 'value': 'real_flip'}, {'type': 'symbol', 'value': 'epi'}, {'type': 'symbol', 'value': 'i'}, {'type': 'symbol', 'value': 'k'}], [{'type': 'symbol', 'value': 'bounded_expon'}, {'type': 'symbol', 'value': 'mu_m'}, [{'type': 'symbol', 'value': 'div'}, {'type': 'number', 'value': 1}, {'type': 'symbol', 'value': 'theta_m'}], {'type': 'symbol', 'value': 'gamma_m'}], [{'type': 'symbol', 'value': 'student_t'}, {'type': 'number', 'value': 1}, [{'type': 'symbol', 'value': 'div'}, [{'type': 'symbol', 'value': 'identity'}, [{'type': 'symbol', 'value': 'sub'}, [{'type': 'symbol', 'value': 'sub'}, [{'type': 'symbol', 'value': 'mu_f'}, {'type': 'symbol', 'value': 'k'}], [{'type': 'symbol', 'value': 'lookup'}, [{'type': 'symbol', 'value': 'mu_a'}, {'type': 'symbol', 'value': 'k'}], {'type': 'number', 'value': 0}]], [{'type': 'symbol', 'value': 'identity'}, [{'type': 'symbol', 'value': 'mul'}, [{'type': 'symbol', 'value': 'lookup'}, [{'type': 'symbol', 'value': 'mu_a'}, {'type': 'symbol', 'value': 'k'}], {'type': 'number', 'value': 2}], [{'type': 'symbol', 'value': 'poss_e_fake_travel_time'}, {'type': 'symbol', 'value': 'epi'}, {'type': 'symbol', 'value': 'i'}, {'type': 'symbol', 'value': 'k'}]]]]], [{'type': 'symbol', 'value': 'lookup'}, [{'type': 'symbol', 'value': 'mu_a'}, {'type': 'symbol', 'value': 'k'}], {'type': 'number', 'value': 1}]], [{'type': 'symbol', 'value': 'div'}, [{'type': 'symbol', 'value': 'theta_f'}, {'type': 'symbol', 'value': 'k'}], [{'type': 'symbol', 'value': 'lookup'}, [{'type': 'symbol', 'value': 'mu_a'}, {'type': 'symbol', 'value': 'k'}], {'type': 'number', 'value': 1}]]]]]]}, {'did': 70, 'index': [1, 2], 'exp': [{'type': 'symbol', 'value': 'mem'}, [{'type': 'symbol', 'value': 'lambda'}, [{'type': 'symbol', 'value': 'epi'}, {'type': 'symbol', 'value': 'i'}, {'type': 'symbol', 'value': 'k'}], [{'type': 'symbol', 'value': 'if'}, [{'type': 'symbol', 'value': 'lt'}, [{'type': 'symbol', 'value': 'poss_e_t'}, {'type': 'symbol', 'value': 'epi'}, {'type': 'symbol', 'value': 'i'}, {'type': 'symbol', 'value': 'k'}], {'type': 'number', 'value': 0}], {'type': 'boolean', 'value': False}, [{'type': 'symbol', 'value': 'flip'}, [{'type': 'symbol', 'value': 'div'}, [{'type': 'symbol', 'value': 'mul'}, [{'type': 'symbol', 'value': 'det_prob'}, {'type': 'symbol', 'value': 'epi'}, {'type': 'symbol', 'value': 'i'}, {'type': 'symbol', 'value': 'k'}], [{'type': 'symbol', 'value': 'num_e'}, {'type': 'symbol', 'value': 'epi'}]], [{'type': 'symbol', 'value': 'identity'}, [{'type': 'symbol', 'value': 'add'}, [{'type': 'symbol', 'value': 'num_e'}, {'type': 'symbol', 'value': 'epi'}], [{'type': 'symbol', 'value': 'num_Xi'}, {'type': 'symbol', 'value': 'epi'}, {'type': 'symbol', 'value': 'k'}]]]]]]]]}, {'did': 70, 'index': [1, 2, 3, 1, 1, 1], 'exp': [{'type': 'symbol', 'value': 'mem'}, [{'type': 'symbol', 'value': 'lambda'}, [{'type': 'symbol', 'value': 'epi'}, {'type': 'symbol', 'value': 'i'}, {'type': 'symbol', 'value': 'k'}], [{'type': 'symbol', 'value': 'if'}, [{'type': 'symbol', 'value': 'lt'}, [{'type': 'symbol', 'value': 'poss_e_t'}, {'type': 'symbol', 'value': 'epi'}, {'type': 'symbol', 'value': 'i'}, {'type': 'symbol', 'value': 'k'}], {'type': 'number', 'value': 0}], {'type': 'boolean', 'value': False}, [{'type': 'symbol', 'value': 'flip'}, [{'type': 'symbol', 'value': 'div'}, [{'type': 'symbol', 'value': 'mul'}, [{'type': 'symbol', 'value': 'det_prob'}, {'type': 'symbol', 'value': 'epi'}, {'type': 'symbol', 'value': 'i'}, {'type': 'symbol', 'value': 'k'}], [{'type': 'symbol', 'value': 'num_e'}, {'type': 'symbol', 'value': 'epi'}]], [{'type': 'symbol', 'value': 'identity'}, [{'type': 'symbol', 'value': 'add'}, [{'type': 'symbol', 'value': 'num_e'}, {'type': 'symbol', 'value': 'epi'}], [{'type': 'symbol', 'value': 'num_Xi'}, {'type': 'symbol', 'value': 'epi'}, {'type': 'symbol', 'value': 'k'}]]]]]]]]}, {'did': 53, 'index': [1, 2, 2, 1, 2, 1, 2, 1, 2, 2], 'exp': [{'type': 'symbol', 'value': 'mem'}, [{'type': 'symbol', 'value': 'lambda'}, [{'type': 'symbol', 'value': 'epi'}, {'type': 'symbol', 'value': 'i'}, {'type': 'symbol', 'value': 'k'}], [{'type': 'symbol', 'value': 'div'}, {'type': 'number', 'value': 1.0}, [{'type': 'symbol', 'value': 'identity'}, [{'type': 'symbol', 'value': 'add'}, {'type': 'number', 'value': 1}, [{'type': 'symbol', 'value': 'exp'}, [{'type': 'symbol', 'value': 'mul'}, {'type': 'number', 'value': -1.0}, [{'type': 'symbol', 'value': 'identity'}, [{'type': 'symbol', 'value': 'vector_dot'}, [{'type': 'symbol', 'value': 'mu_d'}, {'type': 'symbol', 'value': 'k'}], [{'type': 'symbol', 'value': 'vector'}, {'type': 'number', 'value': 1}, [{'type': 'symbol', 'value': 'e_m'}, {'type': 'symbol', 'value': 'epi'}, {'type': 'symbol', 'value': 'i'}], [{'type': 'symbol', 'value': 'compute_distance'}, {'type': 'symbol', 'value': 'k'}, [{'type': 'symbol', 'value': 'e_lon'}, {'type': 'symbol', 'value': 'epi'}, {'type': 'symbol', 'value': 'i'}], [{'type': 'symbol', 'value': 'sin_e_lat'}, {'type': 'symbol', 'value': 'epi'}, {'type': 'symbol', 'value': 'i'}]]]]]]]]]]]]}, {'did': 52, 'index': [1, 2, 0], 'exp': [{'type': 'symbol', 'value': 'mem'}, [{'type': 'symbol', 'value': 'lambda'}, [{'type': 'symbol', 'value': 'epi'}, {'type': 'symbol', 'value': 'i'}], [{'type': 'symbol', 'value': 'bounded_expon'}, {'type': 'symbol', 'value': 'mu_m'}, [{'type': 'symbol', 'value': 'div'}, {'type': 'number', 'value': 1}, {'type': 'symbol', 'value': 'theta_m'}], {'type': 'symbol', 'value': 'gamma_m'}]]]}]}\n**************************************************\nStack trace from worker:\n**************************************************\nTraceback (most recent call last):\n  File \"/Users/acobb/Desktop/programs/Venturecxx/env.d/lib/python2.7/site-packages/venture/multiprocess.py\", line 104, in wrapped\n    res = f(*args, **kwargs)\n  File \"/Users/acobb/Desktop/programs/Venturecxx/env.d/lib/python2.7/site-packages/venture/multiprocess.py\", line 339, in <lambda>\n    return safely(lambda *args,**kwargs: getattr(self.obj, attrname)(*args, **kwargs))\n  File \"/Users/acobb/Desktop/programs/Venturecxx/env.d/lib/python2.7/site-packages/venture/engine/trace.py\", line 62, in observe\n    self.trace.eval(baseAddr, exp)\n  File \"/Users/acobb/Desktop/programs/Venturecxx/env.d/lib/python2.7/site-packages/venture/lite/trace.py\", line 352, in eval\n    (_,self.families[id]) = evalFamily(self,Address(List(id)),self.unboxExpression(exp),self.globalEnv,Scaffold(),False,OmegaDB(),{})\n  File \"/Users/acobb/Desktop/programs/Venturecxx/env.d/lib/python2.7/site-packages/venture/lite/regen.py\", line 147, in evalFamily\n    weight += apply(trace,requestNode,outputNode,scaffold,shouldRestore,omegaDB,gradients)\n  File \"/Users/acobb/Desktop/programs/Venturecxx/env.d/lib/python2.7/site-packages/venture/lite/regen.py\", line 168, in apply\n    weight += evalRequests(trace,requestNode,scaffold,shouldRestore,omegaDB,gradients)\n  File \"/Users/acobb/Desktop/programs/Venturecxx/env.d/lib/python2.7/site-packages/venture/lite/regen.py\", line 228, in evalRequests\n    (w,esrParent) = evalFamily(trace,address,esr.exp,esr.env,scaffold,shouldRestore,omegaDB,gradients)\n  File \"/Users/acobb/Desktop/programs/Venturecxx/env.d/lib/python2.7/site-packages/venture/lite/regen.py\", line 147, in evalFamily\n    weight += apply(trace,requestNode,outputNode,scaffold,shouldRestore,omegaDB,gradients)\n  File \"/Users/acobb/Desktop/programs/Venturecxx/env.d/lib/python2.7/site-packages/venture/lite/regen.py\", line 168, in apply\n    weight += evalRequests(trace,requestNode,scaffold,shouldRestore,omegaDB,gradients)\n  File \"/Users/acobb/Desktop/programs/Venturecxx/env.d/lib/python2.7/site-packages/venture/lite/regen.py\", line 228, in evalRequests\n    (w,esrParent) = evalFamily(trace,address,esr.exp,esr.env,scaffold,shouldRestore,omegaDB,gradients)\n  File \"/Users/acobb/Desktop/programs/Venturecxx/env.d/lib/python2.7/site-packages/venture/lite/regen.py\", line 141, in evalFamily\n    w, n = evalFamily(trace,addr,subexp,env,scaffold,shouldRestore,omegaDB,gradients)\n  File \"/Users/acobb/Desktop/programs/Venturecxx/env.d/lib/python2.7/site-packages/venture/lite/regen.py\", line 141, in evalFamily\n    w, n = evalFamily(trace,addr,subexp,env,scaffold,shouldRestore,omegaDB,gradients)\n  File \"/Users/acobb/Desktop/programs/Venturecxx/env.d/lib/python2.7/site-packages/venture/lite/regen.py\", line 147, in evalFamily\n    weight += apply(trace,requestNode,outputNode,scaffold,shouldRestore,omegaDB,gradients)\n  File \"/Users/acobb/Desktop/programs/Venturecxx/env.d/lib/python2.7/site-packages/venture/lite/regen.py\", line 168, in apply\n    weight += evalRequests(trace,requestNode,scaffold,shouldRestore,omegaDB,gradients)\n  File \"/Users/acobb/Desktop/programs/Venturecxx/env.d/lib/python2.7/site-packages/venture/lite/regen.py\", line 228, in evalRequests\n    (w,esrParent) = evalFamily(trace,address,esr.exp,esr.env,scaffold,shouldRestore,omegaDB,gradients)\n  File \"/Users/acobb/Desktop/programs/Venturecxx/env.d/lib/python2.7/site-packages/venture/lite/regen.py\", line 147, in evalFamily\n    weight += apply(trace,requestNode,outputNode,scaffold,shouldRestore,omegaDB,gradients)\n  File \"/Users/acobb/Desktop/programs/Venturecxx/env.d/lib/python2.7/site-packages/venture/lite/regen.py\", line 168, in apply\n    weight += evalRequests(trace,requestNode,scaffold,shouldRestore,omegaDB,gradients)\n  File \"/Users/acobb/Desktop/programs/Venturecxx/env.d/lib/python2.7/site-packages/venture/lite/regen.py\", line 228, in evalRequests\n    (w,esrParent) = evalFamily(trace,address,esr.exp,esr.env,scaffold,shouldRestore,omegaDB,gradients)\n  File \"/Users/acobb/Desktop/programs/Venturecxx/env.d/lib/python2.7/site-packages/venture/lite/regen.py\", line 147, in evalFamily\n    weight += apply(trace,requestNode,outputNode,scaffold,shouldRestore,omegaDB,gradients)\n  File \"/Users/acobb/Desktop/programs/Venturecxx/env.d/lib/python2.7/site-packages/venture/lite/regen.py\", line 168, in apply\n    weight += evalRequests(trace,requestNode,scaffold,shouldRestore,omegaDB,gradients)\n  File \"/Users/acobb/Desktop/programs/Venturecxx/env.d/lib/python2.7/site-packages/venture/lite/regen.py\", line 228, in evalRequests\n    (w,esrParent) = evalFamily(trace,address,esr.exp,esr.env,scaffold,shouldRestore,omegaDB,gradients)\n  File \"/Users/acobb/Desktop/programs/Venturecxx/env.d/lib/python2.7/site-packages/venture/lite/regen.py\", line 141, in evalFamily\n    w, n = evalFamily(trace,addr,subexp,env,scaffold,shouldRestore,omegaDB,gradients)\n  File \"/Users/acobb/Desktop/programs/Venturecxx/env.d/lib/python2.7/site-packages/venture/lite/regen.py\", line 141, in evalFamily\n    w, n = evalFamily(trace,addr,subexp,env,scaffold,shouldRestore,omegaDB,gradients)\n  File \"/Users/acobb/Desktop/programs/Venturecxx/env.d/lib/python2.7/site-packages/venture/lite/regen.py\", line 141, in evalFamily\n    w, n = evalFamily(trace,addr,subexp,env,scaffold,shouldRestore,omegaDB,gradients)\n  File \"/Users/acobb/Desktop/programs/Venturecxx/env.d/lib/python2.7/site-packages/venture/lite/regen.py\", line 147, in evalFamily\n    weight += apply(trace,requestNode,outputNode,scaffold,shouldRestore,omegaDB,gradients)\n  File \"/Users/acobb/Desktop/programs/Venturecxx/env.d/lib/python2.7/site-packages/venture/lite/regen.py\", line 168, in apply\n    weight += evalRequests(trace,requestNode,scaffold,shouldRestore,omegaDB,gradients)\n  File \"/Users/acobb/Desktop/programs/Venturecxx/env.d/lib/python2.7/site-packages/venture/lite/regen.py\", line 228, in evalRequests\n    (w,esrParent) = evalFamily(trace,address,esr.exp,esr.env,scaffold,shouldRestore,omegaDB,gradients)\n  File \"/Users/acobb/Desktop/programs/Venturecxx/env.d/lib/python2.7/site-packages/venture/lite/regen.py\", line 147, in evalFamily\n    weight += apply(trace,requestNode,outputNode,scaffold,shouldRestore,omegaDB,gradients)\n  File \"/Users/acobb/Desktop/programs/Venturecxx/env.d/lib/python2.7/site-packages/venture/lite/regen.py\", line 168, in apply\n    weight += evalRequests(trace,requestNode,scaffold,shouldRestore,omegaDB,gradients)\n  File \"/Users/acobb/Desktop/programs/Venturecxx/env.d/lib/python2.7/site-packages/venture/lite/regen.py\", line 228, in evalRequests\n    (w,esrParent) = evalFamily(trace,address,esr.exp,esr.env,scaffold,shouldRestore,omegaDB,gradients)\n  File \"/Users/acobb/Desktop/programs/Venturecxx/env.d/lib/python2.7/site-packages/venture/lite/regen.py\", line 141, in evalFamily\n    w, n = evalFamily(trace,addr,subexp,env,scaffold,shouldRestore,omegaDB,gradients)\n  File \"/Users/acobb/Desktop/programs/Venturecxx/env.d/lib/python2.7/site-packages/venture/lite/regen.py\", line 141, in evalFamily\n    w, n = evalFamily(trace,addr,subexp,env,scaffold,shouldRestore,omegaDB,gradients)\n  File \"/Users/acobb/Desktop/programs/Venturecxx/env.d/lib/python2.7/site-packages/venture/lite/regen.py\", line 141, in evalFamily\n    w, n = evalFamily(trace,addr,subexp,env,scaffold,shouldRestore,omegaDB,gradients)\n  File \"/Users/acobb/Desktop/programs/Venturecxx/env.d/lib/python2.7/site-packages/venture/lite/regen.py\", line 141, in evalFamily\n    w, n = evalFamily(trace,addr,subexp,env,scaffold,shouldRestore,omegaDB,gradients)\n  File \"/Users/acobb/Desktop/programs/Venturecxx/env.d/lib/python2.7/site-packages/venture/lite/regen.py\", line 141, in evalFamily\n    w, n = evalFamily(trace,addr,subexp,env,scaffold,shouldRestore,omegaDB,gradients)\n  File \"/Users/acobb/Desktop/programs/Venturecxx/env.d/lib/python2.7/site-packages/venture/lite/regen.py\", line 141, in evalFamily\n    w, n = evalFamily(trace,addr,subexp,env,scaffold,shouldRestore,omegaDB,gradients)\n  File \"/Users/acobb/Desktop/programs/Venturecxx/env.d/lib/python2.7/site-packages/venture/lite/regen.py\", line 147, in evalFamily\n    weight += apply(trace,requestNode,outputNode,scaffold,shouldRestore,omegaDB,gradients)\n  File \"/Users/acobb/Desktop/programs/Venturecxx/env.d/lib/python2.7/site-packages/venture/lite/regen.py\", line 168, in apply\n    weight += evalRequests(trace,requestNode,scaffold,shouldRestore,omegaDB,gradients)\n  File \"/Users/acobb/Desktop/programs/Venturecxx/env.d/lib/python2.7/site-packages/venture/lite/regen.py\", line 228, in evalRequests\n    (w,esrParent) = evalFamily(trace,address,esr.exp,esr.env,scaffold,shouldRestore,omegaDB,gradients)\n  File \"/Users/acobb/Desktop/programs/Venturecxx/env.d/lib/python2.7/site-packages/venture/lite/regen.py\", line 147, in evalFamily\n    weight += apply(trace,requestNode,outputNode,scaffold,shouldRestore,omegaDB,gradients)\n  File \"/Users/acobb/Desktop/programs/Venturecxx/env.d/lib/python2.7/site-packages/venture/lite/regen.py\", line 168, in apply\n    weight += evalRequests(trace,requestNode,scaffold,shouldRestore,omegaDB,gradients)\n  File \"/Users/acobb/Desktop/programs/Venturecxx/env.d/lib/python2.7/site-packages/venture/lite/regen.py\", line 228, in evalRequests\n    (w,esrParent) = evalFamily(trace,address,esr.exp,esr.env,scaffold,shouldRestore,omegaDB,gradients)\n  File \"/Users/acobb/Desktop/programs/Venturecxx/env.d/lib/python2.7/site-packages/venture/lite/regen.py\", line 141, in evalFamily\n    w, n = evalFamily(trace,addr,subexp,env,scaffold,shouldRestore,omegaDB,gradients)\n  File \"/Users/acobb/Desktop/programs/Venturecxx/env.d/lib/python2.7/site-packages/venture/lite/regen.py\", line 127, in evalFamily\n    sourceNode = env.findSymbol(exp)\n  File \"/Users/acobb/Desktop/programs/Venturecxx/env.d/lib/python2.7/site-packages/venture/lite/env.py\", line 59, in findSymbol\n    else: ret = self.outerEnv.findSymbol(sym)\n  File \"/Users/acobb/Desktop/programs/Venturecxx/env.d/lib/python2.7/site-packages/venture/lite/env.py\", line 59, in findSymbol\n    else: ret = self.outerEnv.findSymbol(sym)\n  File \"/Users/acobb/Desktop/programs/Venturecxx/env.d/lib/python2.7/site-packages/venture/lite/env.py\", line 61, in findSymbol\n    raise VentureError(\"Cannot find symbol '%s'\" % sym)\nVentureException: *** evaluation: Cannot find symbol 'bounded_expon'\n{'address': [[79], [[]], [74, 1, 2, 1, 0, 1], [[]], [70, 1, 2, 1], [70, 1, 2, 1, 0, 3, 2, 1, 1, 1, 1], [[]], [53, 1, 2, 1, 2, 2, 1, 2, 2, 2], [[]], [52, 1, 2, 1, 0]]}\n",
     "output_type": "error",
     "traceback": [
      "\u001b[0;31m---------------------------------------------------------------------------\u001b[0m",
      "\u001b[0;31mVentureException\u001b[0m                          Traceback (most recent call last)",
      "\u001b[0;32m<ipython-input-12-cbb394e2a830>\u001b[0m in \u001b[0;36m<module>\u001b[0;34m()\u001b[0m\n\u001b[1;32m     11\u001b[0m         \u001b[0mv\u001b[0m\u001b[0;34m.\u001b[0m\u001b[0mobserve\u001b[0m\u001b[0;34m(\u001b[0m\u001b[0;34m'poss_sin_e_lat({0},{1})'\u001b[0m\u001b[0;34m.\u001b[0m\u001b[0mformat\u001b[0m\u001b[0;34m(\u001b[0m\u001b[0mepi\u001b[0m\u001b[0;34m,\u001b[0m\u001b[0mdet_id\u001b[0m\u001b[0;34m)\u001b[0m\u001b[0;34m,\u001b[0m\u001b[0;34m'{0}'\u001b[0m\u001b[0;34m.\u001b[0m\u001b[0mformat\u001b[0m\u001b[0;34m(\u001b[0m\u001b[0mnp\u001b[0m\u001b[0;34m.\u001b[0m\u001b[0msin\u001b[0m\u001b[0;34m(\u001b[0m\u001b[0mnp\u001b[0m\u001b[0;34m.\u001b[0m\u001b[0mradians\u001b[0m\u001b[0;34m(\u001b[0m\u001b[0mML_loc\u001b[0m\u001b[0;34m[\u001b[0m\u001b[0;36m1\u001b[0m\u001b[0;34m]\u001b[0m\u001b[0;34m)\u001b[0m\u001b[0;34m)\u001b[0m\u001b[0;34m)\u001b[0m\u001b[0;34m)\u001b[0m\u001b[0;34m\u001b[0m\u001b[0m\n\u001b[1;32m     12\u001b[0m         \u001b[0mv\u001b[0m\u001b[0;34m.\u001b[0m\u001b[0mobserve\u001b[0m\u001b[0;34m(\u001b[0m\u001b[0;34m'poss_e_t({0},{1},{2})'\u001b[0m\u001b[0;34m.\u001b[0m\u001b[0mformat\u001b[0m\u001b[0;34m(\u001b[0m\u001b[0mepi\u001b[0m\u001b[0;34m,\u001b[0m\u001b[0mdet_id\u001b[0m\u001b[0;34m,\u001b[0m\u001b[0mdet\u001b[0m\u001b[0;34m.\u001b[0m\u001b[0mstanum\u001b[0m\u001b[0;34m)\u001b[0m\u001b[0;34m,\u001b[0m\u001b[0;34m'{0}'\u001b[0m\u001b[0;34m.\u001b[0m\u001b[0mformat\u001b[0m\u001b[0;34m(\u001b[0m\u001b[0mML_time\u001b[0m\u001b[0;34m)\u001b[0m\u001b[0;34m)\u001b[0m\u001b[0;34m\u001b[0m\u001b[0m\n\u001b[0;32m---> 13\u001b[0;31m         \u001b[0mv\u001b[0m\u001b[0;34m.\u001b[0m\u001b[0mobserve\u001b[0m\u001b[0;34m(\u001b[0m\u001b[0;34m'poss_e_m({0},{1},{2})'\u001b[0m\u001b[0;34m.\u001b[0m\u001b[0mformat\u001b[0m\u001b[0;34m(\u001b[0m\u001b[0mepi\u001b[0m\u001b[0;34m,\u001b[0m\u001b[0mdet_id\u001b[0m\u001b[0;34m,\u001b[0m\u001b[0mdet\u001b[0m\u001b[0;34m.\u001b[0m\u001b[0mstanum\u001b[0m\u001b[0;34m)\u001b[0m\u001b[0;34m,\u001b[0m\u001b[0;34m'{0}'\u001b[0m\u001b[0;34m.\u001b[0m\u001b[0mformat\u001b[0m\u001b[0;34m(\u001b[0m\u001b[0mML_mag\u001b[0m\u001b[0;34m)\u001b[0m\u001b[0;34m)\u001b[0m\u001b[0;34m\u001b[0m\u001b[0m\n\u001b[0m\u001b[1;32m     14\u001b[0m \u001b[0;34m\u001b[0m\u001b[0m\n\u001b[1;32m     15\u001b[0m \u001b[0mv\u001b[0m\u001b[0;34m.\u001b[0m\u001b[0minfer\u001b[0m\u001b[0;34m(\u001b[0m\u001b[0;34m'bogo_possibilize(default, all,1)'\u001b[0m\u001b[0;34m)\u001b[0m\u001b[0;34m\u001b[0m\u001b[0m\n",
      "\u001b[0;32m/Users/acobb/Desktop/programs/Venturecxx/env.d/lib/python2.7/site-packages/venture/ripl/ripl.pyc\u001b[0m in \u001b[0;36mobserve\u001b[0;34m(self, expression, value, label, type)\u001b[0m\n\u001b[1;32m    528\u001b[0m             \u001b[0mlabel\u001b[0m \u001b[0;34m=\u001b[0m \u001b[0m_symbolize\u001b[0m\u001b[0;34m(\u001b[0m\u001b[0mlabel\u001b[0m\u001b[0;34m)\u001b[0m\u001b[0;34m\u001b[0m\u001b[0m\n\u001b[1;32m    529\u001b[0m             \u001b[0mi\u001b[0m \u001b[0;34m=\u001b[0m \u001b[0;34m{\u001b[0m\u001b[0;34m'instruction'\u001b[0m\u001b[0;34m:\u001b[0m\u001b[0;34m'labeled_observe'\u001b[0m\u001b[0;34m,\u001b[0m \u001b[0;34m'expression'\u001b[0m\u001b[0;34m:\u001b[0m\u001b[0mexpression\u001b[0m\u001b[0;34m,\u001b[0m \u001b[0;34m'value'\u001b[0m\u001b[0;34m:\u001b[0m\u001b[0mvalue\u001b[0m\u001b[0;34m,\u001b[0m \u001b[0;34m'label'\u001b[0m\u001b[0;34m:\u001b[0m\u001b[0mlabel\u001b[0m\u001b[0;34m}\u001b[0m\u001b[0;34m\u001b[0m\u001b[0m\n\u001b[0;32m--> 530\u001b[0;31m         \u001b[0mself\u001b[0m\u001b[0;34m.\u001b[0m\u001b[0mexecute_instruction\u001b[0m\u001b[0;34m(\u001b[0m\u001b[0mi\u001b[0m\u001b[0;34m)\u001b[0m\u001b[0;34m\u001b[0m\u001b[0m\n\u001b[0m\u001b[1;32m    531\u001b[0m         \u001b[0;32mreturn\u001b[0m \u001b[0mNone\u001b[0m\u001b[0;34m\u001b[0m\u001b[0m\n\u001b[1;32m    532\u001b[0m \u001b[0;34m\u001b[0m\u001b[0m\n",
      "\u001b[0;32m/Users/acobb/Desktop/programs/Venturecxx/env.d/lib/python2.7/site-packages/venture/ripl/ripl.pyc\u001b[0m in \u001b[0;36mexecute_instruction\u001b[0;34m(self, instruction, params)\u001b[0m\n\u001b[1;32m    137\u001b[0m                 \u001b[0mself\u001b[0m\u001b[0;34m.\u001b[0m\u001b[0mdirective_id_to_stringable_instruction\u001b[0m\u001b[0;34m[\u001b[0m\u001b[0mdid\u001b[0m\u001b[0;34m]\u001b[0m \u001b[0;34m=\u001b[0m \u001b[0mstringable_instruction\u001b[0m\u001b[0;34m\u001b[0m\u001b[0m\n\u001b[1;32m    138\u001b[0m                 \u001b[0mself\u001b[0m\u001b[0;34m.\u001b[0m\u001b[0mdirective_id_to_mode\u001b[0m\u001b[0;34m[\u001b[0m\u001b[0mdid\u001b[0m\u001b[0;34m]\u001b[0m \u001b[0;34m=\u001b[0m \u001b[0mself\u001b[0m\u001b[0;34m.\u001b[0m\u001b[0mmode\u001b[0m\u001b[0;34m\u001b[0m\u001b[0m\n\u001b[0;32m--> 139\u001b[0;31m             \u001b[0mret_value\u001b[0m \u001b[0;34m=\u001b[0m \u001b[0mself\u001b[0m\u001b[0;34m.\u001b[0m\u001b[0msivm\u001b[0m\u001b[0;34m.\u001b[0m\u001b[0mexecute_instruction\u001b[0m\u001b[0;34m(\u001b[0m\u001b[0mparsed_instruction\u001b[0m\u001b[0;34m)\u001b[0m\u001b[0;34m\u001b[0m\u001b[0m\n\u001b[0m\u001b[1;32m    140\u001b[0m         \u001b[0;32mexcept\u001b[0m \u001b[0mVentureException\u001b[0m \u001b[0;32mas\u001b[0m \u001b[0me\u001b[0m\u001b[0;34m:\u001b[0m\u001b[0;34m\u001b[0m\u001b[0m\n\u001b[1;32m    141\u001b[0m             \u001b[0;32mimport\u001b[0m \u001b[0msys\u001b[0m\u001b[0;34m\u001b[0m\u001b[0m\n",
      "\u001b[0;32m/Users/acobb/Desktop/programs/Venturecxx/env.d/lib/python2.7/site-packages/venture/sivm/venture_sivm.pyc\u001b[0m in \u001b[0;36mexecute_instruction\u001b[0;34m(self, instruction)\u001b[0m\n\u001b[1;32m     66\u001b[0m                 \u001b[0;32mreturn\u001b[0m \u001b[0mf\u001b[0m\u001b[0;34m(\u001b[0m\u001b[0minstruction\u001b[0m\u001b[0;34m)\u001b[0m\u001b[0;34m\u001b[0m\u001b[0m\n\u001b[1;32m     67\u001b[0m             \u001b[0;32melse\u001b[0m\u001b[0;34m:\u001b[0m\u001b[0;34m\u001b[0m\u001b[0m\n\u001b[0;32m---> 68\u001b[0;31m                 \u001b[0mresponse\u001b[0m \u001b[0;34m=\u001b[0m \u001b[0mself\u001b[0m\u001b[0;34m.\u001b[0m\u001b[0m_call_core_sivm_instruction\u001b[0m\u001b[0;34m(\u001b[0m\u001b[0minstruction\u001b[0m\u001b[0;34m)\u001b[0m\u001b[0;34m\u001b[0m\u001b[0m\n\u001b[0m\u001b[1;32m     69\u001b[0m                 \u001b[0;32mreturn\u001b[0m \u001b[0mresponse\u001b[0m\u001b[0;34m\u001b[0m\u001b[0m\n\u001b[1;32m     70\u001b[0m \u001b[0;34m\u001b[0m\u001b[0m\n",
      "\u001b[0;32m/Users/acobb/Desktop/programs/Venturecxx/env.d/lib/python2.7/site-packages/venture/sivm/venture_sivm.pyc\u001b[0m in \u001b[0;36m_call_core_sivm_instruction\u001b[0;34m(self, instruction)\u001b[0m\n\u001b[1;32m    127\u001b[0m             \u001b[0mdesugared_src_location\u001b[0m\u001b[0;34m[\u001b[0m\u001b[0;34m'expression_index'\u001b[0m\u001b[0;34m]\u001b[0m \u001b[0;34m=\u001b[0m \u001b[0mnew_index\u001b[0m\u001b[0;34m\u001b[0m\u001b[0m\n\u001b[1;32m    128\u001b[0m         \u001b[0;32mtry\u001b[0m\u001b[0;34m:\u001b[0m\u001b[0;34m\u001b[0m\u001b[0m\n\u001b[0;32m--> 129\u001b[0;31m             \u001b[0mresponse\u001b[0m \u001b[0;34m=\u001b[0m \u001b[0mself\u001b[0m\u001b[0;34m.\u001b[0m\u001b[0mcore_sivm\u001b[0m\u001b[0;34m.\u001b[0m\u001b[0mexecute_instruction\u001b[0m\u001b[0;34m(\u001b[0m\u001b[0mdesugared_instruction\u001b[0m\u001b[0;34m)\u001b[0m\u001b[0;34m\u001b[0m\u001b[0m\n\u001b[0m\u001b[1;32m    130\u001b[0m         \u001b[0;32mexcept\u001b[0m \u001b[0mVentureException\u001b[0m \u001b[0;32mas\u001b[0m \u001b[0me\u001b[0m\u001b[0;34m:\u001b[0m\u001b[0;34m\u001b[0m\u001b[0m\n\u001b[1;32m    131\u001b[0m             \u001b[0;31m# raise # One can suppress error annotation by uncommenting this\u001b[0m\u001b[0;34m\u001b[0m\u001b[0;34m\u001b[0m\u001b[0m\n",
      "\u001b[0;32m/Users/acobb/Desktop/programs/Venturecxx/env.d/lib/python2.7/site-packages/venture/sivm/core_sivm.pyc\u001b[0m in \u001b[0;36mexecute_instruction\u001b[0;34m(self, instruction)\u001b[0m\n\u001b[1;32m     44\u001b[0m         \u001b[0mutils\u001b[0m\u001b[0;34m.\u001b[0m\u001b[0mvalidate_instruction\u001b[0m\u001b[0;34m(\u001b[0m\u001b[0minstruction\u001b[0m\u001b[0;34m,\u001b[0m\u001b[0mself\u001b[0m\u001b[0;34m.\u001b[0m\u001b[0m_implemented_instructions\u001b[0m\u001b[0;34m)\u001b[0m\u001b[0;34m\u001b[0m\u001b[0m\n\u001b[1;32m     45\u001b[0m         \u001b[0mf\u001b[0m \u001b[0;34m=\u001b[0m \u001b[0mgetattr\u001b[0m\u001b[0;34m(\u001b[0m\u001b[0mself\u001b[0m\u001b[0;34m,\u001b[0m\u001b[0;34m'_do_'\u001b[0m\u001b[0;34m+\u001b[0m\u001b[0minstruction\u001b[0m\u001b[0;34m[\u001b[0m\u001b[0;34m'instruction'\u001b[0m\u001b[0;34m]\u001b[0m\u001b[0;34m)\u001b[0m\u001b[0;34m\u001b[0m\u001b[0m\n\u001b[0;32m---> 46\u001b[0;31m         \u001b[0;32mreturn\u001b[0m \u001b[0mf\u001b[0m\u001b[0;34m(\u001b[0m\u001b[0minstruction\u001b[0m\u001b[0;34m)\u001b[0m\u001b[0;34m\u001b[0m\u001b[0m\n\u001b[0m\u001b[1;32m     47\u001b[0m \u001b[0;34m\u001b[0m\u001b[0m\n\u001b[1;32m     48\u001b[0m     \u001b[0;31m###############################\u001b[0m\u001b[0;34m\u001b[0m\u001b[0;34m\u001b[0m\u001b[0m\n",
      "\u001b[0;32m/Users/acobb/Desktop/programs/Venturecxx/env.d/lib/python2.7/site-packages/venture/sivm/core_sivm.pyc\u001b[0m in \u001b[0;36m_do_observe\u001b[0;34m(self, instruction)\u001b[0m\n\u001b[1;32m     90\u001b[0m         val = utils.validate_arg(instruction,'value',\n\u001b[1;32m     91\u001b[0m                 utils.validate_value,modifier=_modify_value)\n\u001b[0;32m---> 92\u001b[0;31m         \u001b[0mdid\u001b[0m \u001b[0;34m=\u001b[0m \u001b[0mself\u001b[0m\u001b[0;34m.\u001b[0m\u001b[0mengine\u001b[0m\u001b[0;34m.\u001b[0m\u001b[0mobserve\u001b[0m\u001b[0;34m(\u001b[0m\u001b[0mexp\u001b[0m\u001b[0;34m,\u001b[0m\u001b[0mval\u001b[0m\u001b[0;34m)\u001b[0m\u001b[0;34m\u001b[0m\u001b[0m\n\u001b[0m\u001b[1;32m     93\u001b[0m         \u001b[0mself\u001b[0m\u001b[0;34m.\u001b[0m\u001b[0mobserve_dict\u001b[0m\u001b[0;34m[\u001b[0m\u001b[0mdid\u001b[0m\u001b[0;34m]\u001b[0m \u001b[0;34m=\u001b[0m \u001b[0minstruction\u001b[0m\u001b[0;34m\u001b[0m\u001b[0m\n\u001b[1;32m     94\u001b[0m         \u001b[0;32mreturn\u001b[0m \u001b[0;34m{\u001b[0m\u001b[0;34m\"directive_id\"\u001b[0m\u001b[0;34m:\u001b[0m\u001b[0mdid\u001b[0m\u001b[0;34m}\u001b[0m\u001b[0;34m\u001b[0m\u001b[0m\n",
      "\u001b[0;32m/Users/acobb/Desktop/programs/Venturecxx/env.d/lib/python2.7/site-packages/venture/engine/engine.pyc\u001b[0m in \u001b[0;36mobserve\u001b[0;34m(self, datum, val)\u001b[0m\n\u001b[1;32m     94\u001b[0m   \u001b[0;32mdef\u001b[0m \u001b[0mobserve\u001b[0m\u001b[0;34m(\u001b[0m\u001b[0mself\u001b[0m\u001b[0;34m,\u001b[0m\u001b[0mdatum\u001b[0m\u001b[0;34m,\u001b[0m\u001b[0mval\u001b[0m\u001b[0;34m)\u001b[0m\u001b[0;34m:\u001b[0m\u001b[0;34m\u001b[0m\u001b[0m\n\u001b[1;32m     95\u001b[0m     \u001b[0mbaseAddr\u001b[0m \u001b[0;34m=\u001b[0m \u001b[0mself\u001b[0m\u001b[0;34m.\u001b[0m\u001b[0mnextBaseAddr\u001b[0m\u001b[0;34m(\u001b[0m\u001b[0;34m)\u001b[0m\u001b[0;34m\u001b[0m\u001b[0m\n\u001b[0;32m---> 96\u001b[0;31m     \u001b[0mself\u001b[0m\u001b[0;34m.\u001b[0m\u001b[0mmodel\u001b[0m\u001b[0;34m.\u001b[0m\u001b[0mobserve\u001b[0m\u001b[0;34m(\u001b[0m\u001b[0mbaseAddr\u001b[0m\u001b[0;34m,\u001b[0m \u001b[0mdatum\u001b[0m\u001b[0;34m,\u001b[0m \u001b[0mval\u001b[0m\u001b[0;34m)\u001b[0m\u001b[0;34m\u001b[0m\u001b[0m\n\u001b[0m\u001b[1;32m     97\u001b[0m     \u001b[0;32mif\u001b[0m \u001b[0mTrue\u001b[0m\u001b[0;34m:\u001b[0m \u001b[0;31m# TODO: add flag to toggle auto-incorporation\u001b[0m\u001b[0;34m\u001b[0m\u001b[0m\n\u001b[1;32m     98\u001b[0m       \u001b[0mself\u001b[0m\u001b[0;34m.\u001b[0m\u001b[0mincorporate\u001b[0m\u001b[0;34m(\u001b[0m\u001b[0;34m)\u001b[0m\u001b[0;34m\u001b[0m\u001b[0m\n",
      "\u001b[0;32m/Users/acobb/Desktop/programs/Venturecxx/env.d/lib/python2.7/site-packages/venture/engine/trace_set.pyc\u001b[0m in \u001b[0;36mobserve\u001b[0;34m(self, baseAddr, datum, val)\u001b[0m\n\u001b[1;32m     62\u001b[0m \u001b[0;34m\u001b[0m\u001b[0m\n\u001b[1;32m     63\u001b[0m   \u001b[0;32mdef\u001b[0m \u001b[0mobserve\u001b[0m\u001b[0;34m(\u001b[0m\u001b[0mself\u001b[0m\u001b[0;34m,\u001b[0m \u001b[0mbaseAddr\u001b[0m\u001b[0;34m,\u001b[0m \u001b[0mdatum\u001b[0m\u001b[0;34m,\u001b[0m \u001b[0mval\u001b[0m\u001b[0;34m)\u001b[0m\u001b[0;34m:\u001b[0m\u001b[0;34m\u001b[0m\u001b[0m\n\u001b[0;32m---> 64\u001b[0;31m     \u001b[0mself\u001b[0m\u001b[0;34m.\u001b[0m\u001b[0mtraces\u001b[0m\u001b[0;34m.\u001b[0m\u001b[0mmap\u001b[0m\u001b[0;34m(\u001b[0m\u001b[0;34m'observe'\u001b[0m\u001b[0;34m,\u001b[0m \u001b[0mbaseAddr\u001b[0m\u001b[0;34m,\u001b[0m \u001b[0mdatum\u001b[0m\u001b[0;34m,\u001b[0m \u001b[0mval\u001b[0m\u001b[0;34m)\u001b[0m\u001b[0;34m\u001b[0m\u001b[0m\n\u001b[0m\u001b[1;32m     65\u001b[0m \u001b[0;34m\u001b[0m\u001b[0m\n\u001b[1;32m     66\u001b[0m   \u001b[0;32mdef\u001b[0m \u001b[0mforget\u001b[0m\u001b[0;34m(\u001b[0m\u001b[0mself\u001b[0m\u001b[0;34m,\u001b[0m \u001b[0mdirectiveId\u001b[0m\u001b[0;34m)\u001b[0m\u001b[0;34m:\u001b[0m\u001b[0;34m\u001b[0m\u001b[0m\n",
      "\u001b[0;32m/Users/acobb/Desktop/programs/Venturecxx/env.d/lib/python2.7/site-packages/venture/multiprocess.pyc\u001b[0m in \u001b[0;36mmap\u001b[0;34m(self, cmd, *args, **kwargs)\u001b[0m\n\u001b[1;32m    198\u001b[0m       \u001b[0mans\u001b[0m \u001b[0;34m=\u001b[0m \u001b[0mpipe\u001b[0m\u001b[0;34m.\u001b[0m\u001b[0mrecv\u001b[0m\u001b[0;34m(\u001b[0m\u001b[0;34m)\u001b[0m\u001b[0;34m\u001b[0m\u001b[0m\n\u001b[1;32m    199\u001b[0m       \u001b[0mself\u001b[0m\u001b[0;34m.\u001b[0m\u001b[0maccumulate_result\u001b[0m\u001b[0;34m(\u001b[0m\u001b[0mres\u001b[0m\u001b[0;34m,\u001b[0m \u001b[0mans\u001b[0m\u001b[0;34m)\u001b[0m\u001b[0;34m\u001b[0m\u001b[0m\n\u001b[0;32m--> 200\u001b[0;31m     \u001b[0;32mreturn\u001b[0m \u001b[0mself\u001b[0m\u001b[0;34m.\u001b[0m\u001b[0mhandle_result_list\u001b[0m\u001b[0;34m(\u001b[0m\u001b[0mres\u001b[0m\u001b[0;34m)\u001b[0m\u001b[0;34m\u001b[0m\u001b[0m\n\u001b[0m\u001b[1;32m    201\u001b[0m \u001b[0;34m\u001b[0m\u001b[0m\n\u001b[1;32m    202\u001b[0m   \u001b[0;32mdef\u001b[0m \u001b[0mmap_chunk\u001b[0m\u001b[0;34m(\u001b[0m\u001b[0mself\u001b[0m\u001b[0;34m,\u001b[0m \u001b[0mix\u001b[0m\u001b[0;34m,\u001b[0m \u001b[0mcmd\u001b[0m\u001b[0;34m,\u001b[0m \u001b[0;34m*\u001b[0m\u001b[0margs\u001b[0m\u001b[0;34m,\u001b[0m \u001b[0;34m**\u001b[0m\u001b[0mkwargs\u001b[0m\u001b[0;34m)\u001b[0m\u001b[0;34m:\u001b[0m\u001b[0;34m\u001b[0m\u001b[0m\n",
      "\u001b[0;32m/Users/acobb/Desktop/programs/Venturecxx/env.d/lib/python2.7/site-packages/venture/multiprocess.pyc\u001b[0m in \u001b[0;36mhandle_result_list\u001b[0;34m(self, res)\u001b[0m\n\u001b[1;32m    231\u001b[0m     \u001b[0;32mif\u001b[0m \u001b[0many\u001b[0m\u001b[0;34m(\u001b[0m\u001b[0;34m[\u001b[0m\u001b[0mentry\u001b[0m\u001b[0;34m.\u001b[0m\u001b[0mthrew_error\u001b[0m\u001b[0;34m(\u001b[0m\u001b[0;34m)\u001b[0m \u001b[0;32mfor\u001b[0m \u001b[0mentry\u001b[0m \u001b[0;32min\u001b[0m \u001b[0mres\u001b[0m\u001b[0;34m]\u001b[0m\u001b[0;34m)\u001b[0m\u001b[0;34m:\u001b[0m\u001b[0;34m\u001b[0m\u001b[0m\n\u001b[1;32m    232\u001b[0m       \u001b[0mexception_handler\u001b[0m \u001b[0;34m=\u001b[0m \u001b[0mWorkerExceptionHandler\u001b[0m\u001b[0;34m(\u001b[0m\u001b[0mres\u001b[0m\u001b[0;34m)\u001b[0m\u001b[0;34m\u001b[0m\u001b[0m\n\u001b[0;32m--> 233\u001b[0;31m       \u001b[0;32mraise\u001b[0m \u001b[0mexception_handler\u001b[0m\u001b[0;34m.\u001b[0m\u001b[0mgen_exception\u001b[0m\u001b[0;34m(\u001b[0m\u001b[0;34m)\u001b[0m\u001b[0;34m\u001b[0m\u001b[0m\n\u001b[0m\u001b[1;32m    234\u001b[0m     \u001b[0;32mreturn\u001b[0m \u001b[0;34m[\u001b[0m\u001b[0mentry\u001b[0m\u001b[0;34m.\u001b[0m\u001b[0mresult\u001b[0m \u001b[0;32mfor\u001b[0m \u001b[0mentry\u001b[0m \u001b[0;32min\u001b[0m \u001b[0mres\u001b[0m\u001b[0;34m]\u001b[0m\u001b[0;34m\u001b[0m\u001b[0m\n\u001b[1;32m    235\u001b[0m \u001b[0;34m\u001b[0m\u001b[0m\n",
      "\u001b[0;31mVentureException\u001b[0m: *** evaluation: Cannot find symbol 'bounded_expon'\n{'stack_trace': [{'did': 79, 'index': [], 'exp': [{'type': 'symbol', 'value': 'poss_e_m'}, {'type': 'number', 'value': 3}, {'type': 'number', 'value': 0}, {'type': 'number', 'value': 0}]}, {'did': 74, 'index': [1, 2, 1], 'exp': [{'type': 'symbol', 'value': 'mem'}, [{'type': 'symbol', 'value': 'lambda'}, [{'type': 'symbol', 'value': 'epi'}, {'type': 'symbol', 'value': 'i'}, {'type': 'symbol', 'value': 'k'}], [{'type': 'symbol', 'value': 'if'}, [{'type': 'symbol', 'value': 'real_flip'}, {'type': 'symbol', 'value': 'epi'}, {'type': 'symbol', 'value': 'i'}, {'type': 'symbol', 'value': 'k'}], [{'type': 'symbol', 'value': 'bounded_expon'}, {'type': 'symbol', 'value': 'mu_m'}, [{'type': 'symbol', 'value': 'div'}, {'type': 'number', 'value': 1}, {'type': 'symbol', 'value': 'theta_m'}], {'type': 'symbol', 'value': 'gamma_m'}], [{'type': 'symbol', 'value': 'student_t'}, {'type': 'number', 'value': 1}, [{'type': 'symbol', 'value': 'div'}, [{'type': 'symbol', 'value': 'identity'}, [{'type': 'symbol', 'value': 'sub'}, [{'type': 'symbol', 'value': 'sub'}, [{'type': 'symbol', 'value': 'mu_f'}, {'type': 'symbol', 'value': 'k'}], [{'type': 'symbol', 'value': 'lookup'}, [{'type': 'symbol', 'value': 'mu_a'}, {'type': 'symbol', 'value': 'k'}], {'type': 'number', 'value': 0}]], [{'type': 'symbol', 'value': 'identity'}, [{'type': 'symbol', 'value': 'mul'}, [{'type': 'symbol', 'value': 'lookup'}, [{'type': 'symbol', 'value': 'mu_a'}, {'type': 'symbol', 'value': 'k'}], {'type': 'number', 'value': 2}], [{'type': 'symbol', 'value': 'poss_e_fake_travel_time'}, {'type': 'symbol', 'value': 'epi'}, {'type': 'symbol', 'value': 'i'}, {'type': 'symbol', 'value': 'k'}]]]]], [{'type': 'symbol', 'value': 'lookup'}, [{'type': 'symbol', 'value': 'mu_a'}, {'type': 'symbol', 'value': 'k'}], {'type': 'number', 'value': 1}]], [{'type': 'symbol', 'value': 'div'}, [{'type': 'symbol', 'value': 'theta_f'}, {'type': 'symbol', 'value': 'k'}], [{'type': 'symbol', 'value': 'lookup'}, [{'type': 'symbol', 'value': 'mu_a'}, {'type': 'symbol', 'value': 'k'}], {'type': 'number', 'value': 1}]]]]]]}, {'did': 70, 'index': [1, 2], 'exp': [{'type': 'symbol', 'value': 'mem'}, [{'type': 'symbol', 'value': 'lambda'}, [{'type': 'symbol', 'value': 'epi'}, {'type': 'symbol', 'value': 'i'}, {'type': 'symbol', 'value': 'k'}], [{'type': 'symbol', 'value': 'if'}, [{'type': 'symbol', 'value': 'lt'}, [{'type': 'symbol', 'value': 'poss_e_t'}, {'type': 'symbol', 'value': 'epi'}, {'type': 'symbol', 'value': 'i'}, {'type': 'symbol', 'value': 'k'}], {'type': 'number', 'value': 0}], {'type': 'boolean', 'value': False}, [{'type': 'symbol', 'value': 'flip'}, [{'type': 'symbol', 'value': 'div'}, [{'type': 'symbol', 'value': 'mul'}, [{'type': 'symbol', 'value': 'det_prob'}, {'type': 'symbol', 'value': 'epi'}, {'type': 'symbol', 'value': 'i'}, {'type': 'symbol', 'value': 'k'}], [{'type': 'symbol', 'value': 'num_e'}, {'type': 'symbol', 'value': 'epi'}]], [{'type': 'symbol', 'value': 'identity'}, [{'type': 'symbol', 'value': 'add'}, [{'type': 'symbol', 'value': 'num_e'}, {'type': 'symbol', 'value': 'epi'}], [{'type': 'symbol', 'value': 'num_Xi'}, {'type': 'symbol', 'value': 'epi'}, {'type': 'symbol', 'value': 'k'}]]]]]]]]}, {'did': 70, 'index': [1, 2, 3, 1, 1, 1], 'exp': [{'type': 'symbol', 'value': 'mem'}, [{'type': 'symbol', 'value': 'lambda'}, [{'type': 'symbol', 'value': 'epi'}, {'type': 'symbol', 'value': 'i'}, {'type': 'symbol', 'value': 'k'}], [{'type': 'symbol', 'value': 'if'}, [{'type': 'symbol', 'value': 'lt'}, [{'type': 'symbol', 'value': 'poss_e_t'}, {'type': 'symbol', 'value': 'epi'}, {'type': 'symbol', 'value': 'i'}, {'type': 'symbol', 'value': 'k'}], {'type': 'number', 'value': 0}], {'type': 'boolean', 'value': False}, [{'type': 'symbol', 'value': 'flip'}, [{'type': 'symbol', 'value': 'div'}, [{'type': 'symbol', 'value': 'mul'}, [{'type': 'symbol', 'value': 'det_prob'}, {'type': 'symbol', 'value': 'epi'}, {'type': 'symbol', 'value': 'i'}, {'type': 'symbol', 'value': 'k'}], [{'type': 'symbol', 'value': 'num_e'}, {'type': 'symbol', 'value': 'epi'}]], [{'type': 'symbol', 'value': 'identity'}, [{'type': 'symbol', 'value': 'add'}, [{'type': 'symbol', 'value': 'num_e'}, {'type': 'symbol', 'value': 'epi'}], [{'type': 'symbol', 'value': 'num_Xi'}, {'type': 'symbol', 'value': 'epi'}, {'type': 'symbol', 'value': 'k'}]]]]]]]]}, {'did': 53, 'index': [1, 2, 2, 1, 2, 1, 2, 1, 2, 2], 'exp': [{'type': 'symbol', 'value': 'mem'}, [{'type': 'symbol', 'value': 'lambda'}, [{'type': 'symbol', 'value': 'epi'}, {'type': 'symbol', 'value': 'i'}, {'type': 'symbol', 'value': 'k'}], [{'type': 'symbol', 'value': 'div'}, {'type': 'number', 'value': 1.0}, [{'type': 'symbol', 'value': 'identity'}, [{'type': 'symbol', 'value': 'add'}, {'type': 'number', 'value': 1}, [{'type': 'symbol', 'value': 'exp'}, [{'type': 'symbol', 'value': 'mul'}, {'type': 'number', 'value': -1.0}, [{'type': 'symbol', 'value': 'identity'}, [{'type': 'symbol', 'value': 'vector_dot'}, [{'type': 'symbol', 'value': 'mu_d'}, {'type': 'symbol', 'value': 'k'}], [{'type': 'symbol', 'value': 'vector'}, {'type': 'number', 'value': 1}, [{'type': 'symbol', 'value': 'e_m'}, {'type': 'symbol', 'value': 'epi'}, {'type': 'symbol', 'value': 'i'}], [{'type': 'symbol', 'value': 'compute_distance'}, {'type': 'symbol', 'value': 'k'}, [{'type': 'symbol', 'value': 'e_lon'}, {'type': 'symbol', 'value': 'epi'}, {'type': 'symbol', 'value': 'i'}], [{'type': 'symbol', 'value': 'sin_e_lat'}, {'type': 'symbol', 'value': 'epi'}, {'type': 'symbol', 'value': 'i'}]]]]]]]]]]]]}, {'did': 52, 'index': [1, 2, 0], 'exp': [{'type': 'symbol', 'value': 'mem'}, [{'type': 'symbol', 'value': 'lambda'}, [{'type': 'symbol', 'value': 'epi'}, {'type': 'symbol', 'value': 'i'}], [{'type': 'symbol', 'value': 'bounded_expon'}, {'type': 'symbol', 'value': 'mu_m'}, [{'type': 'symbol', 'value': 'div'}, {'type': 'number', 'value': 1}, {'type': 'symbol', 'value': 'theta_m'}], {'type': 'symbol', 'value': 'gamma_m'}]]]}]}\n**************************************************\nStack trace from worker:\n**************************************************\nTraceback (most recent call last):\n  File \"/Users/acobb/Desktop/programs/Venturecxx/env.d/lib/python2.7/site-packages/venture/multiprocess.py\", line 104, in wrapped\n    res = f(*args, **kwargs)\n  File \"/Users/acobb/Desktop/programs/Venturecxx/env.d/lib/python2.7/site-packages/venture/multiprocess.py\", line 339, in <lambda>\n    return safely(lambda *args,**kwargs: getattr(self.obj, attrname)(*args, **kwargs))\n  File \"/Users/acobb/Desktop/programs/Venturecxx/env.d/lib/python2.7/site-packages/venture/engine/trace.py\", line 62, in observe\n    self.trace.eval(baseAddr, exp)\n  File \"/Users/acobb/Desktop/programs/Venturecxx/env.d/lib/python2.7/site-packages/venture/lite/trace.py\", line 352, in eval\n    (_,self.families[id]) = evalFamily(self,Address(List(id)),self.unboxExpression(exp),self.globalEnv,Scaffold(),False,OmegaDB(),{})\n  File \"/Users/acobb/Desktop/programs/Venturecxx/env.d/lib/python2.7/site-packages/venture/lite/regen.py\", line 147, in evalFamily\n    weight += apply(trace,requestNode,outputNode,scaffold,shouldRestore,omegaDB,gradients)\n  File \"/Users/acobb/Desktop/programs/Venturecxx/env.d/lib/python2.7/site-packages/venture/lite/regen.py\", line 168, in apply\n    weight += evalRequests(trace,requestNode,scaffold,shouldRestore,omegaDB,gradients)\n  File \"/Users/acobb/Desktop/programs/Venturecxx/env.d/lib/python2.7/site-packages/venture/lite/regen.py\", line 228, in evalRequests\n    (w,esrParent) = evalFamily(trace,address,esr.exp,esr.env,scaffold,shouldRestore,omegaDB,gradients)\n  File \"/Users/acobb/Desktop/programs/Venturecxx/env.d/lib/python2.7/site-packages/venture/lite/regen.py\", line 147, in evalFamily\n    weight += apply(trace,requestNode,outputNode,scaffold,shouldRestore,omegaDB,gradients)\n  File \"/Users/acobb/Desktop/programs/Venturecxx/env.d/lib/python2.7/site-packages/venture/lite/regen.py\", line 168, in apply\n    weight += evalRequests(trace,requestNode,scaffold,shouldRestore,omegaDB,gradients)\n  File \"/Users/acobb/Desktop/programs/Venturecxx/env.d/lib/python2.7/site-packages/venture/lite/regen.py\", line 228, in evalRequests\n    (w,esrParent) = evalFamily(trace,address,esr.exp,esr.env,scaffold,shouldRestore,omegaDB,gradients)\n  File \"/Users/acobb/Desktop/programs/Venturecxx/env.d/lib/python2.7/site-packages/venture/lite/regen.py\", line 141, in evalFamily\n    w, n = evalFamily(trace,addr,subexp,env,scaffold,shouldRestore,omegaDB,gradients)\n  File \"/Users/acobb/Desktop/programs/Venturecxx/env.d/lib/python2.7/site-packages/venture/lite/regen.py\", line 141, in evalFamily\n    w, n = evalFamily(trace,addr,subexp,env,scaffold,shouldRestore,omegaDB,gradients)\n  File \"/Users/acobb/Desktop/programs/Venturecxx/env.d/lib/python2.7/site-packages/venture/lite/regen.py\", line 147, in evalFamily\n    weight += apply(trace,requestNode,outputNode,scaffold,shouldRestore,omegaDB,gradients)\n  File \"/Users/acobb/Desktop/programs/Venturecxx/env.d/lib/python2.7/site-packages/venture/lite/regen.py\", line 168, in apply\n    weight += evalRequests(trace,requestNode,scaffold,shouldRestore,omegaDB,gradients)\n  File \"/Users/acobb/Desktop/programs/Venturecxx/env.d/lib/python2.7/site-packages/venture/lite/regen.py\", line 228, in evalRequests\n    (w,esrParent) = evalFamily(trace,address,esr.exp,esr.env,scaffold,shouldRestore,omegaDB,gradients)\n  File \"/Users/acobb/Desktop/programs/Venturecxx/env.d/lib/python2.7/site-packages/venture/lite/regen.py\", line 147, in evalFamily\n    weight += apply(trace,requestNode,outputNode,scaffold,shouldRestore,omegaDB,gradients)\n  File \"/Users/acobb/Desktop/programs/Venturecxx/env.d/lib/python2.7/site-packages/venture/lite/regen.py\", line 168, in apply\n    weight += evalRequests(trace,requestNode,scaffold,shouldRestore,omegaDB,gradients)\n  File \"/Users/acobb/Desktop/programs/Venturecxx/env.d/lib/python2.7/site-packages/venture/lite/regen.py\", line 228, in evalRequests\n    (w,esrParent) = evalFamily(trace,address,esr.exp,esr.env,scaffold,shouldRestore,omegaDB,gradients)\n  File \"/Users/acobb/Desktop/programs/Venturecxx/env.d/lib/python2.7/site-packages/venture/lite/regen.py\", line 147, in evalFamily\n    weight += apply(trace,requestNode,outputNode,scaffold,shouldRestore,omegaDB,gradients)\n  File \"/Users/acobb/Desktop/programs/Venturecxx/env.d/lib/python2.7/site-packages/venture/lite/regen.py\", line 168, in apply\n    weight += evalRequests(trace,requestNode,scaffold,shouldRestore,omegaDB,gradients)\n  File \"/Users/acobb/Desktop/programs/Venturecxx/env.d/lib/python2.7/site-packages/venture/lite/regen.py\", line 228, in evalRequests\n    (w,esrParent) = evalFamily(trace,address,esr.exp,esr.env,scaffold,shouldRestore,omegaDB,gradients)\n  File \"/Users/acobb/Desktop/programs/Venturecxx/env.d/lib/python2.7/site-packages/venture/lite/regen.py\", line 141, in evalFamily\n    w, n = evalFamily(trace,addr,subexp,env,scaffold,shouldRestore,omegaDB,gradients)\n  File \"/Users/acobb/Desktop/programs/Venturecxx/env.d/lib/python2.7/site-packages/venture/lite/regen.py\", line 141, in evalFamily\n    w, n = evalFamily(trace,addr,subexp,env,scaffold,shouldRestore,omegaDB,gradients)\n  File \"/Users/acobb/Desktop/programs/Venturecxx/env.d/lib/python2.7/site-packages/venture/lite/regen.py\", line 141, in evalFamily\n    w, n = evalFamily(trace,addr,subexp,env,scaffold,shouldRestore,omegaDB,gradients)\n  File \"/Users/acobb/Desktop/programs/Venturecxx/env.d/lib/python2.7/site-packages/venture/lite/regen.py\", line 147, in evalFamily\n    weight += apply(trace,requestNode,outputNode,scaffold,shouldRestore,omegaDB,gradients)\n  File \"/Users/acobb/Desktop/programs/Venturecxx/env.d/lib/python2.7/site-packages/venture/lite/regen.py\", line 168, in apply\n    weight += evalRequests(trace,requestNode,scaffold,shouldRestore,omegaDB,gradients)\n  File \"/Users/acobb/Desktop/programs/Venturecxx/env.d/lib/python2.7/site-packages/venture/lite/regen.py\", line 228, in evalRequests\n    (w,esrParent) = evalFamily(trace,address,esr.exp,esr.env,scaffold,shouldRestore,omegaDB,gradients)\n  File \"/Users/acobb/Desktop/programs/Venturecxx/env.d/lib/python2.7/site-packages/venture/lite/regen.py\", line 147, in evalFamily\n    weight += apply(trace,requestNode,outputNode,scaffold,shouldRestore,omegaDB,gradients)\n  File \"/Users/acobb/Desktop/programs/Venturecxx/env.d/lib/python2.7/site-packages/venture/lite/regen.py\", line 168, in apply\n    weight += evalRequests(trace,requestNode,scaffold,shouldRestore,omegaDB,gradients)\n  File \"/Users/acobb/Desktop/programs/Venturecxx/env.d/lib/python2.7/site-packages/venture/lite/regen.py\", line 228, in evalRequests\n    (w,esrParent) = evalFamily(trace,address,esr.exp,esr.env,scaffold,shouldRestore,omegaDB,gradients)\n  File \"/Users/acobb/Desktop/programs/Venturecxx/env.d/lib/python2.7/site-packages/venture/lite/regen.py\", line 141, in evalFamily\n    w, n = evalFamily(trace,addr,subexp,env,scaffold,shouldRestore,omegaDB,gradients)\n  File \"/Users/acobb/Desktop/programs/Venturecxx/env.d/lib/python2.7/site-packages/venture/lite/regen.py\", line 141, in evalFamily\n    w, n = evalFamily(trace,addr,subexp,env,scaffold,shouldRestore,omegaDB,gradients)\n  File \"/Users/acobb/Desktop/programs/Venturecxx/env.d/lib/python2.7/site-packages/venture/lite/regen.py\", line 141, in evalFamily\n    w, n = evalFamily(trace,addr,subexp,env,scaffold,shouldRestore,omegaDB,gradients)\n  File \"/Users/acobb/Desktop/programs/Venturecxx/env.d/lib/python2.7/site-packages/venture/lite/regen.py\", line 141, in evalFamily\n    w, n = evalFamily(trace,addr,subexp,env,scaffold,shouldRestore,omegaDB,gradients)\n  File \"/Users/acobb/Desktop/programs/Venturecxx/env.d/lib/python2.7/site-packages/venture/lite/regen.py\", line 141, in evalFamily\n    w, n = evalFamily(trace,addr,subexp,env,scaffold,shouldRestore,omegaDB,gradients)\n  File \"/Users/acobb/Desktop/programs/Venturecxx/env.d/lib/python2.7/site-packages/venture/lite/regen.py\", line 141, in evalFamily\n    w, n = evalFamily(trace,addr,subexp,env,scaffold,shouldRestore,omegaDB,gradients)\n  File \"/Users/acobb/Desktop/programs/Venturecxx/env.d/lib/python2.7/site-packages/venture/lite/regen.py\", line 147, in evalFamily\n    weight += apply(trace,requestNode,outputNode,scaffold,shouldRestore,omegaDB,gradients)\n  File \"/Users/acobb/Desktop/programs/Venturecxx/env.d/lib/python2.7/site-packages/venture/lite/regen.py\", line 168, in apply\n    weight += evalRequests(trace,requestNode,scaffold,shouldRestore,omegaDB,gradients)\n  File \"/Users/acobb/Desktop/programs/Venturecxx/env.d/lib/python2.7/site-packages/venture/lite/regen.py\", line 228, in evalRequests\n    (w,esrParent) = evalFamily(trace,address,esr.exp,esr.env,scaffold,shouldRestore,omegaDB,gradients)\n  File \"/Users/acobb/Desktop/programs/Venturecxx/env.d/lib/python2.7/site-packages/venture/lite/regen.py\", line 147, in evalFamily\n    weight += apply(trace,requestNode,outputNode,scaffold,shouldRestore,omegaDB,gradients)\n  File \"/Users/acobb/Desktop/programs/Venturecxx/env.d/lib/python2.7/site-packages/venture/lite/regen.py\", line 168, in apply\n    weight += evalRequests(trace,requestNode,scaffold,shouldRestore,omegaDB,gradients)\n  File \"/Users/acobb/Desktop/programs/Venturecxx/env.d/lib/python2.7/site-packages/venture/lite/regen.py\", line 228, in evalRequests\n    (w,esrParent) = evalFamily(trace,address,esr.exp,esr.env,scaffold,shouldRestore,omegaDB,gradients)\n  File \"/Users/acobb/Desktop/programs/Venturecxx/env.d/lib/python2.7/site-packages/venture/lite/regen.py\", line 141, in evalFamily\n    w, n = evalFamily(trace,addr,subexp,env,scaffold,shouldRestore,omegaDB,gradients)\n  File \"/Users/acobb/Desktop/programs/Venturecxx/env.d/lib/python2.7/site-packages/venture/lite/regen.py\", line 127, in evalFamily\n    sourceNode = env.findSymbol(exp)\n  File \"/Users/acobb/Desktop/programs/Venturecxx/env.d/lib/python2.7/site-packages/venture/lite/env.py\", line 59, in findSymbol\n    else: ret = self.outerEnv.findSymbol(sym)\n  File \"/Users/acobb/Desktop/programs/Venturecxx/env.d/lib/python2.7/site-packages/venture/lite/env.py\", line 59, in findSymbol\n    else: ret = self.outerEnv.findSymbol(sym)\n  File \"/Users/acobb/Desktop/programs/Venturecxx/env.d/lib/python2.7/site-packages/venture/lite/env.py\", line 61, in findSymbol\n    raise VentureError(\"Cannot find symbol '%s'\" % sym)\nVentureException: *** evaluation: Cannot find symbol 'bounded_expon'\n{'address': [[79], [[]], [74, 1, 2, 1, 0, 1], [[]], [70, 1, 2, 1], [70, 1, 2, 1, 0, 3, 2, 1, 1, 1, 1], [[]], [53, 1, 2, 1, 2, 2, 1, 2, 2, 2], [[]], [52, 1, 2, 1, 0]]}\n"
     ]
    }
   ],
   "source": [
    "for epi in episodes_list:\n",
    "    for det_id in range(len(episodes[epi].detections)):\n",
    "        det = episodes[epi].detections[det_id]\n",
    "        mu_a = v.sample('mu_a({0})'.format(det.stanum))\n",
    "        ML_dist = invert_slowness(det.slowness)\n",
    "        ML_loc = invert_dist_azimuth2(det.stanum,ML_dist,det.azimuth)\n",
    "        ML_mag = (np.log(det.amp)-mu_a[0]-mu_a[2]*compute_travel_time(ML_dist))/mu_a[1]\n",
    "        ML_time = det.time-compute_travel_time(ML_dist)\n",
    "        print ML_time\n",
    "        v.observe('poss_e_lon({0},{1})'.format(epi,det_id),'{0}'.format(ML_loc[0]))\n",
    "        v.observe('poss_sin_e_lat({0},{1})'.format(epi,det_id),'{0}'.format(np.sin(np.radians(ML_loc[1]))))\n",
    "        v.observe('poss_e_t({0},{1},{2})'.format(epi,det_id,det.stanum),'{0}'.format(ML_time))\n",
    "        v.observe('poss_e_m({0},{1},{2})'.format(epi,det_id,det.stanum),'{0}'.format(ML_mag))\n",
    "\n",
    "v.infer('bogo_possibilize(default, all,1)')"
   ]
  },
  {
   "cell_type": "code",
   "execution_count": null,
   "metadata": {
    "collapsed": false
   },
   "outputs": [],
   "source": [
    "compute_travel_time(180)"
   ]
  },
  {
   "cell_type": "code",
   "execution_count": null,
   "metadata": {
    "collapsed": false
   },
   "outputs": [],
   "source": [
    "v.infer('bogo_possibilize(default, all,1)')"
   ]
  },
  {
   "cell_type": "code",
   "execution_count": null,
   "metadata": {
    "collapsed": false
   },
   "outputs": [],
   "source": [
    "v.infer('default_markov_chain(1000)')"
   ]
  },
  {
   "cell_type": "code",
   "execution_count": null,
   "metadata": {
    "collapsed": false
   },
   "outputs": [],
   "source": [
    "print v.infer('particle_log_weights') "
   ]
  },
  {
   "cell_type": "code",
   "execution_count": null,
   "metadata": {
    "collapsed": false,
    "scrolled": false
   },
   "outputs": [],
   "source": [
    "\n",
    "for j in episodes_list:\n",
    "    for i,det in enumerate(episodes[j].detections):\n",
    "        print v.sample('real_flip({0},{1},{2})'.format(j,i,det.stanum))\n",
    "    print len(episodes[j].detections)\n",
    "    print v.sample('num_e({0})'.format(j))\n",
    "    for i in range(len(STATIONS)):\n",
    "        print v.sample('num_Xi({0},{1})'.format(j,i))"
   ]
  },
  {
   "cell_type": "markdown",
   "metadata": {},
   "source": [
    "v.assume('assoc_of_det','''mem(proc(epi,det_i,k) {\n",
    "    if(real_flip(epi,det_i,k)) {\n",
    "        uniform_discrete(0,num_e(epi))\n",
    "    } else {\n",
    "        -1 - det_i\n",
    "    }\n",
    "})''')\n",
    "            \n",
    "\n",
    "for i in range(1):\n",
    "    print 'OBSERVING EPISODE (%s)' % (i)\n",
    "    for det_id, det in enumerate(episodes[i].detections):\n",
    "        v.observe('Lambda_t({0}, assoc_of_det({0},{1},{2}), {2})'.format(i, det_id, det.stanum), '%s' % det.time)\n",
    "        v.observe('Lambda_z({0}, assoc_of_det({0},{1},{2}), {2})'.format(i, det_id, det.stanum),'%s' % det.azimuth)\n",
    "        v.observe('Lambda_s({0}, assoc_of_det({0},{1},{2}), {2})'.format(i, det_id, det.stanum),'%s' % det.slowness)\n",
    "        v.observe('log_Lambda_a({0}, assoc_of_det({0},{1},{2}), {2})'.format(i,det_id, det.stanum),'%s' % np.log(det.amp))\n",
    "    "
   ]
  },
  {
   "cell_type": "code",
   "execution_count": null,
   "metadata": {
    "collapsed": false
   },
   "outputs": [],
   "source": [
    "#v.assume('clusters', 'CLUSTER(filter(real_flip ...,, psudo_e array(poss_e\n",
    "\n",
    "pseudo_evs = []\n",
    "for i in episodes_list:\n",
    "    for det_id,det in enumerate(episodes[i].detections):\n",
    "         det_flip = v.sample('real_flip({0},{1},{2})'.format(i,det_id,det.stanum))\n",
    "         if det_flip:\n",
    "             pseudo_ev_lon = v.sample('poss_e_lon({0},{1})'.format(i,det_id))\n",
    "             pseudo_ev_lat = np.degrees(np.arcsin(v.sample('poss_sin_e_lat({0},{1})'.format(i,det_id))))\n",
    "             pseudo_ev_m = v.sample('poss_e_m({0},{1},{2})'.format(i,det_id,det.stanum))\n",
    "             pseudo_ev_t = v.sample('poss_e_t({0},{1},{2})'.format(i,det_id,det.stanum))\n",
    "             pseudo_evs.append([pseudo_ev_lon,pseudo_ev_lat,pseudo_ev_m,pseudo_ev_t])\n",
    "         \n",
    "for item in pseudo_evs:\n",
    "    print item"
   ]
  }
 ],
 "metadata": {
  "kernelspec": {
   "display_name": "Python 2",
   "language": "python",
   "name": "python2"
  },
  "language_info": {
   "codemirror_mode": {
    "name": "ipython",
    "version": 2
   },
   "file_extension": ".py",
   "mimetype": "text/x-python",
   "name": "python",
   "nbconvert_exporter": "python",
   "pygments_lexer": "ipython2",
   "version": "2.7.6"
  }
 },
 "nbformat": 4,
 "nbformat_minor": 0
}
