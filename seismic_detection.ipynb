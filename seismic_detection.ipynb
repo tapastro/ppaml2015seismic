{
 "cells": [
  {
   "cell_type": "code",
   "execution_count": 1,
   "metadata": {
    "collapsed": true
   },
   "outputs": [],
   "source": [
    "import sys\n",
    "sys.path.append('/usr/local/lib/python2.7/dist-packages/')"
   ]
  },
  {
   "cell_type": "code",
   "execution_count": 2,
   "metadata": {
    "collapsed": false
   },
   "outputs": [],
   "source": [
    "from venture.shortcuts import *\n",
    "import venture.lite.builtin as bp\n",
    "import venture.lite.types as t\n",
    "import venture.lite.psp as psp\n",
    "import numpy as np\n",
    "import scipy.stats as sp\n",
    "import matplotlib.pyplot as plt\n",
    "from util import *\n",
    "from collections import defaultdict\n",
    "\n",
    "%matplotlib inline"
   ]
  },
  {
   "cell_type": "code",
   "execution_count": 3,
   "metadata": {
    "collapsed": false
   },
   "outputs": [],
   "source": [
    "v=make_lite_venture_script_ripl()\n",
    "v.bind_foreign_sp(\"compute_distance\", bp.deterministic_typed(compute_distance2, \n",
    "                  [t.NumberType()]*3,t.NumberType()))\n",
    "v.bind_foreign_sp(\"compute_azimuth\", bp.deterministic_typed(compute_azimuth2, \n",
    "                  [t.NumberType()]*3,t.NumberType()))\n",
    "v.bind_foreign_sp(\"invert_dist_azimuth2\", bp.deterministic_typed(invert_dist_azimuth, \n",
    "                  [t.NumberType(),t.NumberType(),t.NumberType()],t.ArrayType(t.NumberType())))\n",
    "\n",
    "class BoundedExponOutputPSP(psp.RandomPSP):\n",
    "  # TODO don't need to be class methods\n",
    "  def simulateNumeric(self,mu,theta,gamma):\n",
    "    while True:\n",
    "        x = mu + sp.expon.rvs(scale=1.0/theta)\n",
    "        if x < gamma:\n",
    "            return x\n",
    "  def logDensityNumeric(self,x,mu,theta,gamma):\n",
    "    if not (mu <= x <= gamma):\n",
    "        return float('-inf')\n",
    "    nontailmass = sp.expon.logcdf(gamma - mu,scale=1.0/theta)\n",
    "    return sp.expon.logpdf(x - mu,scale=1.0/theta) - nontailmass\n",
    "\n",
    "  def simulate(self,args): return self.simulateNumeric(*args.operandValues())\n",
    "  def logDensity(self,x,args): return self.logDensityNumeric(x,*args.operandValues())\n",
    "\n",
    "  def gradientOfLogDensity(self,x,args):\n",
    "    mu,theta,gamma = args.operandValues()\n",
    "    nontailmass = sp.expon.cdf(gamma - mu,scale=1.0/theta)\n",
    "    gradX = -theta\n",
    "    gradTheta = 1.0 / nontailmass / theta - (x - mu)\n",
    "    return (gradX,[gradTheta])\n",
    "\n",
    "  def description(self,name):\n",
    "    return \"  %s(theta) returns a sample from an exponential distribution with rate (inverse scale) parameter theta.\" % name\n",
    "\n",
    "\n",
    "v.bind_foreign_sp(\"bounded_expon\", bp.typed_nr(BoundedExponOutputPSP(), [t.NumberType()]*3,t.NumberType()))"
   ]
  },
  {
   "cell_type": "markdown",
   "metadata": {},
   "source": [
    "## Initialize Priors\n",
    "\n",
    "In the next block, I initialize all parameters of a physical world description via the prior distributions given in the problem description file. I set the assumptions in my ripl layer while defining the variables locally, then set all local variables into the namedTuple physicsPriors."
   ]
  },
  {
   "cell_type": "code",
   "execution_count": 4,
   "metadata": {
    "collapsed": false
   },
   "outputs": [
    {
     "data": {
      "text/plain": [
       "'physicsPriors = Physics(T=T, R=R, \\n                        lambda_e=lambda_e,\\n                        mu_m=mu_m, theta_m=theta_m, gamma_m=gamma_m, \\n                        mu_d0=[item[0] for item in mu_d],\\n                        mu_d1=[item[1] for item in mu_d],\\n                        mu_d2=[item[2] for item in mu_d],\\n                        mu_t=mu_t,\\n                        theta_t=theta_t,\\n                        mu_z=mu_z,\\n                        theta_z=theta_z,\\n                        mu_s=mu_s,\\n                        theta_s=theta_s,\\n                        mu_a0=[item[0] for item in mu_a],\\n                        mu_a1=[item[1] for item in mu_a],\\n                        mu_a2=[item[2] for item in mu_a],\\n                        sigma_a=sigma_a,\\n                        lambda_f=lambda_f,\\n                        mu_f=mu_f,\\n                        theta_f=theta_f,)\\n'"
      ]
     },
     "execution_count": 4,
     "metadata": {},
     "output_type": "execute_result"
    }
   ],
   "source": [
    "lenst = len(STATIONS)\n",
    "\n",
    "physPriorParamNames = [\"T\", \"R\", \"lambda_e\", \"mu_m\", \"theta_m\", \"gamma_m\", \"mu_d0\", \"mu_d1\", \"mu_d2\",\n",
    "  \"mu_t\", \"theta_t\", \"mu_z\", \"theta_z\", \"mu_s\", \"theta_s\",\n",
    "  \"mu_a0\", \"mu_a1\", \"mu_a2\", \"sigma_a\",\n",
    "  \"lambda_f\", \"mu_f\", \"theta_f\"]\n",
    "\n",
    "T = v.assume('T','3600.')\n",
    "R = v.assume('R','6371.')\n",
    "lambda_e = v.assume('lambda_e','gamma(6.0,(4*3.1415927*6371**2*3600))')\n",
    "mu_m = v.assume('mu_m','3.0')\n",
    "theta_m = v.assume('theta_m','4.0')\n",
    "gamma_m = v.assume('gamma_m','6.0')\n",
    "v.assume('mu_d_covar','matrix(list(list(13.43,-2.36,-0.0122),list(-2.36,0.452,0.000112),list(-0.0122,0.000112,0.000125)))')\n",
    "v.assume('mu_a_covar','matrix(list(list(1.23, -0.227, -0.000175),list(-0.227,0.0461,0.0000245),list(-0.000175,0.0000245,0.000000302)))')\n",
    "\n",
    "v.assume('mu_d','mem( proc(k) { multivariate_normal(vector(-10.4,3.26,-0.0499),mu_d_covar) })')\n",
    "v.assume('mu_t','mem( proc(k) { 0.0 } )')\n",
    "v.assume('theta_t','mem( proc(k) { inv_gamma(120,118) } )')\n",
    "v.assume('mu_z','mem( proc(k) { 0.0 } )')\n",
    "v.assume('theta_z','mem( proc(k) { inv_gamma(5.2,44) } )')\n",
    "v.assume('mu_s','mem( proc(k) { 0.0 } )')\n",
    "v.assume('theta_s','mem( proc(k) { inv_gamma(6.7,7.5) } )')\n",
    "v.assume('mu_a','mem( proc(k) { multivariate_normal(vector(-7.3,2.03,-0.00196),mu_a_covar) })')\n",
    "#v.assume('sigma_a','mem( proc(k) { (inv_gamma(21.1,12.6)**0.5) } )')\n",
    "v.assume('lambda_f','mem( proc(k) { gamma(2.1,1 / 0.0013) } )')\n",
    "v.assume('mu_f','mem( proc(k) { normal(-0.68,0.68) } )')\n",
    "v.assume('theta_f','mem( proc(k) { inv_gamma(23.5,12.45) } )')\n",
    "\n",
    "mu_d = np.zeros((lenst,3))\n",
    "mu_t = np.zeros(lenst)\n",
    "theta_t = np.zeros(lenst)\n",
    "mu_z = np.zeros(lenst)\n",
    "theta_z = np.zeros(lenst)\n",
    "mu_s = np.zeros(lenst)\n",
    "theta_s = np.zeros(lenst)\n",
    "mu_a = np.zeros((lenst,3))\n",
    "sigma_a = np.zeros(lenst)\n",
    "lambda_f = np.zeros(lenst)\n",
    "mu_f = np.zeros(lenst)\n",
    "theta_f = np.zeros(lenst)\n",
    "\n",
    "\n",
    "pp = []\n",
    "for i in range(len(STATIONS)):\n",
    "    mu_d[i] = v.sample('mu_d({0})'.format(i))\n",
    "    mu_t[i] = v.sample('mu_t({0})'.format(i))\n",
    "    theta_t[i] = v.sample('theta_t({0})'.format(i))\n",
    "    mu_z[i] = v.sample('mu_z({0})'.format(i))\n",
    "    theta_z[i] = v.sample('theta_z({0})'.format(i))\n",
    "    mu_s[i] = v.sample('mu_s({0})'.format(i))\n",
    "    theta_s[i] = v.sample('theta_s({0})'.format(i))\n",
    "    mu_a[i] = v.sample('mu_a({0})'.format(i))\n",
    "    #sigma_a[i] = v.sample('sigma_a({0})'.format(i))\n",
    "    lambda_f[i] = v.sample('lambda_f({0})'.format(i))\n",
    "    mu_f[i] = v.sample('mu_f({0})'.format(i))\n",
    "    theta_f[i] = v.sample('theta_f({0})'.format(i))\n",
    "    \n",
    "\n",
    "'''physicsPriors = Physics(T=T, R=R, \n",
    "                        lambda_e=lambda_e,\n",
    "                        mu_m=mu_m, theta_m=theta_m, gamma_m=gamma_m, \n",
    "                        mu_d0=[item[0] for item in mu_d],\n",
    "                        mu_d1=[item[1] for item in mu_d],\n",
    "                        mu_d2=[item[2] for item in mu_d],\n",
    "                        mu_t=mu_t,\n",
    "                        theta_t=theta_t,\n",
    "                        mu_z=mu_z,\n",
    "                        theta_z=theta_z,\n",
    "                        mu_s=mu_s,\n",
    "                        theta_s=theta_s,\n",
    "                        mu_a0=[item[0] for item in mu_a],\n",
    "                        mu_a1=[item[1] for item in mu_a],\n",
    "                        mu_a2=[item[2] for item in mu_a],\n",
    "                        sigma_a=sigma_a,\n",
    "                        lambda_f=lambda_f,\n",
    "                        mu_f=mu_f,\n",
    "                        theta_f=theta_f,)\n",
    "'''"
   ]
  },
  {
   "cell_type": "code",
   "execution_count": 5,
   "metadata": {
    "collapsed": false
   },
   "outputs": [],
   "source": [
    "def short_phys_real():\n",
    "    mu_d0 = [-17.359822061671441, -15.768544463698792, -12.922409957811768, -10.773287520963605, -11.132931849171747, -12.477364811457281, -6.7580892401135788, -9.5294379467128927, -11.193494209883042, -9.2582869645622328]\n",
    "    mu_d1 = [4.4655214067275839, 4.2880673839135159, 3.4939232311517419, 3.0836102728094517, 3.5644521183108333, 3.7061375881329575, 2.9746939897039697, 3.2122834287316029, 3.1747080104009289, 3.0735163035616315]\n",
    "    mu_d2 = [-0.042587125584878968, -0.046476669950539611, -0.0386056868920115, -0.033644722353157831, -0.058346700937573881, -0.052050312834667954, -0.074411966166429366, -0.057613152060445913, -0.036071371856942244, -0.055272372080290746]\n",
    "    mu_t = [0.0, 0.0, 0.0, 0.0, 0.0, 0.0, 0.0, 0.0, 0.0, 0.0]\n",
    "    theta_t = [0.97403464235339587, 1.0351212113814889, 0.96418499815554193, 1.0079627453372313, 0.84206132362185848, 1.0135927443271529, 1.0186623321740327, 0.95965107920519055, 0.9790147888991162, 0.97492892649666085]\n",
    "    mu_z = [0.0, 0.0, 0.0, 0.0, 0.0, 0.0, 0.0, 0.0, 0.0, 0.0]\n",
    "    theta_z = [18.669473444191421, 31.067605809220918, 7.4717496833821997, 6.8802122424716021, 7.2735470329833278, 14.657952637765698, 6.3892540662578368, 5.0731725691355347, 26.819630675574974, 6.7386639171709755]\n",
    "    mu_s = [0.0, 0.0, 0.0, 0.0, 0.0, 0.0, 0.0, 0.0, 0.0, 0.0]\n",
    "    theta_s = [2.7873617827043962, 2.6365822782429182, 0.71761518576907046, 0.88204931046153978, 1.9977201221848233, 0.94042935154931961, 2.1283948057257942, 1.4122952773438973, 1.6688399530584015, 0.99403597248760345]\n",
    "    mu_a0 = [-7.5889174296256243, -8.039232467882707, -8.1774264949089801, -5.7676523935644877, -6.8765551696438649, -7.1582798070100742, -8.7307999941883914, -5.7143807424344377, -6.0321268136397386, -8.0335045730895729]\n",
    "    mu_a1 = [1.9698881472754843, 2.1142324247529105, 2.1359370120152219, 1.7028236897387603, 1.8554536356816058, 1.9893705784398019, 2.2618410084067802, 1.7102856022941844, 1.9118912333453471, 2.2128902234536993]\n",
    "    mu_a2 = [-0.0017825614388768366, -0.0022352795847745571, -0.0014403097736774737, -0.0024422897060926564, -0.001305072272560544, -0.0024558440921668362, -0.00050303560445385934, -0.0027011475693344989, -0.0021396966460229079, -0.0022089987983199646]\n",
    "    sigma_a = [0.93195795493497113, 0.70170568773307385, 0.88187075130738513, 0.77700709763472209, 0.96149840769988715, 0.83952976862321427, 0.93385991567304061, 0.72049474691188131, 0.91022810716046143, 0.74539403565284956]\n",
    "    lambda_f = [0.005356845052932243, 0.004416252349421397, 0.003128792294084219, 0.0018195013716233743, 0.0012844442232585694, 0.001248242568353651, 0.0016220932294251226, 0.001039395307938798, 0.0017931339240377499, 0.0026671057732874284]\n",
    "    mu_f = [0.6991998411447334, -1.5743137502848807, 0.11003180311800753, -1.5806763114362214, -0.09219581058098525, -0.854561925713898, -0.5313420684257932, -0.8596269262786942, -0.25743993244414687, -0.9563341240466005]\n",
    "    theta_f = [0.45822676723376737, 0.54164092015782339, 0.56952819745666372, 0.40785210377568526, 0.70803734788388284, 0.47009239496664218, 0.43887083899955331, 0.86740425997874737, 0.48221028166065077, 0.5687694086602948]\n",
    "    v.assume('sigma_a','mem( proc(k) { (normal(0,1)) } )')\n",
    "    for i in range(len(STATIONS)):\n",
    "        v.infer('(observe(mu_d({0}), array({1},{2},{3})))'.format(i,mu_d0[i],mu_d1[i],mu_d2[i]))\n",
    "        v.infer('(observe(mu_a({0}), array({1},{2},{3})))'.format(i,mu_a0[i],mu_a1[i],mu_a2[i]))\n",
    "        v.observe('theta_t({0})'.format(i),'{0}'.format(theta_t[i]))\n",
    "        v.observe('theta_z({0})'.format(i),'{0}'.format(theta_z[i]))\n",
    "        v.observe('theta_s({0})'.format(i),'{0}'.format(theta_s[i]))\n",
    "        v.observe('theta_f({0})'.format(i),'{0}'.format(theta_f[i]))\n",
    "        v.observe('mu_f({0})'.format(i),'{0}'.format(mu_f[i]))\n",
    "        v.observe('sigma_a({0})'.format(i),'{0}'.format(sigma_a[i]))\n",
    "        v.observe('lambda_f({0})'.format(i),'{0}'.format(lambda_f[i]))\n",
    "\n",
    "\n",
    "short_phys_real()"
   ]
  },
  {
   "cell_type": "markdown",
   "metadata": {
    "collapsed": true
   },
   "source": [
    "##Set Model Dependencies from Observations to Background Parameters\n",
    "\n",
    "In the next block, I set all model dependencies so that my training data will affect the background physics parameters."
   ]
  },
  {
   "cell_type": "code",
   "execution_count": 6,
   "metadata": {
    "collapsed": false,
    "scrolled": true
   },
   "outputs": [
    {
     "data": {
      "text/plain": [
       "'<procedure>'"
      ]
     },
     "execution_count": 6,
     "metadata": {},
     "output_type": "execute_result"
    }
   ],
   "source": [
    "#Number of Events in an Episode\n",
    "v.assume('num_e','mem( proc(epi) {poisson(lambda_e*4*3.1415927*R**2*T)})')\n",
    "\n",
    "#\n",
    "#DO I ENCODE UNIFORM DISTRIBUTIONS OF EVENT TIME AND LOCATION?\n",
    "v.assume('e_t','mem( proc(epi,i) { uniform_continuous(0,T) } )')\n",
    "v.assume('e_lon','mem ( proc(epi,i) { uniform_continuous(-180,180) } )')\n",
    "v.assume('sin_e_lat','mem( proc(epi,i) {uniform_continuous(-1,1)})')\n",
    "#\n",
    "\n",
    "#Event Magnitude Distribution\n",
    "v.assume('e_m','mem( proc(epi,i) { bounded_expon(mu_m,1/theta_m,gamma_m) } )')\n",
    "#Condition Exponential on bounds, using uniform_continuous\n",
    "#v.assume('obs_func','proc(i){uniform_continuous(mu_m-e_m(epi,i),gamma_m-e_m(epi,i))}')\n",
    "#v.observe('obs_func(1)','0')\n",
    "\n",
    "#Detection Probability\n",
    "v.assume('det_prob','''mem( proc(epi,i,k) {1./(1 + exp(\n",
    "                                -1. * (vector_dot(mu_d(k),\n",
    "                                vector(1,e_m(epi,i),compute_distance(k,e_lon(epi,i),sin_e_lat(epi,i)))))))} )\n",
    "                                ''')\n",
    "#Travel Time Function\n",
    "v.assume('I_t','proc(dist) { -0.023 * pow(dist,2) + 10.7 * dist + 5 } ')\n",
    "\n",
    "\n",
    "#Detection Time\n",
    "v.assume('Lambda_t','''( proc(epi,i,k) {\n",
    "         laplace(e_t(epi,i)+I_t(compute_distance(k,e_lon(epi,i),sin_e_lat(epi,i)))+mu_t(k),\n",
    "         theta_t(k)) } )''')\n",
    "\n",
    "#Detection Azimuth\n",
    "v.assume('Lambda_z','''( proc(epi,i,k) { \n",
    "          laplace(compute_azimuth(k,e_lon(epi,i),sin_e_lat(epi,i)) - mu_z(k),theta_z(k)) } ) ''' )\n",
    "#Maybe goes over 360? Problem?\n",
    "\n",
    "#Slowness Function\n",
    "v.assume('I_s','proc(dist) { -0.046 * dist + 10.7 } ')\n",
    "v.assume('inv_I_s','proc(slow) { (slow - 10.7) - 0.046 }')\n",
    "\n",
    "#Detection Slowness\n",
    "v.assume('Lambda_s','''( proc(epi,i,k) { laplace(I_s(\n",
    "         compute_distance(k,e_lon(epi,i),sin_e_lat(epi,i)))+mu_s(k),theta_s(k)) })''')\n",
    "\n",
    "#Detection Amplitude\n",
    "v.assume('log_Lambda_a','''( proc(epi,i,k) {normal(vector_dot(mu_a(k),\n",
    "                                vector(1,e_m(epi,i),I_t(compute_distance(k,e_lon(epi,i),sin_e_lat(epi,i))))),sigma_a(k))})''')\n",
    "\n",
    "#False Detection Parameters\n",
    "v.assume('num_Xi','mem( proc(epi,k) {poisson(lambda_f(k) * T)} )')\n",
    "v.assume('Xi_t','mem( proc(epi,k,f) {uniform_continuous(0,T)})')\n",
    "v.assume('Xi_z','mem( proc(epi,k,f) {uniform_continuous(0,360)})')\n",
    "v.assume('Xi_s','mem( proc(epi,k,f) {uniform_continuous(I_s(180),I_s(0))})')\n",
    "v.assume('log_Xi_a','mem( proc(epi,k,f) {student_t(1,mu_f(k),theta_f(k))})')\n"
   ]
  },
  {
   "cell_type": "code",
   "execution_count": 7,
   "metadata": {
    "collapsed": false
   },
   "outputs": [],
   "source": [
    "episodes = read_episodes('../short_data/training.data')"
   ]
  },
  {
   "cell_type": "code",
   "execution_count": 8,
   "metadata": {
    "collapsed": false
   },
   "outputs": [],
   "source": [
    "def check_weight():\n",
    "    return\n",
    "    print v.infer('particle_log_weights')[0]\n",
    "    if v.infer('particle_log_weights')[0] == float('-inf'):\n",
    "        raise Exception()"
   ]
  },
  {
   "cell_type": "markdown",
   "metadata": {
    "collapsed": false,
    "scrolled": true
   },
   "source": [
    "for i in range(len(episodes)):\n",
    "    print 'OBSERVING EPISODE (%s)' % (i)\n",
    "    v.observe('num_e(%s)'% i,'%s' % len(episodes[i].events))\n",
    "    check_weight()\n",
    "    for event_id,event in enumerate(episodes[i].events):\n",
    "        v.observe('e_t({0},{1})'.format(i,event_id),'%s' % event.time)\n",
    "        check_weight()\n",
    "        v.observe('e_lon({0},{1})'.format(i,event_id),'%s' % event.lon)\n",
    "        check_weight()\n",
    "        v.observe('sin_e_lat({0},{1})'.format(i,event_id),'%s' % np.sin(np.radians(event.lat)))\n",
    "        check_weight()\n",
    "        v.observe('e_m({0},{1})'.format(i,event_id),'%s' % event.mag)\n",
    "        check_weight()\n",
    "    for event_id, event_dets in enumerate(episodes[i].assocs):\n",
    "        for detection_id in event_dets:\n",
    "            ev = episodes[i].events[event_id]\n",
    "            det = episodes[i].detections[detection_id]\n",
    "            v.observe('Lambda_t(%s, %s, %s)' % (i,event_id, det.stanum), '%s' % det.time)\n",
    "            check_weight()\n",
    "            v.observe('Lambda_z(%s, %s, %s)' % (i,event_id, det.stanum),'%s' % det.azimuth)\n",
    "            check_weight()\n",
    "            v.observe('Lambda_s(%s, %s, %s)' % (i,event_id, det.stanum),'%s' % det.slowness)\n",
    "            check_weight()\n",
    "            v.observe('log_Lambda_a(%s, %s, %s)' % (i,event_id, det.stanum),'%s' % np.log(det.amp))\n",
    "            check_weight()\n",
    "    station_counters = defaultdict(int)\n",
    "    for false_det_id in range(len(sum(episodes[i].assocs,[])),len(episodes[i].detections)):\n",
    "        false_det = episodes[i].detections[false_det_id]\n",
    "        station_counters[false_det.stanum] += 1\n",
    "        v.observe('log_Xi_a(%s, %s, %s)' % (i,det.stanum,false_det_id),'%s' % np.log(det.amp))\n",
    "        check_weight()\n",
    "    for stanum in range(len(STATIONS)):\n",
    "        v.observe('num_Xi(%s, %s)' % (i,stanum), '%s' % station_counters[stanum])\n",
    "        check_weight()\n",
    "        \n",
    "#v.infer('bogo_possibilize(default, all,1)')\n",
    "\n",
    "print 'done'"
   ]
  },
  {
   "cell_type": "code",
   "execution_count": 9,
   "metadata": {
    "collapsed": false
   },
   "outputs": [
    {
     "name": "stdout",
     "output_type": "stream",
     "text": [
      "[24.807398129293709]\n",
      "[0]\n",
      "[88.193879535353133]\n"
     ]
    }
   ],
   "source": [
    "print v.infer('global_posterior')\n",
    "print v.infer('global_likelihood')\n",
    "print v.infer('particle_log_weights')"
   ]
  },
  {
   "cell_type": "code",
   "execution_count": 10,
   "metadata": {
    "collapsed": false
   },
   "outputs": [],
   "source": [
    "episodes_list = [3]"
   ]
  },
  {
   "cell_type": "code",
   "execution_count": 11,
   "metadata": {
    "collapsed": false
   },
   "outputs": [
    {
     "data": {
      "text/plain": [
       "'<procedure>'"
      ]
     },
     "execution_count": 11,
     "metadata": {},
     "output_type": "execute_result"
    }
   ],
   "source": [
    "\"\"\"v.assume('real_flip','mem( proc(epi,i,k) {flip(det_prob(epi,i,k) * num_e(epi)/(num_e(epi)+num_Xi(epi,k)))})')\n",
    "v.assume('poss_e_t','''mem( proc(epi,i,k) {if (real_flip(epi,i,k)) {\n",
    "         uniform_continuous(0,T) \n",
    "         } else {\n",
    "         uniform_continuous(-1200,T)}} )''')\"\"\"\n",
    "\n",
    "v.assume('poss_e_t','mem( proc(epi,i,k) {uniform_continuous(0,T)})')\n",
    "v.assume('real_flip','''mem( proc(epi,i,k) {if (poss_e_t(epi,i,k) < 0) {\n",
    "            False \n",
    "            } else {\n",
    "            flip(det_prob(epi,i,k) * num_e(epi)/(num_e(epi)+num_Xi(epi,k)))}})''')\n",
    "\n",
    "v.assume('poss_e_lon','mem( proc(epi,i) {uniform_continuous(0,360)})')\n",
    "v.assume('poss_sin_e_lat','mem( proc(epi,i) { uniform_continuous(-1,1) })')\n",
    "\n",
    "v.assume('poss_e_fake_travel_time','mem( proc(epi,i,k) {I_t(compute_distance(k,poss_e_lon(epi,i),poss_sin_e_lat(epi,i)))})')\n",
    "v.assume('poss_e_m','''mem( proc(epi,i,k) {\n",
    "         if (real_flip(epi,i,k)) {bounded_expon(mu_m,1/theta_m,gamma_m)} else \n",
    "         {student_t(1,(mu_f(k) - lookup(mu_a(k),0) - (lookup(mu_a(k),2)*poss_e_fake_travel_time(epi,i,k))) / lookup(mu_a(k),1),theta_f(k)/lookup(mu_a(k),1))}})''')\n"
   ]
  },
  {
   "cell_type": "code",
   "execution_count": 12,
   "metadata": {
    "collapsed": false
   },
   "outputs": [
    {
     "name": "stdout",
     "output_type": "stream",
     "text": [
      "-66.7077485272\n",
      "410.917018713\n",
      "807.132179075\n",
      "1732.2485069\n",
      "1673.09900997\n",
      "-18.4831924774\n",
      "263.252192705\n",
      "-308.676719152\n",
      "-75.794034949\n",
      "-676.6802227\n",
      "898.63292747\n",
      "1020.27305928\n",
      "965.837838801\n",
      "2467.42213259\n",
      "-138.457319911\n",
      "2920.36806819\n",
      "-45.1524091115\n",
      "1869.33295191\n",
      "780.943241996\n",
      "2939.27514098\n",
      "2846.57359294\n",
      "532.516322453\n",
      "-190.950985035\n",
      "2483.81133397\n",
      "703.434122268\n",
      "131.105053625\n",
      "1770.44128282\n",
      "-428.347089183\n",
      "-862.900432266\n",
      "666.09946314\n",
      "654.202878714\n",
      "2857.22398225\n",
      "782.065742008\n",
      "2271.65354221\n",
      "2555.25005542\n",
      "1547.48601153\n",
      "441.709863061\n",
      "1488.84580419\n",
      "2135.4406984\n",
      "2140.47295091\n",
      "-322.420868054\n",
      "-486.203015275\n",
      "1023.68567864\n",
      "1734.66386216\n",
      "1889.1985942\n",
      "2257.36692872\n",
      "2753.82379525\n",
      "-366.387519617\n",
      "2190.78260282\n",
      "927.600657689\n",
      "-9.80566622693\n",
      "195.788858924\n",
      "1600.98473411\n",
      "-282.245281509\n",
      "876.117971066\n",
      "157.268400815\n",
      "505.819647724\n",
      "-44.7108545723\n",
      "-667.886851344\n",
      "2153.26785608\n",
      "2348.06718034\n",
      "-828.955927087\n",
      "2568.4259955\n",
      "-733.892286609\n",
      "358.153600215\n",
      "822.611548329\n",
      "-77.8609050197\n",
      "220.18929112\n",
      "691.982368015\n",
      "-173.391730022\n",
      "524.730195196\n",
      "1090.02800098\n",
      "1570.18480981\n",
      "-367.244450715\n",
      "1024.21828324\n",
      "2973.89049983\n",
      "2239.24282309\n",
      "2158.94014575\n",
      "2880.87935677\n",
      "2966.27164867\n",
      "2553.84137181\n",
      "2655.68187434\n",
      "1548.78988639\n",
      "1947.5605039\n",
      "1231.68834878\n",
      "1861.46208792\n",
      "1407.82445464\n",
      "1140.69373166\n",
      "-inf -79.4536070485\n"
     ]
    },
    {
     "data": {
      "text/plain": [
       "[]"
      ]
     },
     "execution_count": 12,
     "metadata": {},
     "output_type": "execute_result"
    }
   ],
   "source": [
    "for epi in episodes_list:\n",
    "    for det_id in range(len(episodes[i].detections)):\n",
    "        det = episodes[i].detections[det_id]\n",
    "        mu_a = v.sample('mu_a({0})'.format(det.stanum))\n",
    "        ML_dist = invert_slowness(det.slowness)\n",
    "        ML_loc = invert_dist_azimuth2(det.stanum,ML_dist,det.azimuth)\n",
    "        ML_mag = (np.log(det.amp)-mu_a[0]-mu_a[2]*compute_travel_time(ML_dist))/mu_a[1]\n",
    "        ML_time = det.time-compute_travel_time(ML_dist)\n",
    "        print ML_time\n",
    "        v.observe('poss_e_lon({0},{1})'.format(epi,det_id),'{0}'.format(ML_loc[0]))\n",
    "        v.observe('poss_sin_e_lat({0},{1})'.format(epi,det_id),'{0}'.format(np.sin(np.radians(ML_loc[1]))))\n",
    "        v.observe('poss_e_t({0},{1},{2})'.format(epi,det_id,det.stanum),'{0}'.format(ML_time))\n",
    "        v.observe('poss_e_m({0},{1},{2})'.format(epi,det_id,det.stanum),'{0}'.format(ML_mag))\n",
    "\n",
    "v.infer('bogo_possibilize(default, all,1)')"
   ]
  },
  {
   "cell_type": "code",
   "execution_count": 13,
   "metadata": {
    "collapsed": false
   },
   "outputs": [
    {
     "data": {
      "text/plain": [
       "1185.7999999999997"
      ]
     },
     "execution_count": 13,
     "metadata": {},
     "output_type": "execute_result"
    }
   ],
   "source": [
    "compute_travel_time(180)"
   ]
  },
  {
   "cell_type": "code",
   "execution_count": null,
   "metadata": {
    "collapsed": true
   },
   "outputs": [],
   "source": []
  },
  {
   "cell_type": "code",
   "execution_count": 14,
   "metadata": {
    "collapsed": false
   },
   "outputs": [
    {
     "data": {
      "text/plain": [
       "[]"
      ]
     },
     "execution_count": 14,
     "metadata": {},
     "output_type": "execute_result"
    }
   ],
   "source": [
    "v.infer('default_markov_chain(1000)')"
   ]
  },
  {
   "cell_type": "code",
   "execution_count": 15,
   "metadata": {
    "collapsed": false
   },
   "outputs": [
    {
     "name": "stdout",
     "output_type": "stream",
     "text": [
      "[-588.51258112000494]\n"
     ]
    }
   ],
   "source": [
    "print v.infer('global_posterior') "
   ]
  },
  {
   "cell_type": "code",
   "execution_count": 16,
   "metadata": {
    "collapsed": false,
    "scrolled": false
   },
   "outputs": [
    {
     "name": "stdout",
     "output_type": "stream",
     "text": [
      "True\n",
      "False\n",
      "True\n",
      "False\n",
      "False\n",
      "False\n",
      "False\n",
      "False\n",
      "False\n",
      "False\n",
      "True\n",
      "False\n",
      "False\n",
      "True\n",
      "False\n",
      "False\n",
      "False\n",
      "False\n",
      "False\n",
      "False\n",
      "False\n",
      "False\n",
      "False\n",
      "False\n",
      "False\n",
      "False\n",
      "False\n",
      "False\n",
      "False\n",
      "False\n",
      "False\n",
      "False\n",
      "False\n",
      "False\n",
      "False\n",
      "False\n",
      "False\n",
      "False\n",
      "False\n",
      "False\n",
      "False\n",
      "True\n",
      "False\n",
      "False\n",
      "False\n",
      "False\n",
      "False\n",
      "False\n",
      "False\n",
      "False\n",
      "True\n",
      "False\n",
      "False\n",
      "True\n",
      "False\n",
      "False\n",
      "True\n",
      "False\n",
      "False\n",
      "False\n",
      "False\n",
      "False\n",
      "False\n",
      "False\n",
      "False\n",
      "False\n",
      "False\n",
      "False\n",
      "False\n",
      "True\n",
      "False\n",
      "False\n",
      "False\n",
      "True\n",
      "True\n",
      "False\n",
      "False\n",
      "False\n",
      "False\n",
      "True\n",
      "False\n",
      "False\n",
      "False\n",
      "False\n",
      "False\n",
      "False\n",
      "False\n",
      "False\n",
      "False\n",
      "False\n",
      "True\n",
      "False\n",
      "False\n",
      "False\n",
      "False\n",
      "False\n",
      "False\n",
      "True\n",
      "False\n",
      "False\n",
      "True\n",
      "True\n",
      "False\n",
      "False\n",
      "False\n",
      "False\n",
      "True\n",
      "107\n",
      "9\n",
      "18\n",
      "20\n",
      "10\n",
      "6\n",
      "8\n",
      "4\n",
      "4\n",
      "3\n",
      "6\n",
      "8\n"
     ]
    }
   ],
   "source": [
    "\n",
    "for j in episodes_list:\n",
    "    for i,det in enumerate(episodes[j].detections):\n",
    "        print v.sample('real_flip({0},{1},{2})'.format(j,i,det.stanum))\n",
    "    print len(episodes[j].detections)\n",
    "    print v.sample('num_e({0})'.format(j))\n",
    "    for i in range(len(STATIONS)):\n",
    "        print v.sample('num_Xi({0},{1})'.format(j,i))"
   ]
  },
  {
   "cell_type": "markdown",
   "metadata": {},
   "source": [
    "v.assume('assoc_of_det','''mem(proc(epi,det_i,k) {\n",
    "    if(real_flip(epi,det_i,k)) {\n",
    "        uniform_discrete(0,num_e(epi))\n",
    "    } else {\n",
    "        -1 - det_i\n",
    "    }\n",
    "})''')\n",
    "            \n",
    "\n",
    "for i in range(1):\n",
    "    print 'OBSERVING EPISODE (%s)' % (i)\n",
    "    for det_id, det in enumerate(episodes[i].detections):\n",
    "        v.observe('Lambda_t({0}, assoc_of_det({0},{1},{2}), {2})'.format(i, det_id, det.stanum), '%s' % det.time)\n",
    "        v.observe('Lambda_z({0}, assoc_of_det({0},{1},{2}), {2})'.format(i, det_id, det.stanum),'%s' % det.azimuth)\n",
    "        v.observe('Lambda_s({0}, assoc_of_det({0},{1},{2}), {2})'.format(i, det_id, det.stanum),'%s' % det.slowness)\n",
    "        v.observe('log_Lambda_a({0}, assoc_of_det({0},{1},{2}), {2})'.format(i,det_id, det.stanum),'%s' % np.log(det.amp))\n",
    "    "
   ]
  },
  {
   "cell_type": "code",
   "execution_count": 17,
   "metadata": {
    "collapsed": false
   },
   "outputs": [
    {
     "name": "stdout",
     "output_type": "stream",
     "text": [
      "[50.4966650504, 75.591889373977821, 3.658317832095067, 2609.7643264450094]\n",
      "[189.287896421, 24.610581396718231, 5.263518250645355, 2420.5370830230363]\n",
      "[161.657254357, 2.7354720332772859, 3.792645953940683, 1532.3154839217373]\n",
      "[144.9934128, -51.409616059936596, 4.504948649037219, 829.8786302311347]\n",
      "[62.7001746953, 11.476652856175487, 4.177201819277288, 2164.1053890912917]\n",
      "[293.491391997, -63.404029677236679, 4.8708138737534385, 353.9157375188356]\n",
      "[15.1969321431, 60.889148423049072, 3.028540235274755, 1645.2368103011702]\n",
      "[259.890451993, 3.6824772216200796, 4.971371655539379, 3351.7718579153475]\n",
      "[205.489906479, 10.887355205058189, 4.679829824211766, 600.5779522127591]\n",
      "[324.708520476, -19.536872727641825, 3.684829380263147, 584.1091941025425]\n",
      "[24.8941985534, 2.3492306970662309, 3.391158327008642, 2552.7995389468906]\n",
      "[50.1745802707, -17.248008357298946, 4.241567500798709, 90.55819725037057]\n",
      "[128.420636185, 36.786573692490649, 3.8176726858038696, 1620.9351253400991]\n",
      "[81.0576832831, 62.52214794927837, 3.173644743823514, 1892.099367034712]\n",
      "[5.192454975716023, 50.666000395550135, 3.72078367279552, 404.92668136255327]\n",
      "[357.4802153754427, 23.419585967119119, 3.99133358811037, 1094.7848898957195]\n",
      "[206.56273154805314, 17.082647721834828, 3.176760302385129, 2555.349496184822]\n",
      "[311.14930911519673, 36.906822526939628, 4.805250519407718, 52.74798200254671]\n",
      "[170.32549095290113, -74.07915254005492, 3.2538995351730646, 1205.0448414991215]\n"
     ]
    }
   ],
   "source": [
    "#v.assume('clusters', 'CLUSTER(filter(real_flip ...,, psudo_e array(poss_e\n",
    "\n",
    "pseudo_evs = []\n",
    "for i in episodes_list:\n",
    "    for det_id,det in enumerate(episodes[i].detections):\n",
    "         det_flip = v.sample('real_flip({0},{1},{2})'.format(i,det_id,det.stanum))\n",
    "         if det_flip:\n",
    "             pseudo_ev_lon = v.sample('poss_e_lon({0},{1})'.format(i,det_id))\n",
    "             pseudo_ev_lat = np.degrees(np.arcsin(v.sample('poss_sin_e_lat({0},{1})'.format(i,det_id))))\n",
    "             pseudo_ev_m = v.sample('poss_e_m({0},{1},{2})'.format(i,det_id,det.stanum))\n",
    "             pseudo_ev_t = v.sample('poss_e_t({0},{1},{2})'.format(i,det_id,det.stanum))\n",
    "             pseudo_evs.append([pseudo_ev_lon,pseudo_ev_lat,pseudo_ev_m,pseudo_ev_t])\n",
    "         \n",
    "for item in pseudo_evs:\n",
    "    print item"
   ]
  },
  {
   "cell_type": "code",
   "execution_count": null,
   "metadata": {
    "collapsed": true
   },
   "outputs": [],
   "source": []
  }
 ],
 "metadata": {
  "kernelspec": {
   "display_name": "Python 2",
   "language": "python",
   "name": "python2"
  },
  "language_info": {
   "codemirror_mode": {
    "name": "ipython",
    "version": 2
   },
   "file_extension": ".py",
   "mimetype": "text/x-python",
   "name": "python",
   "nbconvert_exporter": "python",
   "pygments_lexer": "ipython2",
   "version": "2.7.9"
  }
 },
 "nbformat": 4,
 "nbformat_minor": 0
}
