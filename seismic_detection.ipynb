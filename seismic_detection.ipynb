{
 "cells": [
  {
   "cell_type": "code",
   "execution_count": 1,
   "metadata": {
    "collapsed": true
   },
   "outputs": [],
   "source": [
    "import sys\n",
    "sys.path.append('/usr/local/lib/python2.7/dist-packages/')"
   ]
  },
  {
   "cell_type": "code",
   "execution_count": 2,
   "metadata": {
    "collapsed": false
   },
   "outputs": [],
   "source": [
    "from venture.shortcuts import *\n",
    "import venture.lite.builtin as bp\n",
    "import venture.lite.types as t\n",
    "import venture.lite.psp as psp\n",
    "import numpy as np\n",
    "import scipy.stats as sp\n",
    "import matplotlib.pyplot as plt\n",
    "from util import *\n",
    "from collections import defaultdict\n",
    "\n",
    "%matplotlib inline"
   ]
  },
  {
   "cell_type": "code",
   "execution_count": 3,
   "metadata": {
    "collapsed": false
   },
   "outputs": [],
   "source": [
    "v=make_lite_venture_script_ripl()\n",
    "v.bind_foreign_sp(\"compute_distance\", bp.deterministic_typed(compute_distance2, \n",
    "                  [t.NumberType()]*3,t.NumberType()))\n",
    "v.bind_foreign_sp(\"compute_azimuth\", bp.deterministic_typed(compute_azimuth2, \n",
    "                  [t.NumberType()]*3,t.NumberType()))\n",
    "v.bind_foreign_sp(\"invert_dist_azimuth2\", bp.deterministic_typed(invert_dist_azimuth, \n",
    "                  [t.NumberType(),t.NumberType(),t.NumberType()],t.ArrayType(t.NumberType())))\n",
    "\n",
    "class BoundedExponOutputPSP(psp.RandomPSP):\n",
    "  # TODO don't need to be class methods\n",
    "  def simulateNumeric(self,mu,theta,gamma):\n",
    "    while True:\n",
    "        x = mu + sp.expon.rvs(scale=1.0/theta)\n",
    "        if x < gamma:\n",
    "            return x\n",
    "  def logDensityNumeric(self,x,mu,theta,gamma):\n",
    "    nontailmass = sp.expon.logcdf(gamma - mu,scale=1.0/theta)\n",
    "    return sp.expon.logpdf(x - mu,scale=1.0/theta) - nontailmass\n",
    "\n",
    "  def simulate(self,args): return self.simulateNumeric(*args.operandValues())\n",
    "  def logDensity(self,x,args): return self.logDensityNumeric(x,*args.operandValues())\n",
    "\n",
    "  def gradientOfLogDensity(self,x,args):\n",
    "    mu,theta,gamma = args.operandValues()\n",
    "    nontailmass = sp.expon.cdf(gamma - mu,scale=1.0/theta)\n",
    "    gradX = -theta\n",
    "    gradTheta = 1.0 / nontailmass / theta - (x - mu)\n",
    "    return (gradX,[gradTheta])\n",
    "\n",
    "  def description(self,name):\n",
    "    return \"  %s(theta) returns a sample from an exponential distribution with rate (inverse scale) parameter theta.\" % name\n",
    "\n",
    "\n",
    "v.bind_foreign_sp(\"bounded_expon\", bp.typed_nr(BoundedExponOutputPSP(), [t.NumberType()]*3,t.NumberType()))"
   ]
  },
  {
   "cell_type": "markdown",
   "metadata": {},
   "source": [
    "## Initialize Priors\n",
    "\n",
    "In the next block, I initialize all parameters of a physical world description via the prior distributions given in the problem description file. I set the assumptions in my ripl layer while defining the variables locally, then set all local variables into the namedTuple physicsPriors."
   ]
  },
  {
   "cell_type": "code",
   "execution_count": 4,
   "metadata": {
    "collapsed": false
   },
   "outputs": [
    {
     "data": {
      "text/plain": [
       "'physicsPriors = Physics(T=T, R=R, \\n                        lambda_e=lambda_e,\\n                        mu_m=mu_m, theta_m=theta_m, gamma_m=gamma_m, \\n                        mu_d0=[item[0] for item in mu_d],\\n                        mu_d1=[item[1] for item in mu_d],\\n                        mu_d2=[item[2] for item in mu_d],\\n                        mu_t=mu_t,\\n                        theta_t=theta_t,\\n                        mu_z=mu_z,\\n                        theta_z=theta_z,\\n                        mu_s=mu_s,\\n                        theta_s=theta_s,\\n                        mu_a0=[item[0] for item in mu_a],\\n                        mu_a1=[item[1] for item in mu_a],\\n                        mu_a2=[item[2] for item in mu_a],\\n                        sigma_a=sigma_a,\\n                        lambda_f=lambda_f,\\n                        mu_f=mu_f,\\n                        theta_f=theta_f,)\\n'"
      ]
     },
     "execution_count": 4,
     "metadata": {},
     "output_type": "execute_result"
    }
   ],
   "source": [
    "lenst = len(STATIONS)\n",
    "\n",
    "physPriorParamNames = [\"T\", \"R\", \"lambda_e\", \"mu_m\", \"theta_m\", \"gamma_m\", \"mu_d0\", \"mu_d1\", \"mu_d2\",\n",
    "  \"mu_t\", \"theta_t\", \"mu_z\", \"theta_z\", \"mu_s\", \"theta_s\",\n",
    "  \"mu_a0\", \"mu_a1\", \"mu_a2\", \"sigma_a\",\n",
    "  \"lambda_f\", \"mu_f\", \"theta_f\"]\n",
    "\n",
    "T = v.assume('T','3600.')\n",
    "R = v.assume('R','6371.')\n",
    "lambda_e = v.assume('lambda_e','gamma(6.0,(4*3.1415927*6371**2*3600))')\n",
    "mu_m = v.assume('mu_m','3.0')\n",
    "theta_m = v.assume('theta_m','4.0')\n",
    "gamma_m = v.assume('gamma_m','6.0')\n",
    "v.assume('mu_d_covar','matrix(list(list(13.43,-2.36,-0.0122),list(-2.36,0.452,0.000112),list(-0.0122,0.000112,0.000125)))')\n",
    "v.assume('mu_a_covar','matrix(list(list(1.23, -0.227, -0.000175),list(-0.227,0.0461,0.0000245),list(-0.000175,0.0000245,0.000000302)))')\n",
    "\n",
    "v.assume('mu_d','mem( proc(k) { multivariate_normal(vector(-10.4,3.26,-0.0499),mu_d_covar) })')\n",
    "v.assume('mu_t','mem( proc(k) { 0.0 } )')\n",
    "v.assume('theta_t','mem( proc(k) { inv_gamma(120,118) } )')\n",
    "v.assume('mu_z','mem( proc(k) { 0.0 } )')\n",
    "v.assume('theta_z','mem( proc(k) { inv_gamma(5.2,44) } )')\n",
    "v.assume('mu_s','mem( proc(k) { 0.0 } )')\n",
    "v.assume('theta_s','mem( proc(k) { inv_gamma(6.7,7.5) } )')\n",
    "v.assume('mu_a','mem( proc(k) { multivariate_normal(vector(-7.3,2.03,-0.00196),mu_a_covar) })')\n",
    "#v.assume('sigma_a','mem( proc(k) { (inv_gamma(21.1,12.6)**0.5) } )')\n",
    "v.assume('lambda_f','mem( proc(k) { gamma(2.1,1 / 0.0013) } )')\n",
    "v.assume('mu_f','mem( proc(k) { normal(-0.68,0.68) } )')\n",
    "v.assume('theta_f','mem( proc(k) { inv_gamma(23.5,12.45) } )')\n",
    "\n",
    "mu_d = np.zeros((lenst,3))\n",
    "mu_t = np.zeros(lenst)\n",
    "theta_t = np.zeros(lenst)\n",
    "mu_z = np.zeros(lenst)\n",
    "theta_z = np.zeros(lenst)\n",
    "mu_s = np.zeros(lenst)\n",
    "theta_s = np.zeros(lenst)\n",
    "mu_a = np.zeros((lenst,3))\n",
    "sigma_a = np.zeros(lenst)\n",
    "lambda_f = np.zeros(lenst)\n",
    "mu_f = np.zeros(lenst)\n",
    "theta_f = np.zeros(lenst)\n",
    "\n",
    "\n",
    "pp = []\n",
    "for i in range(len(STATIONS)):\n",
    "    mu_d[i] = v.sample('mu_d({0})'.format(i))\n",
    "    mu_t[i] = v.sample('mu_t({0})'.format(i))\n",
    "    theta_t[i] = v.sample('theta_t({0})'.format(i))\n",
    "    mu_z[i] = v.sample('mu_z({0})'.format(i))\n",
    "    theta_z[i] = v.sample('theta_z({0})'.format(i))\n",
    "    mu_s[i] = v.sample('mu_s({0})'.format(i))\n",
    "    theta_s[i] = v.sample('theta_s({0})'.format(i))\n",
    "    mu_a[i] = v.sample('mu_a({0})'.format(i))\n",
    "    #sigma_a[i] = v.sample('sigma_a({0})'.format(i))\n",
    "    lambda_f[i] = v.sample('lambda_f({0})'.format(i))\n",
    "    mu_f[i] = v.sample('mu_f({0})'.format(i))\n",
    "    theta_f[i] = v.sample('theta_f({0})'.format(i))\n",
    "    \n",
    "\n",
    "'''physicsPriors = Physics(T=T, R=R, \n",
    "                        lambda_e=lambda_e,\n",
    "                        mu_m=mu_m, theta_m=theta_m, gamma_m=gamma_m, \n",
    "                        mu_d0=[item[0] for item in mu_d],\n",
    "                        mu_d1=[item[1] for item in mu_d],\n",
    "                        mu_d2=[item[2] for item in mu_d],\n",
    "                        mu_t=mu_t,\n",
    "                        theta_t=theta_t,\n",
    "                        mu_z=mu_z,\n",
    "                        theta_z=theta_z,\n",
    "                        mu_s=mu_s,\n",
    "                        theta_s=theta_s,\n",
    "                        mu_a0=[item[0] for item in mu_a],\n",
    "                        mu_a1=[item[1] for item in mu_a],\n",
    "                        mu_a2=[item[2] for item in mu_a],\n",
    "                        sigma_a=sigma_a,\n",
    "                        lambda_f=lambda_f,\n",
    "                        mu_f=mu_f,\n",
    "                        theta_f=theta_f,)\n",
    "'''"
   ]
  },
  {
   "cell_type": "code",
   "execution_count": 5,
   "metadata": {
    "collapsed": false
   },
   "outputs": [],
   "source": [
    "def short_phys_real():\n",
    "    mu_d0 = [-17.359822061671441, -15.768544463698792, -12.922409957811768, -10.773287520963605, -11.132931849171747, -12.477364811457281, -6.7580892401135788, -9.5294379467128927, -11.193494209883042, -9.2582869645622328]\n",
    "    mu_d1 = [4.4655214067275839, 4.2880673839135159, 3.4939232311517419, 3.0836102728094517, 3.5644521183108333, 3.7061375881329575, 2.9746939897039697, 3.2122834287316029, 3.1747080104009289, 3.0735163035616315]\n",
    "    mu_d2 = [-0.042587125584878968, -0.046476669950539611, -0.0386056868920115, -0.033644722353157831, -0.058346700937573881, -0.052050312834667954, -0.074411966166429366, -0.057613152060445913, -0.036071371856942244, -0.055272372080290746]\n",
    "    mu_t = [0.0, 0.0, 0.0, 0.0, 0.0, 0.0, 0.0, 0.0, 0.0, 0.0]\n",
    "    theta_t = [0.97403464235339587, 1.0351212113814889, 0.96418499815554193, 1.0079627453372313, 0.84206132362185848, 1.0135927443271529, 1.0186623321740327, 0.95965107920519055, 0.9790147888991162, 0.97492892649666085]\n",
    "    mu_z = [0.0, 0.0, 0.0, 0.0, 0.0, 0.0, 0.0, 0.0, 0.0, 0.0]\n",
    "    theta_z = [18.669473444191421, 31.067605809220918, 7.4717496833821997, 6.8802122424716021, 7.2735470329833278, 14.657952637765698, 6.3892540662578368, 5.0731725691355347, 26.819630675574974, 6.7386639171709755]\n",
    "    mu_s = [0.0, 0.0, 0.0, 0.0, 0.0, 0.0, 0.0, 0.0, 0.0, 0.0]\n",
    "    theta_s = [2.7873617827043962, 2.6365822782429182, 0.71761518576907046, 0.88204931046153978, 1.9977201221848233, 0.94042935154931961, 2.1283948057257942, 1.4122952773438973, 1.6688399530584015, 0.99403597248760345]\n",
    "    mu_a0 = [-7.5889174296256243, -8.039232467882707, -8.1774264949089801, -5.7676523935644877, -6.8765551696438649, -7.1582798070100742, -8.7307999941883914, -5.7143807424344377, -6.0321268136397386, -8.0335045730895729]\n",
    "    mu_a1 = [1.9698881472754843, 2.1142324247529105, 2.1359370120152219, 1.7028236897387603, 1.8554536356816058, 1.9893705784398019, 2.2618410084067802, 1.7102856022941844, 1.9118912333453471, 2.2128902234536993]\n",
    "    mu_a2 = [-0.0017825614388768366, -0.0022352795847745571, -0.0014403097736774737, -0.0024422897060926564, -0.001305072272560544, -0.0024558440921668362, -0.00050303560445385934, -0.0027011475693344989, -0.0021396966460229079, -0.0022089987983199646]\n",
    "    sigma_a = [0.93195795493497113, 0.70170568773307385, 0.88187075130738513, 0.77700709763472209, 0.96149840769988715, 0.83952976862321427, 0.93385991567304061, 0.72049474691188131, 0.91022810716046143, 0.74539403565284956]\n",
    "    lambda_f = [0.005356845052932243, 0.004416252349421397, 0.003128792294084219, 0.0018195013716233743, 0.0012844442232585694, 0.001248242568353651, 0.0016220932294251226, 0.001039395307938798, 0.0017931339240377499, 0.0026671057732874284]\n",
    "    mu_f = [0.6991998411447334, -1.5743137502848807, 0.11003180311800753, -1.5806763114362214, -0.09219581058098525, -0.854561925713898, -0.5313420684257932, -0.8596269262786942, -0.25743993244414687, -0.9563341240466005]\n",
    "    theta_f = [0.45822676723376737, 0.54164092015782339, 0.56952819745666372, 0.40785210377568526, 0.70803734788388284, 0.47009239496664218, 0.43887083899955331, 0.86740425997874737, 0.48221028166065077, 0.5687694086602948]\n",
    "    v.assume('sigma_a','mem( proc(k) { (normal(0,1)) } )')\n",
    "    for i in range(len(STATIONS)):\n",
    "        v.infer('(observe(mu_d({0}), array({1},{2},{3})))'.format(i,mu_d0[i],mu_d1[i],mu_d2[i]))\n",
    "        v.infer('(observe(mu_a({0}), array({1},{2},{3})))'.format(i,mu_a0[i],mu_a1[i],mu_a2[i]))\n",
    "        v.observe('theta_t({0})'.format(i),'{0}'.format(theta_t[i]))\n",
    "        v.observe('theta_z({0})'.format(i),'{0}'.format(theta_z[i]))\n",
    "        v.observe('theta_s({0})'.format(i),'{0}'.format(theta_s[i]))\n",
    "        v.observe('theta_f({0})'.format(i),'{0}'.format(theta_f[i]))\n",
    "        v.observe('mu_f({0})'.format(i),'{0}'.format(mu_f[i]))\n",
    "        v.observe('sigma_a({0})'.format(i),'{0}'.format(sigma_a[i]))\n",
    "        v.observe('lambda_f({0})'.format(i),'{0}'.format(lambda_f[i]))\n",
    "\n",
    "\n",
    "short_phys_real()"
   ]
  },
  {
   "cell_type": "markdown",
   "metadata": {
    "collapsed": true
   },
   "source": [
    "##Set Model Dependencies from Observations to Background Parameters\n",
    "\n",
    "In the next block, I set all model dependencies so that my training data will affect the background physics parameters."
   ]
  },
  {
   "cell_type": "code",
   "execution_count": 6,
   "metadata": {
    "collapsed": false,
    "scrolled": true
   },
   "outputs": [
    {
     "data": {
      "text/plain": [
       "'<procedure>'"
      ]
     },
     "execution_count": 6,
     "metadata": {},
     "output_type": "execute_result"
    }
   ],
   "source": [
    "#Number of Events in an Episode\n",
    "v.assume('num_e','mem( proc(epi) {poisson(lambda_e*4*3.1415927*R**2*T)})')\n",
    "\n",
    "#\n",
    "#DO I ENCODE UNIFORM DISTRIBUTIONS OF EVENT TIME AND LOCATION?\n",
    "v.assume('e_t','mem( proc(epi,i) { uniform_continuous(0,T) } )')\n",
    "v.assume('e_lon','mem ( proc(epi,i) { uniform_continuous(-180,180) } )')\n",
    "v.assume('sin_e_lat','mem( proc(epi,i) {uniform_continuous(-1,1)})')\n",
    "#\n",
    "\n",
    "#Event Magnitude Distribution\n",
    "v.assume('e_m','mem( proc(epi,i) { bounded_expon(mu_m,1/theta_m,gamma_m) } )')\n",
    "#Condition Exponential on bounds, using uniform_continuous\n",
    "#v.assume('obs_func','proc(i){uniform_continuous(mu_m-e_m(epi,i),gamma_m-e_m(epi,i))}')\n",
    "#v.observe('obs_func(1)','0')\n",
    "\n",
    "#Detection Probability\n",
    "v.assume('det_prob','''mem( proc(epi,i,k) {1./(1 + exp(\n",
    "                                -1. * (vector_dot(mu_d(k),\n",
    "                                vector(1,e_m(epi,i),compute_distance(k,e_lon(epi,i),sin_e_lat(epi,i)))))))} )\n",
    "                                ''')\n",
    "#Travel Time Function\n",
    "v.assume('I_t','proc(dist) { -0.023 * pow(dist,2) + 10.7 * dist + 5 } ')\n",
    "\n",
    "\n",
    "#Detection Time\n",
    "v.assume('Lambda_t','''( proc(epi,i,k) {\n",
    "         laplace(e_t(epi,i)+I_t(compute_distance(k,e_lon(epi,i),sin_e_lat(epi,i)))+mu_t(k),\n",
    "         theta_t(k)) } )''')\n",
    "\n",
    "#Detection Azimuth\n",
    "v.assume('Lambda_z','''( proc(epi,i,k) { \n",
    "          laplace(compute_azimuth(k,e_lon(epi,i),sin_e_lat(epi,i)) - mu_z(k),theta_z(k)) } ) ''' )\n",
    "#Maybe goes over 360? Problem?\n",
    "\n",
    "#Slowness Function\n",
    "v.assume('I_s','proc(dist) { -0.046 * dist + 10.7 } ')\n",
    "v.assume('inv_I_s','proc(slow) { (slow - 10.7) - 0.046 }')\n",
    "\n",
    "#Detection Slowness\n",
    "v.assume('Lambda_s','''( proc(epi,i,k) { laplace(I_s(\n",
    "         compute_distance(k,e_lon(epi,i),sin_e_lat(epi,i)))+mu_s(k),theta_s(k)) })''')\n",
    "\n",
    "#Detection Amplitude\n",
    "v.assume('log_Lambda_a','''( proc(epi,i,k) {normal(vector_dot(mu_a(k),\n",
    "                                vector(1,e_m(epi,i),I_t(compute_distance(k,e_lon(epi,i),sin_e_lat(epi,i))))),sigma_a(k))})''')\n",
    "\n",
    "#False Detection Parameters\n",
    "v.assume('num_Xi','mem( proc(epi,k) {poisson(lambda_f(k) * T)} )')\n",
    "v.assume('Xi_t','mem( proc(epi,k,f) {uniform_continuous(0,T)})')\n",
    "v.assume('Xi_z','mem( proc(epi,k,f) {uniform_continuous(0,360)})')\n",
    "v.assume('Xi_s','mem( proc(epi,k,f) {uniform_continuous(I_s(180),I_s(0))})')\n",
    "v.assume('log_Xi_a','mem( proc(epi,k,f) {student_t(1,mu_f(k),theta_f(k))})')\n"
   ]
  },
  {
   "cell_type": "code",
   "execution_count": 7,
   "metadata": {
    "collapsed": false
   },
   "outputs": [],
   "source": [
    "episodes = read_episodes('../short_data/training.data')"
   ]
  },
  {
   "cell_type": "code",
   "execution_count": 8,
   "metadata": {
    "collapsed": false
   },
   "outputs": [],
   "source": [
    "def check_weight():\n",
    "    return\n",
    "    print v.infer('particle_log_weights')[0]\n",
    "    if v.infer('particle_log_weights')[0] == float('-inf'):\n",
    "        raise Exception()"
   ]
  },
  {
   "cell_type": "markdown",
   "metadata": {
    "collapsed": false,
    "scrolled": true
   },
   "source": [
    "for i in range(len(episodes)):\n",
    "    print 'OBSERVING EPISODE (%s)' % (i)\n",
    "    v.observe('num_e(%s)'% i,'%s' % len(episodes[i].events))\n",
    "    check_weight()\n",
    "    for event_id,event in enumerate(episodes[i].events):\n",
    "        v.observe('e_t({0},{1})'.format(i,event_id),'%s' % event.time)\n",
    "        check_weight()\n",
    "        v.observe('e_lon({0},{1})'.format(i,event_id),'%s' % event.lon)\n",
    "        check_weight()\n",
    "        v.observe('sin_e_lat({0},{1})'.format(i,event_id),'%s' % np.sin(np.radians(event.lat)))\n",
    "        check_weight()\n",
    "        v.observe('e_m({0},{1})'.format(i,event_id),'%s' % event.mag)\n",
    "        check_weight()\n",
    "    for event_id, event_dets in enumerate(episodes[i].assocs):\n",
    "        for detection_id in event_dets:\n",
    "            ev = episodes[i].events[event_id]\n",
    "            det = episodes[i].detections[detection_id]\n",
    "            v.observe('Lambda_t(%s, %s, %s)' % (i,event_id, det.stanum), '%s' % det.time)\n",
    "            check_weight()\n",
    "            v.observe('Lambda_z(%s, %s, %s)' % (i,event_id, det.stanum),'%s' % det.azimuth)\n",
    "            check_weight()\n",
    "            v.observe('Lambda_s(%s, %s, %s)' % (i,event_id, det.stanum),'%s' % det.slowness)\n",
    "            check_weight()\n",
    "            v.observe('log_Lambda_a(%s, %s, %s)' % (i,event_id, det.stanum),'%s' % np.log(det.amp))\n",
    "            check_weight()\n",
    "    station_counters = defaultdict(int)\n",
    "    for false_det_id in range(len(sum(episodes[i].assocs,[])),len(episodes[i].detections)):\n",
    "        false_det = episodes[i].detections[false_det_id]\n",
    "        station_counters[false_det.stanum] += 1\n",
    "        v.observe('log_Xi_a(%s, %s, %s)' % (i,det.stanum,false_det_id),'%s' % np.log(det.amp))\n",
    "        check_weight()\n",
    "    for stanum in range(len(STATIONS)):\n",
    "        v.observe('num_Xi(%s, %s)' % (i,stanum), '%s' % station_counters[stanum])\n",
    "        check_weight()\n",
    "        \n",
    "#v.infer('bogo_possibilize(default, all,1)')\n",
    "\n",
    "print 'done'"
   ]
  },
  {
   "cell_type": "code",
   "execution_count": 9,
   "metadata": {
    "collapsed": false
   },
   "outputs": [
    {
     "data": {
      "text/plain": [
       "\"print v.infer('global_posterior')\\nprint v.infer('global_likelihood')\\nv.infer('default_markov_chain(300)')\\ndata = []\\nfor i in range(50):\\n    v.infer('default_markov_chain(10)')\\n    data.append([v.sample('theta_s({0})'.format(k)) for k in range(len(STATIONS))])\\n    \""
      ]
     },
     "execution_count": 9,
     "metadata": {},
     "output_type": "execute_result"
    }
   ],
   "source": [
    "'''print v.infer('global_posterior')\n",
    "print v.infer('global_likelihood')\n",
    "v.infer('default_markov_chain(300)')\n",
    "data = []\n",
    "for i in range(50):\n",
    "    v.infer('default_markov_chain(10)')\n",
    "    data.append([v.sample('theta_s({0})'.format(k)) for k in range(len(STATIONS))])\n",
    "    '''"
   ]
  },
  {
   "cell_type": "code",
   "execution_count": 10,
   "metadata": {
    "collapsed": false
   },
   "outputs": [
    {
     "name": "stdout",
     "output_type": "stream",
     "text": [
      "Theta_s0 2.7873617827\n",
      "Theta_s1 2.63658227824\n",
      "Theta_s2 0.717615185769\n",
      "Theta_s3 0.882049310462\n",
      "Theta_s4 1.99772012218\n",
      "Theta_s5 0.940429351549\n",
      "Theta_s6 2.12839480573\n",
      "Theta_s7 1.41229527734\n",
      "Theta_s8 1.66883995306\n",
      "Theta_s9 0.994035972488\n",
      "Lambda_f0 0.00535684505293\n",
      "Lambda_f1 0.00441625234942\n",
      "Lambda_f2 0.00312879229408\n",
      "Lambda_f3 0.00181950137162\n",
      "Lambda_f4 0.00128444422326\n",
      "Lambda_f5 0.00124824256835\n",
      "Lambda_f6 0.00162209322943\n",
      "Lambda_f7 0.00103939530794\n",
      "Lambda_f8 0.00179313392404\n",
      "Lambda_f9 0.00266710577329\n",
      "2.83008630622e-12\n"
     ]
    }
   ],
   "source": [
    "for i in range(len(STATIONS)):\n",
    "    print 'Theta_s{0}'.format(i), v.sample('theta_s({0})'.format(i))\n",
    "for i in range(len(STATIONS)):\n",
    "    print 'Lambda_f{0}'.format(i), v.sample('lambda_f({0})'.format(i))\n",
    "    \n",
    "print v.sample('lambda_e')"
   ]
  },
  {
   "cell_type": "code",
   "execution_count": 11,
   "metadata": {
    "collapsed": false
   },
   "outputs": [
    {
     "data": {
      "text/plain": [
       "'<procedure>'"
      ]
     },
     "execution_count": 11,
     "metadata": {},
     "output_type": "execute_result"
    }
   ],
   "source": [
    "v.assume('poss_e_lon','mem( proc(epi,i) {uniform_continuous(0,360)})')\n",
    "v.assume('poss_sin_e_lat','mem( proc(epi,i) { uniform_continuous(-1,1) })')\n",
    "v.assume('poss_e_t','mem( proc(epi,i) {uniform_continuous(0,T) })')\n",
    "v.assume('real_flip','mem( proc(epi,i,k) {flip(det_prob(epi,i,k) * num_e(epi)/(num_e(epi)+num_Xi(epi,k)))})')\n",
    "v.assume('poss_e_fake_travel_time','mem( proc(epi,i,k) {I_t(compute_distance(k,poss_e_lon(epi,i),poss_sin_e_lat(epi,i)))})')\n",
    "v.assume('poss_e_m','''mem( proc(epi,i,k) {\n",
    "         if (real_flip(epi,i,k)) {bounded_expon(mu_m,1/theta_m,gamma_m)} else \n",
    "         {student_t(1,(mu_f(k) - lookup(mu_a(k),0) - (lookup(mu_a(k),2)*poss_e_fake_travel_time(epi,i,k))) / lookup(mu_a(k),1),theta_f(k)/lookup(mu_a(k),1))}})''')\n"
   ]
  },
  {
   "cell_type": "code",
   "execution_count": 12,
   "metadata": {
    "collapsed": false
   },
   "outputs": [],
   "source": [
    "for epi in range(1):\n",
    "    for det_id in range(len(episodes[i].detections)):\n",
    "        det = episodes[i].detections[det_id]\n",
    "        mu_a = v.sample('mu_a({0})'.format(det.stanum))\n",
    "        ML_dist = invert_slowness(det.slowness)\n",
    "        ML_loc = invert_dist_azimuth2(det.stanum,ML_dist,det.azimuth)\n",
    "        ML_mag = (np.log(det.amp)-mu_a[0]-mu_a[2]*compute_travel_time(ML_dist))/mu_a[1]\n",
    "        ML_time = det.time-compute_travel_time(ML_dist)\n",
    "        v.observe('poss_e_lon({0},{1})'.format(epi,det_id),'{0}'.format(ML_loc[0]))\n",
    "        v.observe('poss_sin_e_lat({0},{1})'.format(epi,det_id),'{0}'.format(np.sin(np.radians(ML_loc[1]))))\n",
    "        v.observe('poss_e_t({0},{1})'.format(epi,det_id),'{0}'.format(ML_time))\n",
    "        v.observe('poss_e_m({0},{1},{2})'.format(epi,det_id,det.stanum),'{0}'.format(ML_mag))\n",
    "\n"
   ]
  },
  {
   "cell_type": "code",
   "execution_count": null,
   "metadata": {
    "collapsed": true
   },
   "outputs": [],
   "source": []
  },
  {
   "cell_type": "code",
   "execution_count": 22,
   "metadata": {
    "collapsed": false
   },
   "outputs": [
    {
     "data": {
      "text/plain": [
       "[]"
      ]
     },
     "execution_count": 22,
     "metadata": {},
     "output_type": "execute_result"
    }
   ],
   "source": [
    "v.infer('default_markov_chain(1000)')"
   ]
  },
  {
   "cell_type": "code",
   "execution_count": 23,
   "metadata": {
    "collapsed": false
   },
   "outputs": [
    {
     "name": "stdout",
     "output_type": "stream",
     "text": [
      "[-inf]\n"
     ]
    }
   ],
   "source": [
    "print v.infer('global_posterior') "
   ]
  },
  {
   "cell_type": "code",
   "execution_count": 15,
   "metadata": {
    "collapsed": false,
    "scrolled": false
   },
   "outputs": [
    {
     "name": "stdout",
     "output_type": "stream",
     "text": [
      "False\n",
      "True\n",
      "False\n",
      "False\n",
      "False\n",
      "False\n",
      "False\n",
      "False\n",
      "True\n",
      "False\n",
      "True\n",
      "False\n",
      "False\n",
      "False\n",
      "False\n",
      "False\n",
      "False\n",
      "False\n",
      "False\n",
      "False\n",
      "False\n",
      "False\n",
      "False\n",
      "False\n",
      "False\n",
      "False\n",
      "True\n",
      "False\n",
      "False\n",
      "False\n",
      "False\n",
      "False\n",
      "True\n",
      "False\n",
      "False\n",
      "False\n",
      "False\n",
      "True\n",
      "False\n",
      "True\n",
      "False\n",
      "False\n",
      "False\n",
      "False\n",
      "False\n",
      "False\n",
      "False\n",
      "True\n",
      "False\n",
      "False\n",
      "False\n",
      "False\n",
      "False\n",
      "False\n",
      "True\n",
      "False\n",
      "False\n",
      "False\n",
      "True\n",
      "False\n",
      "False\n",
      "False\n",
      "False\n",
      "False\n",
      "False\n",
      "False\n",
      "False\n",
      "True\n",
      "True\n",
      "False\n",
      "True\n",
      "False\n",
      "False\n",
      "True\n",
      "False\n",
      "False\n",
      "False\n",
      "True\n",
      "False\n",
      "True\n",
      "False\n",
      "False\n",
      "False\n",
      "True\n",
      "False\n",
      "True\n",
      "False\n",
      "False\n",
      "False\n",
      "False\n",
      "True\n",
      "False\n",
      "False\n",
      "False\n",
      "False\n",
      "False\n",
      "False\n",
      "97\n",
      "7\n",
      "16\n",
      "14\n",
      "13\n",
      "7\n",
      "5\n",
      "5\n",
      "6\n",
      "3\n",
      "9\n",
      "12\n"
     ]
    }
   ],
   "source": [
    "\n",
    "for i,det in enumerate(episodes[0].detections):\n",
    "    print v.sample('real_flip({0},{1},{2})'.format(0,i,det.stanum))\n",
    "print len(episodes[0].detections)\n",
    "print v.sample('num_e(0)')\n",
    "for i in range(len(STATIONS)):\n",
    "    print v.sample('num_Xi(0,{0})'.format(i))"
   ]
  },
  {
   "cell_type": "code",
   "execution_count": 16,
   "metadata": {
    "collapsed": false
   },
   "outputs": [
    {
     "name": "stdout",
     "output_type": "stream",
     "text": [
      "OBSERVING EPISODE (0)\n"
     ]
    }
   ],
   "source": [
    "v.assume('assoc_of_det','''mem(proc(epi,det_i,k) {\n",
    "    if(real_flip(epi,det_i,k)) {\n",
    "        uniform_discrete(0,num_e(epi))\n",
    "    } else {\n",
    "        -1 - det_i\n",
    "    }\n",
    "})''')\n",
    "            \n",
    "\n",
    "for i in range(1):\n",
    "    print 'OBSERVING EPISODE (%s)' % (i)\n",
    "    for det_id, det in enumerate(episodes[i].detections):\n",
    "        v.observe('Lambda_t({0}, assoc_of_det({0},{1},{2}), {2})'.format(i, det_id, det.stanum), '%s' % det.time)\n",
    "        v.observe('Lambda_z({0}, assoc_of_det({0},{1},{2}), {2})'.format(i, det_id, det.stanum),'%s' % det.azimuth)\n",
    "        v.observe('Lambda_s({0}, assoc_of_det({0},{1},{2}), {2})'.format(i, det_id, det.stanum),'%s' % det.slowness)\n",
    "        v.observe('log_Lambda_a({0}, assoc_of_det({0},{1},{2}), {2})'.format(i,det_id, det.stanum),'%s' % np.log(det.amp))\n",
    "    "
   ]
  },
  {
   "cell_type": "code",
   "execution_count": null,
   "metadata": {
    "collapsed": true
   },
   "outputs": [],
   "source": [
    "v"
   ]
  }
 ],
 "metadata": {
  "kernelspec": {
   "display_name": "Python 2",
   "language": "python",
   "name": "python2"
  },
  "language_info": {
   "codemirror_mode": {
    "name": "ipython",
    "version": 2
   },
   "file_extension": ".py",
   "mimetype": "text/x-python",
   "name": "python",
   "nbconvert_exporter": "python",
   "pygments_lexer": "ipython2",
   "version": "2.7.9"
  }
 },
 "nbformat": 4,
 "nbformat_minor": 0
}
